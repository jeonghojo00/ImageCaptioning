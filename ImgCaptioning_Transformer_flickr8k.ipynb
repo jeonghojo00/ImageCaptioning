{
  "cells": [
    {
      "cell_type": "markdown",
      "metadata": {
        "id": "view-in-github",
        "colab_type": "text"
      },
      "source": [
        "<a href=\"https://colab.research.google.com/github/jeonghojo00/ImageCaptioning/blob/main/ImgCaptioning_Transformer_flickr8k.ipynb\" target=\"_parent\"><img src=\"https://colab.research.google.com/assets/colab-badge.svg\" alt=\"Open In Colab\"/></a>"
      ]
    },
    {
      "cell_type": "markdown",
      "metadata": {
        "id": "ITQKi60ecc7e"
      },
      "source": [
        "#0. Initialization"
      ]
    },
    {
      "cell_type": "code",
      "execution_count": null,
      "metadata": {
        "id": "E9RrduYbcmcE",
        "colab": {
          "base_uri": "https://localhost:8080/"
        },
        "outputId": "0941e652-4f34-41c4-b551-08e316ff744f"
      },
      "outputs": [
        {
          "output_type": "stream",
          "name": "stdout",
          "text": [
            "Drive already mounted at /content/drive; to attempt to forcibly remount, call drive.mount(\"/content/drive\", force_remount=True).\n"
          ]
        }
      ],
      "source": [
        "# Mount google drive\n",
        "from google.colab import drive\n",
        "drive.mount('/content/drive')"
      ]
    },
    {
      "cell_type": "code",
      "execution_count": null,
      "metadata": {
        "id": "ydMo8oIYcsPa",
        "colab": {
          "base_uri": "https://localhost:8080/"
        },
        "outputId": "6ec126f6-5fff-48cc-9e2b-48c8d11db466"
      },
      "outputs": [
        {
          "output_type": "stream",
          "name": "stdout",
          "text": [
            "/content/drive/MyDrive/Colab Notebooks/ImageCaptioning\n",
            "captions_val2014_fakecap_results.json  lstm_decoder.py\n",
            "captions_val2014.json\t\t       main.py\n",
            "checkpoint\t\t\t       model\n",
            "code\t\t\t\t       models\n",
            "cs7643-final-project\t\t       models.py\n",
            "data\t\t\t\t       pretraining.py\n",
            "data_loader.py\t\t\t       __pycache__\n",
            "efficientnet.py\t\t\t       resize_image.py\n",
            "eval.pkl\t\t\t       resnet.py\n",
            "experiments\t\t\t       show_attend_tell.py\n",
            "image_captioning_loss_200731_2.pkl     split_caption.py\n",
            "image_captioning_loss_200731.pkl       util\n",
            "inception.py\t\t\t       utils.py\n",
            "inf_result.pkl\t\t\t       vgg.py\n",
            "learned_model.npy\t\t       vocab.pkl\n",
            "learned_models\t\t\t       vocabulary.py\n",
            "load_data.py\n"
          ]
        }
      ],
      "source": [
        "# Change directory to the package folder\n",
        "%cd '/content/drive/MyDrive/Colab Notebooks/ImageCaptioning/'\n",
        "# Verify the contents of the current folder\n",
        "!ls"
      ]
    },
    {
      "cell_type": "code",
      "execution_count": null,
      "metadata": {
        "id": "xi74KD1Y2RmM"
      },
      "outputs": [],
      "source": [
        "import sys\n",
        "import subprocess\n",
        "import pkg_resources\n",
        "\n",
        "required = {'efficientnet_pytorch', 'timm', 'tqdm', 'torch', 'torchvision'}\n",
        "installed = {pkg.key for pkg in pkg_resources.working_set}\n",
        "missing = required - installed\n",
        "\n",
        "if missing:\n",
        "    python = sys.executable\n",
        "    subprocess.check_call([python, '-m', 'pip', 'install', *missing], stdout=subprocess.DEVNULL)"
      ]
    },
    {
      "cell_type": "code",
      "execution_count": null,
      "metadata": {
        "id": "pNiNq3zvv_bk",
        "colab": {
          "base_uri": "https://localhost:8080/"
        },
        "outputId": "08a2c13f-3b11-4860-cb8f-0ca894465f87"
      },
      "outputs": [
        {
          "output_type": "stream",
          "name": "stderr",
          "text": [
            "[nltk_data] Downloading package punkt to /root/nltk_data...\n",
            "[nltk_data]   Package punkt is already up-to-date!\n"
          ]
        }
      ],
      "source": [
        "# Import Libraries\n",
        "import os\n",
        "from PIL import Image\n",
        "from tqdm import tqdm\n",
        "import pickle\n",
        "import nltk\n",
        "from collections import Counter\n",
        "import timm\n",
        "import matplotlib.pyplot as plt\n",
        "import pandas as pd\n",
        "import numpy as np\n",
        "\n",
        "import torch\n",
        "import torch.nn as nn\n",
        "import torch.nn.functional as F\n",
        "from torch.nn.utils.rnn import pad_sequence, pack_padded_sequence\n",
        "import torch.optim as optim \n",
        "from torchvision import transforms\n",
        "import torchvision\n",
        "from torch.utils.data import Dataset, DataLoader\n",
        "from torch.autograd import Variable\n",
        "\n",
        "from load_data import *\n",
        "from resize_image import *\n",
        "from split_caption import *"
      ]
    },
    {
      "cell_type": "markdown",
      "source": [
        "#1. Preparation of Images (Train/Val/Test split)"
      ],
      "metadata": {
        "id": "aY7qh7wMzOVi"
      }
    },
    {
      "cell_type": "markdown",
      "source": [
        "## Preprocess images"
      ],
      "metadata": {
        "id": "lqZswf6hGzP0"
      }
    },
    {
      "cell_type": "code",
      "source": [
        "# Define data folder\n",
        "image_dir = './data/flickr8k/Images'\n",
        "caption_path = './data/flickr8k/captions.txt' # Original caption file with path\n",
        "\n",
        "train_image_dir = './data/flickr8k/train/Images' # Resized train images folder\n",
        "val_image_dir = './data/flickr8k/val/Images' # Resized validation images folder\n",
        "test_image_dir = './data/flickr8k/test/Images' # Resized test images folder\n",
        "train_caption_path = \"./data/flickr8k/train/captions.txt\" # Resized train images' captions\n",
        "val_caption_path = \"./data/flickr8k/val/captions.txt\" # Resized validation images' captions\n",
        "test_caption_path = \"./data/flickr8k/test/captions.txt\" # Resized test images' captions\n",
        "num_train_images = 6000\n",
        "num_val_images = 1000\n",
        "\n",
        "\n",
        "vocab_path = \"./vocab.pkl\" # vocabulary file\n",
        "word_threshold = 4 # Minimum occurrances of words\n",
        "\n",
        "resizeImage_required = False\n",
        "if resizeImage_required == True:\n",
        "    save_resized_images(image_dir, train_image_dir, val_image_dir, test_image_dir, num_train_images, num_val_images, resize_size=None)"
      ],
      "metadata": {
        "id": "z3ZAHMJEswuo"
      },
      "execution_count": null,
      "outputs": []
    },
    {
      "cell_type": "markdown",
      "metadata": {
        "id": "NkBSBKWKDtdv"
      },
      "source": [
        "## Preprocess captions for vocab dictionary and caption divisions"
      ]
    },
    {
      "cell_type": "code",
      "execution_count": null,
      "metadata": {
        "id": "v49kh8ncb-Ow"
      },
      "outputs": [],
      "source": [
        "splitCaption_required = False\n",
        "\n",
        "if splitCaption_required == True:\n",
        "    split_caption(caption_path, train_caption_path, val_caption_path, test_caption_path, vocab_path, num_train_images, num_val_images, word_threshold)"
      ]
    },
    {
      "cell_type": "code",
      "execution_count": null,
      "metadata": {
        "colab": {
          "base_uri": "https://localhost:8080/"
        },
        "id": "ybg10OqBRhCv",
        "outputId": "cfa183f1-b8a6-41ff-a51c-e2ee7fb3557d"
      },
      "outputs": [
        {
          "output_type": "stream",
          "name": "stdout",
          "text": [
            "30000 ./data/flickr8k/train/captions.txt\n",
            "5000 ./data/flickr8k/val/captions.txt\n",
            "5455 ./data/flickr8k/test/captions.txt\n"
          ]
        }
      ],
      "source": [
        "# Number of Traning data\n",
        "!wc -l ./data/flickr8k/train/captions.txt\n",
        "# Number of Validation data\n",
        "!wc -l ./data/flickr8k/val/captions.txt\n",
        "# Number of Testing data\n",
        "!wc -l ./data/flickr8k/test/captions.txt"
      ]
    },
    {
      "cell_type": "markdown",
      "source": [
        "#2. Build Model"
      ],
      "metadata": {
        "id": "-Rl3Y3IKrReT"
      }
    },
    {
      "cell_type": "markdown",
      "source": [
        "## 2.1 Patch Embedding"
      ],
      "metadata": {
        "id": "G5o2mQRxA3fd"
      }
    },
    {
      "cell_type": "code",
      "source": [
        "class PatchEmbed(nn.Module):\n",
        "    \"\"\"Split images into patches and embed them\n",
        "\n",
        "    Paramters\n",
        "    ---------\n",
        "    img_size : int\n",
        "        Input size(Height or Width) of an image (it is square)\n",
        "    \n",
        "    patch_size : int\n",
        "        Patch size to be splitted\n",
        "    \n",
        "    in_chans : int\n",
        "        Number of channels (1 or gray scale and 3 for RGB)\n",
        "\n",
        "    Attributes\n",
        "    ----------\n",
        "    num_patches : int\n",
        "        Number of patches per image\n",
        "    \n",
        "    embed_dim : int\n",
        "        Feature dimension\n",
        "\n",
        "    patches : nn.Conv2d\n",
        "        Convolution layer that splits an images into patches and embedding them\n",
        "    \"\"\"\n",
        "    def __init__(self, img_size, patch_size = 16, in_chans = 3, embed_dim = 768):\n",
        "        super().__init__()\n",
        "        self.img_size = img_size\n",
        "        self.patch_size = patch_size\n",
        "        self.in_chans = in_chans\n",
        "        self.embed_dim = embed_dim\n",
        "\n",
        "        self.n_patches = (img_size//patch_size)**2\n",
        "        \n",
        "        self.patching = nn.Conv2d(\n",
        "            in_chans,\n",
        "            embed_dim,\n",
        "            kernel_size=patch_size,\n",
        "            stride=patch_size\n",
        "        )\n",
        "    def forward(self, x):\n",
        "        \"\"\"Run forward pass\n",
        "\n",
        "        Parmaters\n",
        "        ---------\n",
        "        x : torch.Tensor\n",
        "            Shape: (n_samples, in_chans, img_size, img_size)\n",
        "        \n",
        "        Returns\n",
        "        -------\n",
        "        torch.Tensor\n",
        "\n",
        "            Shape : (n_samples, num_patches, embed_dim)\n",
        "        \"\"\"\n",
        "        out = self.patching(x) # (n_samples, embed_dim, H/patch_size, W/patch_size)\n",
        "        out = out.flatten(2)   # (n_samples, embed_dim, num_patches)\n",
        "        out = out.permute(0, 2, 1) # (n_samples, num_patches, embed_dim)\n",
        "\n",
        "        return out\n"
      ],
      "metadata": {
        "id": "to-ILj19gVoB"
      },
      "execution_count": null,
      "outputs": []
    },
    {
      "cell_type": "code",
      "source": [
        "# Example of patching\n",
        "imgs = torch.ones([3, 3, 384, 384])\n",
        "img_size = imgs.shape[2]\n",
        "patch_size = 16\n",
        "in_chans = imgs.shape[1]\n",
        "embed_dim = (patch_size**2) * in_chans\n",
        "patching = PatchEmbed(img_size = img_size, patch_size = patch_size, in_chans = in_chans, embed_dim = embed_dim)\n",
        "\n",
        "print(\"Input shape: \", imgs.shape)\n",
        "afterPatch = patching(imgs)\n",
        "print(\"Shapes after Patching: \", afterPatch.shape)\n",
        "print(f\"{afterPatch.shape[0]} : image channels, \\n{afterPatch.shape[1]} : number of patches, \\n{afterPatch.shape[2]} : embedding dimension\")"
      ],
      "metadata": {
        "id": "cSm7Yryz5UEF",
        "colab": {
          "base_uri": "https://localhost:8080/"
        },
        "outputId": "14089f0b-dbb3-49b0-f833-4b27b6b5eeac"
      },
      "execution_count": null,
      "outputs": [
        {
          "output_type": "stream",
          "name": "stdout",
          "text": [
            "Input shape:  torch.Size([3, 3, 384, 384])\n",
            "Shapes after Patching:  torch.Size([3, 576, 768])\n",
            "3 : image channels, \n",
            "576 : number of patches, \n",
            "768 : embedding dimension\n"
          ]
        }
      ]
    },
    {
      "cell_type": "markdown",
      "source": [
        "## 2_2. Transformer (Custom)"
      ],
      "metadata": {
        "id": "Ry6Pk1kDA7LH"
      }
    },
    {
      "cell_type": "code",
      "source": [
        "import math\n",
        "\n",
        "def attention(q, k, v, d_k, mask=None, dropout=None):\n",
        "    \n",
        "    scores = torch.matmul(q, k.transpose(-2, -1)) /  math.sqrt(d_k)\n",
        "    if mask is not None:\n",
        "        mask = mask.unsqueeze(1)\n",
        "        scores = scores.masked_fill(mask == 0, -1e9)\n",
        "    \n",
        "    scores = F.softmax(scores, dim=-1)\n",
        "    \n",
        "    if dropout is not None:\n",
        "        scores = dropout(scores)\n",
        "        \n",
        "    output = torch.matmul(scores, v)\n",
        "    return output\n",
        "\n",
        "class MultiHeadAttention(nn.Module):\n",
        "    def __init__(self, n_heads, embed_dim, dropout = 0.1):\n",
        "        super().__init__()\n",
        "        \n",
        "        self.d_model = embed_dim\n",
        "        self.d_k = embed_dim // n_heads\n",
        "        self.h = n_heads\n",
        "        \n",
        "        self.q_linear = nn.Linear(embed_dim, embed_dim)\n",
        "        self.v_linear = nn.Linear(embed_dim, embed_dim)\n",
        "        self.k_linear = nn.Linear(embed_dim, embed_dim)\n",
        "        self.dropout = nn.Dropout(dropout)\n",
        "        self.out = nn.Linear(embed_dim, embed_dim)\n",
        "    \n",
        "    def forward(self, q, k, v, mask=None):\n",
        "        \n",
        "        bs = q.size(0)\n",
        "        \n",
        "        # perform linear operation and split into h heads\n",
        "        k = self.k_linear(k).view(bs, -1, self.h, self.d_k)\n",
        "        q = self.q_linear(q).view(bs, -1, self.h, self.d_k)\n",
        "        v = self.v_linear(v).view(bs, -1, self.h, self.d_k)\n",
        "        \n",
        "        # transpose to get dimensions bs * h * sl * d_model\n",
        "        k = k.transpose(1,2)\n",
        "        q = q.transpose(1,2)\n",
        "        v = v.transpose(1,2)\n",
        "        # calculate attention using function we will define next\n",
        "        scores = attention(q, k, v, self.d_k, mask, self.dropout)\n",
        "        \n",
        "        # concatenate heads and put through final linear layer\n",
        "        concat = scores.transpose(1,2).contiguous()\\\n",
        "        .view(bs, -1, self.d_model)\n",
        "        \n",
        "        output = self.out(concat)\n",
        "    \n",
        "        return output\n",
        "\n",
        "\n",
        "class FFN(nn.Module):\n",
        "    \"\"\"Feed Forward Network (Multilayer perceptron)\n",
        "    \n",
        "    Parameters\n",
        "    ----------\n",
        "    in_features : int\n",
        "        Number of input features\n",
        "    \n",
        "    hidden_features : int\n",
        "        Number of nodes in the hidden layer\n",
        "\n",
        "    out_features : int\n",
        "        Number of output features\n",
        "\n",
        "    dropout : float\n",
        "        Dropout proability\n",
        "    \n",
        "    Attributes\n",
        "    ----------\n",
        "    fc1 : nn.Linear\n",
        "        The first linear layer\n",
        "\n",
        "    fc2 : nn.Linear\n",
        "        The second linear layer\n",
        "\n",
        "    drop : nn.Dropout\n",
        "        Dropout layer\n",
        "    \"\"\"\n",
        "    def __init__(self, in_features, hidden_features, out_features, dropout=0.0):\n",
        "        super().__init__()\n",
        "        self.fc1 = nn.Linear(in_features, hidden_features)\n",
        "        self.fc2 = nn.Linear(hidden_features, out_features)\n",
        "        self.drop = nn.Dropout(dropout)\n",
        "    \n",
        "    def forward(self, x):\n",
        "        \"\"\"Run forward pass\n",
        "        FFN(x) = FC2(Dropout(GELU(FC1(x))))\n",
        "\n",
        "        Parameters\n",
        "        ----------\n",
        "        x : torch.Tensor\n",
        "            Shape : (n_samples, n_patches, in_features)\n",
        "\n",
        "        Returns\n",
        "        -------\n",
        "        torch.Tensor\n",
        "            Shape : (n_samples, n_patches, out_features)\n",
        "        \"\"\"\n",
        "        out = self.drop(F.gelu(self.fc1(x))) # (n_samples, n_patches, hidden_features) \n",
        "        out = self.fc2(out)  # (n_samples, n_patches, out_features) \n",
        "        return out\n",
        "\n",
        "class EncoderBlock(nn.Module):\n",
        "    \"\"\"Transformer Encoder block\n",
        "\n",
        "    Parameters\n",
        "    ----------\n",
        "    embed_dim : int\n",
        "        Embedding dimension\n",
        "\n",
        "    n_heads : int\n",
        "        Number of attention heads\n",
        "    \n",
        "    mlp_ratio : float\n",
        "        Determines the hidden dimension size of the MLP module with respect to dim\n",
        "\n",
        "    attn_p, ffn_p : float\n",
        "        Dropout probability\n",
        "\n",
        "    Attributes\n",
        "    ----------\n",
        "    norm1, norm2 = LayerNorm\n",
        "        Layer normalization for each block\n",
        "\n",
        "    attn : Attention\n",
        "        Attention Module\n",
        "\n",
        "    ffn : FFN\n",
        "        FFN Module\n",
        "    \"\"\"\n",
        "    def __init__(self, embed_dim, n_heads, mlp_ratio = 4.0, attn_p=0.0, ffn_p=0.0):\n",
        "        super().__init__()\n",
        "        self.norm1 = nn.LayerNorm(embed_dim, eps = 1e-6)\n",
        "        self.norm2 = nn.LayerNorm(embed_dim, eps = 1e-6)\n",
        "        self.attn = MultiHeadAttention(n_heads = n_heads, \n",
        "                                       embed_dim = embed_dim,\n",
        "                                       dropout=attn_p)\n",
        "    \n",
        "        hidden_features = int(embed_dim * mlp_ratio)\n",
        "        self.ffn = FFN(embed_dim, \n",
        "                       hidden_features = hidden_features, \n",
        "                       out_features = embed_dim,\n",
        "                       dropout=ffn_p)\n",
        "\n",
        "    def forward(self, x, mask=None):\n",
        "        attention = self.attn(x, x, x, mask)\n",
        "        out = self.norm1(attention+x)\n",
        "\n",
        "        forward = self.ffn(out)\n",
        "        out = self.norm2(forward + out)\n",
        "\n",
        "        return out\n",
        "\n",
        "class PositionalEncoding(nn.Module):\n",
        "    \"\"\"Positional Encoding\n",
        "\n",
        "    Parameters\n",
        "    ----------\n",
        "    embed_dim : int\n",
        "        Embedding dimension\n",
        "    \n",
        "    drouput : float\n",
        "        Dropout probability\n",
        "    \n",
        "    max_len : int\n",
        "        Max length of the input\n",
        "\n",
        "    \"\"\"\n",
        "\n",
        "    def __init__(self, embed_dim, dropout = 0.1, max_len = 5000):\n",
        "        super().__init__()\n",
        "        self.dropout = nn.Dropout(p=dropout)\n",
        "\n",
        "        position = torch.arange(max_len).unsqueeze(1)\n",
        "        div_term = torch.exp(torch.arange(0, embed_dim, 2) * (-math.log(10000.0) / embed_dim))\n",
        "        pe = torch.zeros(max_len, 1, embed_dim)\n",
        "        pe[:, 0, 0::2] = torch.sin(position * div_term)\n",
        "        pe[:, 0, 1::2] = torch.cos(position * div_term)\n",
        "        self.register_buffer('pe', pe)\n",
        "\n",
        "    def forward(self, x):\n",
        "        \"\"\"Run the forward pass\n",
        "\n",
        "        Parameters\n",
        "        ----------\n",
        "        x : torch.Tensor\n",
        "            shape [seq_len, batch_size, embedding_dim]\n",
        "        \"\"\"\n",
        "        x = x + self.pe[:x.size(0)]\n",
        "        return self.dropout(x)\n",
        "\n",
        "class Custom_TransformerEncoder(nn.Module):\n",
        "    \"\"\"Customized Transformer Encoder\n",
        "    \n",
        "    Parameters\n",
        "    ----------\n",
        "    img_size : int\n",
        "        Both height and the width of the image (H and W of a square)\n",
        "    \n",
        "    patch_size : int\n",
        "        Both height and the width of the patch (h and w of a square)\n",
        "\n",
        "    in_chans : int\n",
        "        Number of input channels (1 for gray scale and 3 for RGB)\n",
        "\n",
        "    embed_dim : int\n",
        "        Dimensionality of the token embeddings\n",
        "    \n",
        "    depth : int\n",
        "        Number of blocks\n",
        "\n",
        "    n_heads : int\n",
        "        Number of attention heads\n",
        "\n",
        "    mlp_ratio : float\n",
        "        Determines the hidden features of the \"MLP\" module\n",
        "\n",
        "    pos_p, attn_p, ffn_p: float\n",
        "        Dropout probability\n",
        "\n",
        "    Attributes\n",
        "    ----------\n",
        "    patch_embed : PatchEmbed\n",
        "        Instance of \"PatchEmbed\" layer\n",
        "    \n",
        "    pos_encoder : Positional Encoder\n",
        "        Instance of \"PositionalEncoder\" layer\n",
        "\n",
        "    blocks: nn.ModuleList\n",
        "        List of \"Block\" modules\n",
        "    \"\"\"\n",
        "    def __init__(self,\n",
        "                 img_size = 384,\n",
        "                 patch_size = 16,\n",
        "                 in_chans = 3,\n",
        "                 embed_dim = 768,\n",
        "                 depth = 12,\n",
        "                 n_heads = 12,\n",
        "                 mlp_ratio = 4.,\n",
        "                 pos_p = 0.,\n",
        "                 attn_p = 0.,\n",
        "                 ffn_p = 0.\n",
        "                 ):\n",
        "        super().__init__()\n",
        "\n",
        "        self.patch_embed = PatchEmbed(\n",
        "            img_size = img_size,\n",
        "            patch_size = patch_size,\n",
        "            in_chans = in_chans,\n",
        "            embed_dim = embed_dim,\n",
        "        )\n",
        "\n",
        "        self.pos_encoder = PositionalEncoding(embed_dim = embed_dim,\n",
        "                                              dropout = pos_p,\n",
        "                                              max_len = self.patch_embed.n_patches)\n",
        "\n",
        "        self.blocks = nn.ModuleList(\n",
        "            [\n",
        "                EncoderBlock (\n",
        "                    embed_dim = embed_dim,\n",
        "                    n_heads = n_heads,\n",
        "                    mlp_ratio = mlp_ratio,\n",
        "                    attn_p = attn_p,\n",
        "                    ffn_p = ffn_p,\n",
        "                )\n",
        "                for _ in range(depth)\n",
        "            ] \n",
        "        )\n",
        "\n",
        "    def forward(self, x, mask=None):\n",
        "        \"\"\"Run the forward pass.\n",
        "\n",
        "        Parameters\n",
        "        ----------\n",
        "        x : torch.Tensor\n",
        "            Shape : (n_samples, in_chans, img_size, img_size)\n",
        "        \n",
        "        Returns\n",
        "        -------\n",
        "        logits : torch.Tensor\n",
        "            Logits over all the classes : (n_samples, n_classes)\n",
        "        \"\"\"\n",
        "        # Patch embedding\n",
        "        x = self.patch_embed(x)\n",
        "        # Add Positional Embedding\n",
        "        x = self.pos_encoder(x) # (n_samples, n_patches, embed_dim)\n",
        "\n",
        "        for block in self.blocks:\n",
        "            x = block(x, mask)\n",
        "            \n",
        "        return x"
      ],
      "metadata": {
        "id": "mGYqeyYr-MFR"
      },
      "execution_count": null,
      "outputs": []
    },
    {
      "cell_type": "code",
      "source": [
        "class DecoderBlock(nn.Module):\n",
        "    \"\"\"Transformer Decoder block\n",
        "\n",
        "    Parameters\n",
        "    ----------\n",
        "    embed_dim : int\n",
        "        Embedding dimension\n",
        "\n",
        "    n_heads : int\n",
        "        Number of attention heads\n",
        "    \n",
        "    mlp_ratio : float\n",
        "        Determines the hidden dimension size of the MLP module with respect to dim\n",
        "\n",
        "    attn_p, ffn_p : float\n",
        "        Dropout probability\n",
        "\n",
        "    Attributes\n",
        "    ----------\n",
        "    norm1, norm2, norm3 = LayerNorm\n",
        "        Layer normalization for each sublayer\n",
        "\n",
        "    mask_attn = Masked Self-Attention\n",
        "        Masked Self-Attention\n",
        "\n",
        "    cross_attn : Cross Attention\n",
        "        Cross Attention Module with input of output of encoder.\n",
        "        Memory key and value come from the output of the encoder.\n",
        "\n",
        "    ffn : FFN\n",
        "        FFN Module\n",
        "    \"\"\"\n",
        "    def __init__(self, embed_dim, n_heads, mlp_ratio = 4.0, attn_p=0.0, ffn_p=0.0):\n",
        "        super().__init__()\n",
        "        self.norm1 = nn.LayerNorm(embed_dim, eps = 1e-6)\n",
        "        self.norm2 = nn.LayerNorm(embed_dim, eps = 1e-6)\n",
        "        self.norm3 = nn.LayerNorm(embed_dim, eps = 1e-6)\n",
        "        self.mask_attn = MultiHeadAttention(n_heads = n_heads, \n",
        "                                       embed_dim = embed_dim,\n",
        "                                       dropout=attn_p)\n",
        "        self.cross_attn = MultiHeadAttention(n_heads = n_heads, \n",
        "                                       embed_dim = embed_dim,\n",
        "                                       dropout=attn_p)\n",
        "    \n",
        "        hidden_features = int(embed_dim * mlp_ratio)\n",
        "        self.ffn = FFN(embed_dim, \n",
        "                       hidden_features = hidden_features, \n",
        "                       out_features = embed_dim,\n",
        "                       dropout=ffn_p)\n",
        "\n",
        "    def forward(self, x, memory, src_mask=None, trg_mask=None):\n",
        "        self_attn = self.mask_attn(x, x, x, trg_mask)\n",
        "        out = self.norm1(self_attn + x)\n",
        "\n",
        "        cross_attn = self.cross_attn(out, memory, memory, src_mask)\n",
        "        out = self.norm2(cross_attn + out)\n",
        "\n",
        "        forward = self.ffn(out)\n",
        "        out = self.norm3(forward + out)\n",
        "\n",
        "        return out\n",
        "\n",
        "class Custom_TransformerDecoder(nn.Module):\n",
        "    \"\"\"Customized Transformer Decoder\n",
        "    \n",
        "    Parameters\n",
        "    ----------\n",
        "    img_size : int\n",
        "        Both height and the width of the image (H and W of a square)\n",
        "    \n",
        "    patch_size : int\n",
        "        Both height and the width of the patch (h and w of a square)\n",
        "\n",
        "    in_chans : int\n",
        "        Number of input channels (1 for gray scale and 3 for RGB)\n",
        "\n",
        "    embed_dim : int\n",
        "        Dimensionality of the token embeddings\n",
        "    \n",
        "    depth : int\n",
        "        Number of blocks\n",
        "\n",
        "    n_heads : int\n",
        "        Number of attention heads\n",
        "\n",
        "    mlp_ratio : float\n",
        "        Determines the hidden features of the \"MLP\" module\n",
        "\n",
        "    pos_p, attn_p, ffn_p: float\n",
        "        Dropout probability\n",
        "\n",
        "    Attributes\n",
        "    ----------\n",
        "    word_embed : PatchEmbed\n",
        "        Word embedding\n",
        "    \n",
        "    pos_encoder : Positional Encoder\n",
        "        Instance of \"PositionalEncoder\" layer\n",
        "\n",
        "    blocks: nn.ModuleList\n",
        "        List of \"Block\" modules\n",
        "    \"\"\"\n",
        "    def __init__(self,\n",
        "                 vocab_size = 336037,\n",
        "                 embed_dim = 768,\n",
        "                 depth = 12,\n",
        "                 n_heads = 12,\n",
        "                 mlp_ratio = 4.,\n",
        "                 pos_p = 0.,\n",
        "                 attn_p = 0.,\n",
        "                 ffn_p = 0.\n",
        "                 ):\n",
        "        super().__init__()\n",
        "\n",
        "        self.word_embed = nn.Embedding(vocab_size, embed_dim)\n",
        "\n",
        "        self.pos_decoder = PositionalEncoding(embed_dim = embed_dim,\n",
        "                                              dropout = pos_p,\n",
        "                                              max_len = vocab_size)\n",
        "\n",
        "        self.blocks = nn.ModuleList(\n",
        "            [\n",
        "                DecoderBlock (\n",
        "                    embed_dim = embed_dim,\n",
        "                    n_heads = n_heads,\n",
        "                    mlp_ratio = mlp_ratio,\n",
        "                    attn_p = attn_p,\n",
        "                    ffn_p = ffn_p,\n",
        "                )\n",
        "                for _ in range(depth)\n",
        "            ] \n",
        "        )\n",
        "\n",
        "    def forward(self, x, memory, src_mask=None, trg_mask=None):\n",
        "        \"\"\"Run the forward pass.\n",
        "\n",
        "        Parameters\n",
        "        ----------\n",
        "        x : torch.Tensor\n",
        "            Shape : (n_samples, in_chans, img_size, img_size)\n",
        "        \n",
        "        Returns\n",
        "        -------\n",
        "        logits : torch.Tensor\n",
        "            Logits over all the classes : (n_samples, n_classes)\n",
        "        \"\"\"\n",
        "        # Word embedding\n",
        "        x = self.word_embed(x)\n",
        "        # Add Positional Embedding\n",
        "        x = self.pos_decoder(x) # (n_samples, n_patches, embed_dim)\n",
        "\n",
        "        for block in self.blocks:\n",
        "            x = block(x, memory, src_mask, trg_mask)\n",
        "            \n",
        "        return x\n"
      ],
      "metadata": {
        "id": "ga5HaCyiZU4m"
      },
      "execution_count": null,
      "outputs": []
    },
    {
      "cell_type": "code",
      "source": [
        "imgs, captions = next(iter(train_loader))\n",
        "print(imgs.shape)\n",
        "print(captions.shape)"
      ],
      "metadata": {
        "colab": {
          "base_uri": "https://localhost:8080/"
        },
        "id": "DOPMIVgdkLSz",
        "outputId": "2e53f4b1-aa67-4149-b264-e715e3e9128d"
      },
      "execution_count": null,
      "outputs": [
        {
          "output_type": "stream",
          "name": "stdout",
          "text": [
            "torch.Size([10, 3, 384, 384])\n",
            "torch.Size([10, 18])\n"
          ]
        }
      ]
    },
    {
      "cell_type": "code",
      "source": [
        "batch_size = 10\n",
        "\n",
        "# Example of Transformer\n",
        "img_size = 384\n",
        "patch_size = 16\n",
        "in_chans = imgs.shape[1]\n",
        "mlp_ratio = 4.\n",
        "embed_dim = 256#(patch_size**2) * in_chans\n",
        "hidden_features = int(embed_dim * mlp_ratio)\n",
        "encoder_depth=12\n",
        "encoder_heads=8\n",
        "decoder_depth=4\n",
        "decoder_heads=8\n",
        "pos_p=0.0\n",
        "attn_p=0.1\n",
        "ffn_p=0.1\n",
        "vocab_size=5000\n",
        "assert embed_dim % encoder_heads == 0, \"embed_dim must be a multiple of encoder_heads\"\n",
        "assert embed_dim % decoder_heads == 0, \"embed_dim must be a multiple of decoder_heads\"\n",
        "\n",
        "tr_enc = Custom_TransformerEncoder(img_size = img_size,\n",
        "                                   patch_size = patch_size,\n",
        "                                   in_chans = in_chans,\n",
        "                                   embed_dim = embed_dim,\n",
        "                                   depth = encoder_depth,\n",
        "                                   n_heads = encoder_heads,\n",
        "                                   mlp_ratio = mlp_ratio,\n",
        "                                   pos_p = pos_p,\n",
        "                                   attn_p = attn_p,\n",
        "                                   ffn_p = ffn_p\n",
        "                                   )\n",
        "\n",
        "tr_dec = Custom_TransformerDecoder(vocab_size = vocab_size,\n",
        "                                    embed_dim = embed_dim,\n",
        "                                    depth = decoder_depth,\n",
        "                                    n_heads = decoder_heads,\n",
        "                                    mlp_ratio = mlp_ratio,\n",
        "                                    pos_p = pos_p,\n",
        "                                    attn_p = attn_p,\n",
        "                                    ffn_p = ffn_p\n",
        "                                    )\n",
        "\n",
        "memory = tr_enc(imgs)"
      ],
      "metadata": {
        "id": "lKuocqu8ujZg"
      },
      "execution_count": null,
      "outputs": []
    },
    {
      "cell_type": "code",
      "source": [
        "import numpy as np\n",
        "from torch.autograd import Variable\n",
        "\n",
        "def create_tgt_mask(tgt):\n",
        "    target_seq = tgt\n",
        "    target_pad = train_dataset.vocab.stoi['<PAD>']\n",
        "    target_msk = (target_seq != target_pad).unsqueeze(1)\n",
        "    size = target_seq.size(1) # get seq_len for matrix\n",
        "\n",
        "    nopeak_mask = np.triu(np.ones((1,size,size), dtype=int), k=1).astype('uint8')\n",
        "    nopeak_mask = Variable(torch.from_numpy(nopeak_mask) == 0)\n",
        "    target_msk = target_msk & nopeak_mask\n",
        "    return target_msk"
      ],
      "metadata": {
        "id": "-kqwgnfEp3vW"
      },
      "execution_count": null,
      "outputs": []
    },
    {
      "cell_type": "code",
      "source": [
        "# Now we shift the tgt by one so with the <SOS> we predict the token at pos 1\n",
        "y_input = captions[:,:-1]\n",
        "y_expected = captions[:,1:]\n",
        "\n",
        "tgt_mask = create_tgt_mask(y_input)\n",
        "# Forward\n",
        "\n",
        "output = tr_dec(y_input, memory, trg_mask=target_msk)"
      ],
      "metadata": {
        "id": "LSoqxuIHlES5"
      },
      "execution_count": null,
      "outputs": []
    },
    {
      "cell_type": "code",
      "source": [
        "class Custom_Transformer(nn.Module):\n",
        "    def __init__(self, img_size=384, patch_size=16, in_chans=3, embed_dim=768, vocab_size=336037, encoder_depth=12, decoder_depth=12, encoder_heads=12, decoder_heads=12, mlp_ratio=4.0, pos_p=0.0, attn_p=0.1, ffn_p=0.1):\n",
        "        super().__init__()\n",
        "        assert embed_dim % encoder_heads == 0 and embed_dim % decoder_heads == 0, \"Embed dim must be a multiple of encoder heads and decoder heads\"\n",
        "        self.encoder = Custom_TransformerEncoder(img_size = img_size,\n",
        "                                                 patch_size = patch_size,\n",
        "                                                 in_chans = in_chans,\n",
        "                                                 embed_dim = embed_dim,\n",
        "                                                 depth = encoder_depth,\n",
        "                                                 n_heads = encoder_heads,\n",
        "                                                 mlp_ratio = mlp_ratio,\n",
        "                                                 pos_p = pos_p,\n",
        "                                                 attn_p = attn_p,\n",
        "                                                 ffn_p = ffn_p\n",
        "                                                 )\n",
        "        self.decoder = Custom_TransformerDecoder(vocab_size = vocab_size,\n",
        "                                                 embed_dim = embed_dim,\n",
        "                                                 depth = decoder_depth,\n",
        "                                                 n_heads = decoder_heads,\n",
        "                                                 mlp_ratio = mlp_ratio,\n",
        "                                                 pos_p = pos_p,\n",
        "                                                 attn_p = attn_p,\n",
        "                                                 ffn_p = ffn_p\n",
        "                                                 )\n",
        "        self.final_layer = nn.Linear(embed_dim, vocab_size)\n",
        "        \n",
        "    def forward(self, src, trg, src_mask=None, trg_mask=None):\n",
        "        memory = self.encoder(src, src_mask)\n",
        "        output = self.decoder(trg, memory, src_mask, trg_mask)\n",
        "        output = self.final_layer(output)\n",
        "        return output\n",
        "        # we don't perform softmax on the output as this will be handled \n",
        "        # automatically by our loss function\n",
        "\n",
        "    def create_tgt_mask(self, tgt):\n",
        "        target_seq = tgt\n",
        "        target_pad = 0\n",
        "        target_msk = (target_seq != target_pad).unsqueeze(1)\n",
        "        size = target_seq.size(1) # get seq_len for matrix\n",
        "\n",
        "        nopeak_mask = np.triu(np.ones((1,size,size), dtype=int), k=1).astype('uint8')\n",
        "        nopeak_mask = Variable(torch.from_numpy(nopeak_mask) == 0)\n",
        "        target_msk = target_msk & nopeak_mask\n",
        "        return target_msk"
      ],
      "metadata": {
        "id": "9CjJWbREYszg"
      },
      "execution_count": null,
      "outputs": []
    },
    {
      "cell_type": "markdown",
      "source": [
        "##2_3. Practice building model"
      ],
      "metadata": {
        "id": "HANXhSr_raT4"
      }
    },
    {
      "cell_type": "code",
      "source": [
        "class Config(object):\n",
        "    def __init__(self):\n",
        "\n",
        "        # Learning Rates\n",
        "        self.lr_backbone = 1e-5\n",
        "        self.lr = 1e-4\n",
        "\n",
        "        # Epochs\n",
        "        self.epochs = 30\n",
        "        self.lr_drop = 20\n",
        "        self.start_epoch = 0\n",
        "        self.weight_decay = 1e-4\n",
        "\n",
        "        # Backbone\n",
        "        self.backbone = 'resnet101'\n",
        "        self.position_embedding = 'sine'\n",
        "        self.dilation = True\n",
        "        \n",
        "        # Basic\n",
        "        self.device = 'cuda'\n",
        "        self.seed = 42\n",
        "        self.batch_size = 32\n",
        "        self.num_workers = 8\n",
        "        self.checkpoint = './checkpoint.pth'\n",
        "        self.clip_max_norm = 0.1\n",
        "\n",
        "        # Transformer\n",
        "        self.hidden_dim = 256\n",
        "        self.pad_token_id = 0\n",
        "        self.max_position_embeddings = 128\n",
        "        self.layer_norm_eps = 1e-12\n",
        "        self.dropout = 0.1\n",
        "        self.vocab_size = 30522\n",
        "\n",
        "        self.enc_layers = 6\n",
        "        self.dec_layers = 6\n",
        "        self.dim_feedforward = 2048\n",
        "        self.nheads = 8\n",
        "        self.pre_norm = True\n",
        "\n",
        "        # Dataset\n",
        "        self.dir = '../coco'\n",
        "        self.limit = -1"
      ],
      "metadata": {
        "id": "x8oV2YLodMa9"
      },
      "execution_count": null,
      "outputs": []
    },
    {
      "cell_type": "code",
      "source": [
        "config = Config()\n",
        "\n",
        "class DecoderEmbeddings(nn.Module):\n",
        "    def __init__(self, config):\n",
        "        super().__init__()\n",
        "        self.word_embeddings = nn.Embedding(\n",
        "            config.vocab_size, config.hidden_dim, padding_idx=config.pad_token_id)\n",
        "        self.position_embeddings = nn.Embedding(\n",
        "            config.max_position_embeddings, config.hidden_dim\n",
        "        )\n",
        "\n",
        "        self.LayerNorm = torch.nn.LayerNorm(\n",
        "            config.hidden_dim, eps=config.layer_norm_eps)\n",
        "        self.dropout = nn.Dropout(config.dropout)\n",
        "\n",
        "    def forward(self, x):\n",
        "        input_shape = x.size()\n",
        "        seq_length = input_shape[1]\n",
        "        device = x.device\n",
        "\n",
        "        position_ids = torch.arange(\n",
        "            seq_length, dtype=torch.long, device=device)\n",
        "        position_ids = position_ids.unsqueeze(0).expand(input_shape)\n",
        "\n",
        "        input_embeds = self.word_embeddings(x)\n",
        "        position_embeds = self.position_embeddings(position_ids)\n",
        "\n",
        "        embeddings = input_embeds + position_embeds\n",
        "        embeddings = self.LayerNorm(embeddings)\n",
        "        embeddings = self.dropout(embeddings)\n",
        "\n",
        "        return embeddings"
      ],
      "metadata": {
        "id": "s-9j1WPGYnLw"
      },
      "execution_count": null,
      "outputs": []
    },
    {
      "cell_type": "code",
      "source": [
        "class MLP(nn.Module):\n",
        "    \"\"\" Very simple multi-layer perceptron (also called FFN)\"\"\"\n",
        "\n",
        "    def __init__(self, input_dim, hidden_dim, output_dim, num_layers):\n",
        "        super().__init__()\n",
        "        self.num_layers = num_layers\n",
        "        h = [hidden_dim] * (num_layers - 1)\n",
        "        self.layers = nn.ModuleList(nn.Linear(n, k)\n",
        "                                    for n, k in zip([input_dim] + h, h + [output_dim]))\n",
        "\n",
        "    def forward(self, x):\n",
        "        for i, layer in enumerate(self.layers):\n",
        "            x = F.relu(layer(x)) if i < self.num_layers - 1 else layer(x)\n",
        "        return x\n",
        "\n",
        "mlp = MLP(256, 512, 30522, 3)\n",
        "mlp"
      ],
      "metadata": {
        "colab": {
          "base_uri": "https://localhost:8080/"
        },
        "id": "seC8rFqD98a0",
        "outputId": "923dc516-34e4-48c4-d1bd-1dffc1625e71"
      },
      "execution_count": null,
      "outputs": [
        {
          "output_type": "execute_result",
          "data": {
            "text/plain": [
              "MLP(\n",
              "  (layers): ModuleList(\n",
              "    (0): Linear(in_features=256, out_features=512, bias=True)\n",
              "    (1): Linear(in_features=512, out_features=512, bias=True)\n",
              "    (2): Linear(in_features=512, out_features=30522, bias=True)\n",
              "  )\n",
              ")"
            ]
          },
          "metadata": {},
          "execution_count": 57
        }
      ]
    },
    {
      "cell_type": "markdown",
      "metadata": {
        "id": "QKHVQUYlc7ZP"
      },
      "source": [
        "#3. Prepare dataset and dataloader"
      ]
    },
    {
      "cell_type": "code",
      "source": [
        "import string\n",
        "import spacy\n",
        "\n",
        "spacy_eng = spacy.load(\"en_core_web_sm\")\n",
        "\n",
        "class Vocabulary(object):\n",
        "    def __init__(self, freq_threshold):\n",
        "        self.stoi = {}\n",
        "        self.itos = {}\n",
        "        self.idx = 0\n",
        "        self.freq_threshold = freq_threshold\n",
        "\n",
        "    def add_word(self, word):\n",
        "        if not word in self.stoi:\n",
        "            self.stoi[word] = self.idx\n",
        "            self.itos[self.idx] = word\n",
        "            self.idx += 1\n",
        "\n",
        "    def __call__(self, word):\n",
        "        if not word in self.stoi:\n",
        "            return self.stoi['<UNK>']\n",
        "        return self.stoi[word]\n",
        "\n",
        "    def __len__(self):\n",
        "        return len(self.stoi)\n",
        "    \n",
        "    @staticmethod\n",
        "    def tokenizer_eng(text):\n",
        "        return [tok.text.lower() for tok in spacy_eng.tokenizer(text)]\n",
        "\n",
        "    def build_vocabulary(self, sentences):\n",
        "        counter = Counter()\n",
        "        for caption in sentences:\n",
        "            caption = caption.translate(str.maketrans('', '', string.punctuation)).strip()\n",
        "            tokens = nltk.tokenize.word_tokenize(caption.lower())\n",
        "            counter.update(tokens) # 각 토큰의 개수 세기\n",
        "\n",
        "        words = [word for word, cnt in counter.items() if cnt >= self.freq_threshold]\n",
        "\n",
        "        self.add_word('<PAD>')\n",
        "        self.add_word('<SOS>')\n",
        "        self.add_word('<EOS>')\n",
        "        self.add_word('<UNK>') # unknown 토큰\n",
        "\n",
        "        # Vocabulary 객체에 모든 단어를 담기\n",
        "        for word in words:\n",
        "            self.add_word(word)\n",
        "    \n",
        "    def numericalize(self,sentence):\n",
        "        tokenized_text = self.tokenizer_eng(sentence)\n",
        "        \n",
        "        return [self.stoi[word] if word in self.stoi else self.stoi[\"<UNK>\"] for word in tokenized_text ]\n",
        "                    \n",
        "class FlickrDataset(Dataset):\n",
        "    def __init__(self, root_dir='./data/flickr8k/Images', caption_path='./data/flickr8k/captions.txt', freq_threshold=10, transform=None):\n",
        "        self.freq_threshold = freq_threshold\n",
        "        self.transform = transform\n",
        "        self.root_dir = root_dir\n",
        "    \n",
        "        self.df = pd.read_csv(caption_path, names=['image', 'caption'])\n",
        "        \n",
        "        self.captions = self.df['caption']\n",
        "        self.images = self.df['image']\n",
        "        \n",
        "        self.vocab = Vocabulary(freq_threshold)\n",
        "        \n",
        "        print(len(self.captions.tolist()))\n",
        "        self.vocab.build_vocabulary(self.captions.tolist())\n",
        "    \n",
        "    def __len__(self):\n",
        "        return len(self.df)\n",
        "    \n",
        "    def __getitem__(self, index):\n",
        "        caption = self.captions[index]\n",
        "        image = self.images[index]\n",
        "        \n",
        "        img = Image.open(os.path.join(self.root_dir,image)).convert(\"RGB\")\n",
        "        \n",
        "        if (self.transform):\n",
        "            img = self.transform(img)\n",
        "        \n",
        "        numericalized_caption = [self.vocab.stoi[\"<SOS>\"]]\n",
        "        caption = caption.translate(str.maketrans('', '', string.punctuation)).strip()\n",
        "        numericalized_caption += self.vocab.numericalize(caption)\n",
        "        numericalized_caption.append(self.vocab.stoi[\"<EOS>\"])\n",
        "        \n",
        "        return img, torch.tensor(numericalized_caption)\n",
        "\n",
        "class MyCollate:\n",
        "    def __init__(self, pad_value):\n",
        "        self.pad_value = pad_value\n",
        "    \n",
        "    def __call__(self,batch):\n",
        "        imgs = [item[0].unsqueeze(0) for item in batch]\n",
        "        img = torch.cat(imgs, dim=0)\n",
        "        targets = [item[1] for item in batch]\n",
        "        targets = pad_sequence(targets, batch_first=True, padding_value=self.pad_value)\n",
        "        \n",
        "        return img, targets\n",
        "\n",
        "\n",
        "def getLoader(root_dir=\"./data/flickr8k/train/Images\", caption_path=\"./data/flickr8k/train/captions.txt\", word_frequency=5, transform=None, batch_size=32, num_workers=0, shuffle=True, pin_memory=True):\n",
        "    dataset = FlickrDataset(root_dir=root_dir,caption_path=caption_path, freq_threshold=word_frequency, transform=transform)\n",
        "    pad_value = dataset.vocab.stoi[\"<PAD>\"]\n",
        "    \n",
        "    loader = DataLoader(dataset=dataset, batch_size=batch_size, num_workers=num_workers, shuffle=True, pin_memory=True, collate_fn=MyCollate(pad_value))\n",
        "    \n",
        "    return loader, dataset     "
      ],
      "metadata": {
        "id": "dBEgXYmEueUM"
      },
      "execution_count": null,
      "outputs": []
    },
    {
      "cell_type": "code",
      "source": [
        "# Include caplen\n",
        "import string\n",
        "import spacy\n",
        "\n",
        "spacy_eng = spacy.load(\"en_core_web_sm\")\n",
        "\n",
        "class Vocabulary(object):\n",
        "    def __init__(self, freq_threshold):\n",
        "        self.stoi = {}\n",
        "        self.itos = {}\n",
        "        self.idx = 0\n",
        "        self.freq_threshold = freq_threshold\n",
        "\n",
        "    def add_word(self, word):\n",
        "        if not word in self.stoi:\n",
        "            self.stoi[word] = self.idx\n",
        "            self.itos[self.idx] = word\n",
        "            self.idx += 1\n",
        "\n",
        "    def __call__(self, word):\n",
        "        if not word in self.stoi:\n",
        "            return self.stoi['<UNK>']\n",
        "        return self.stoi[word]\n",
        "\n",
        "    def __len__(self):\n",
        "        return len(self.stoi)\n",
        "    \n",
        "    @staticmethod\n",
        "    def tokenizer_eng(text):\n",
        "        return [tok.text.lower() for tok in spacy_eng.tokenizer(text)]\n",
        "\n",
        "    def build_vocabulary(self, sentences):\n",
        "        counter = Counter()\n",
        "        for caption in sentences:\n",
        "            caption = caption.translate(str.maketrans('', '', string.punctuation)).strip()\n",
        "            tokens = nltk.tokenize.word_tokenize(caption.lower())\n",
        "            counter.update(tokens) # 각 토큰의 개수 세기\n",
        "\n",
        "        words = [word for word, cnt in counter.items() if cnt >= self.freq_threshold]\n",
        "\n",
        "        self.add_word('<PAD>')\n",
        "        self.add_word('<SOS>')\n",
        "        self.add_word('<EOS>')\n",
        "        self.add_word('<UNK>') # unknown 토큰\n",
        "\n",
        "        # Vocabulary 객체에 모든 단어를 담기\n",
        "        for word in words:\n",
        "            self.add_word(word)\n",
        "    \n",
        "    def numericalize(self,sentence):\n",
        "        tokenized_text = self.tokenizer_eng(sentence)\n",
        "        \n",
        "        return [self.stoi[word] if word in self.stoi else self.stoi[\"<UNK>\"] for word in tokenized_text ]\n",
        "                    \n",
        "class FlickrDataset(Dataset):\n",
        "    def __init__(self, root_dir='./data/flickr8k/Images', caption_path='./data/flickr8k/captions.txt', freq_threshold=10, max_cap_len = 50, transform=None):\n",
        "        self.freq_threshold = freq_threshold\n",
        "        self.transform = transform\n",
        "        self.root_dir = root_dir\n",
        "    \n",
        "        self.df = pd.read_csv(caption_path, names=['image', 'caption'])\n",
        "        \n",
        "        self.captions = self.df['caption']\n",
        "        self.images = self.df['image']\n",
        "        self.max_cap_len = max_cap_len\n",
        "        \n",
        "        self.vocab = Vocabulary(freq_threshold)\n",
        "        \n",
        "        print(len(self.captions.tolist()))\n",
        "        self.vocab.build_vocabulary(self.captions.tolist())\n",
        "    \n",
        "    def __len__(self):\n",
        "        return len(self.df)\n",
        "    \n",
        "    def __getitem__(self, index):\n",
        "        caption = self.captions[index]\n",
        "        image = self.images[index]\n",
        "        \n",
        "        img = Image.open(os.path.join(self.root_dir,image)).convert(\"RGB\")\n",
        "        \n",
        "        if (self.transform):\n",
        "            img = self.transform(img)\n",
        "        \n",
        "        '''\n",
        "        numericalized_caption = [self.vocab.stoi[\"<SOS>\"]]\n",
        "        caption = caption.translate(str.maketrans('', '', string.punctuation)).strip()\n",
        "        numericalized_caption += self.vocab.numericalize(caption)\n",
        "        numericalized_caption.append(self.vocab.stoi[\"<EOS>\"])\n",
        "        '''\n",
        "        c = self.vocab.tokenizer_eng(caption.translate(str.maketrans('', '', string.punctuation)).strip())\n",
        "        numericalized_caption = [self.vocab.stoi['<SOS>']] + \\\n",
        "                                [self.vocab.stoi.get(word, self.vocab.stoi['<UNK>']) for word in c] + \\\n",
        "                                [self.vocab.stoi['<EOS>']] + \\\n",
        "                                [self.vocab.stoi['<PAD>']] * (self.max_cap_len - len(c))\n",
        "        caplen = len(c)+2\n",
        "        \n",
        "        return img, torch.LongTensor(numericalized_caption), [caplen]\n",
        "'''\n",
        "class MyCollate:\n",
        "    def __init__(self, pad_value):\n",
        "        self.pad_value = pad_value\n",
        "    \n",
        "    def __call__(self,batch):\n",
        "        imgs = [item[0].unsqueeze(0) for item in batch]\n",
        "        img = torch.cat(imgs, dim=0)\n",
        "        targets = [item[1] for item in batch]\n",
        "        caplens = [item[2] for item in batch]\n",
        "        #targets = pad_sequence(targets, batch_first=True, padding_value=self.pad_value)\n",
        "        \n",
        "        return img, targets, torch.LongTensor(caplens)\n",
        "'''\n",
        "def collate_fn_caplen(batch):\n",
        "    imgs = [item[0].unsqueeze(0) for item in batch]\n",
        "    img = torch.cat(imgs, dim=0)\n",
        "    targets = [item[1].unsqueeze(0) for item in batch]\n",
        "    target = torch.cat(targets, dim=0)\n",
        "    caplens = [item[2] for item in batch]\n",
        "    return img, target, torch.LongTensor(caplens)\n",
        "\n",
        "\n",
        "def getLoader(root_dir=\"./data/flickr8k/train/Images\", caption_path=\"./data/flickr8k/train/captions.txt\", word_frequency=5, max_cap_len=50, transform=None, batch_size=32, num_workers=0, shuffle=True, pin_memory=True):\n",
        "    dataset = FlickrDataset(root_dir=root_dir,caption_path=caption_path, freq_threshold=word_frequency, max_cap_len=max_cap_len, transform=transform)\n",
        "    pad_value = dataset.vocab.stoi[\"<PAD>\"]\n",
        "    \n",
        "    #loader = DataLoader(dataset=dataset, batch_size=batch_size, num_workers=num_workers, shuffle=True, pin_memory=True, collate_fn=MyCollate(pad_value))\n",
        "    loader = DataLoader(dataset=dataset, batch_size=batch_size, num_workers=num_workers, shuffle=True, pin_memory=True, collate_fn=collate_fn_caplen)\n",
        "    return loader, dataset     "
      ],
      "metadata": {
        "id": "c3WvwUnmjD3s"
      },
      "execution_count": null,
      "outputs": []
    },
    {
      "cell_type": "code",
      "source": [
        "mean, std = (0.485, 0.456, 0.406), (0.229, 0.224, 0.225)\n",
        "img_size = 256\n",
        "\n",
        "train_transform = transforms.Compose([ \n",
        "    transforms.Resize((img_size, img_size)),\n",
        "    transforms.RandomHorizontalFlip(), \n",
        "    transforms.ToTensor(), \n",
        "    transforms.Normalize(mean, std)])\n",
        "\n",
        "train_loader, train_dataset = getLoader(root_dir=train_image_dir, \n",
        "                                         caption_path=train_caption_path, \n",
        "                                         word_frequency=5,\n",
        "                                         transform=train_transform, \n",
        "                                         batch_size=10, \n",
        "                                         num_workers=0, \n",
        "                                         shuffle=True, \n",
        "                                         pin_memory=True)\n"
      ],
      "metadata": {
        "id": "jBGXfs_-UThu",
        "colab": {
          "base_uri": "https://localhost:8080/"
        },
        "outputId": "1443a8f4-76d1-4d88-a605-d7398d95bbe4"
      },
      "execution_count": null,
      "outputs": [
        {
          "output_type": "stream",
          "name": "stdout",
          "text": [
            "30000\n"
          ]
        }
      ]
    },
    {
      "cell_type": "code",
      "source": [
        "imgs, captions, caplens = next(iter(train_loader))"
      ],
      "metadata": {
        "id": "KxTYiMiKafjS"
      },
      "execution_count": null,
      "outputs": []
    },
    {
      "cell_type": "code",
      "source": [
        "print(imgs.shape)\n",
        "print(captions.shape)\n",
        "print(caplens.shape)"
      ],
      "metadata": {
        "colab": {
          "base_uri": "https://localhost:8080/"
        },
        "id": "XNZ-s117cI2d",
        "outputId": "a6fb2086-67b7-4759-acc0-3ac9b0b5de75"
      },
      "execution_count": null,
      "outputs": [
        {
          "output_type": "stream",
          "name": "stdout",
          "text": [
            "torch.Size([10, 3, 256, 256])\n",
            "torch.Size([10, 52])\n",
            "torch.Size([10, 1])\n"
          ]
        }
      ]
    },
    {
      "cell_type": "code",
      "source": [
        "caplens"
      ],
      "metadata": {
        "colab": {
          "base_uri": "https://localhost:8080/"
        },
        "id": "YowMAsNclzXU",
        "outputId": "7090f644-d834-433d-e8a9-17e6293f7c18"
      },
      "execution_count": null,
      "outputs": [
        {
          "output_type": "execute_result",
          "data": {
            "text/plain": [
              "[tensor([11, 13, 21, 10, 17, 12, 11,  8, 11,  9])]"
            ]
          },
          "metadata": {},
          "execution_count": 78
        }
      ]
    },
    {
      "cell_type": "code",
      "source": [
        "idx = 3\n",
        "x = imgs[idx]\n",
        "y = captions[idx]\n",
        "print(caplens[idx])\n",
        "plt.imshow(x.permute(1,2,0))\n",
        "print(y)\n",
        "for i in y:\n",
        "    print(train_dataset.vocab.itos[int(i)],end=\" \")"
      ],
      "metadata": {
        "colab": {
          "base_uri": "https://localhost:8080/",
          "height": 236
        },
        "id": "A0NdD6wiLI3Z",
        "outputId": "b0b9b65c-809d-41cd-82d7-1178b4c19a7e"
      },
      "execution_count": null,
      "outputs": [
        {
          "output_type": "error",
          "ename": "IndexError",
          "evalue": "ignored",
          "traceback": [
            "\u001b[0;31m---------------------------------------------------------------------------\u001b[0m",
            "\u001b[0;31mIndexError\u001b[0m                                Traceback (most recent call last)",
            "\u001b[0;32m<ipython-input-77-6e929bb0c3e6>\u001b[0m in \u001b[0;36m<module>\u001b[0;34m()\u001b[0m\n\u001b[1;32m      2\u001b[0m \u001b[0mx\u001b[0m \u001b[0;34m=\u001b[0m \u001b[0mimgs\u001b[0m\u001b[0;34m[\u001b[0m\u001b[0midx\u001b[0m\u001b[0;34m]\u001b[0m\u001b[0;34m\u001b[0m\u001b[0;34m\u001b[0m\u001b[0m\n\u001b[1;32m      3\u001b[0m \u001b[0my\u001b[0m \u001b[0;34m=\u001b[0m \u001b[0mcaptions\u001b[0m\u001b[0;34m[\u001b[0m\u001b[0midx\u001b[0m\u001b[0;34m]\u001b[0m\u001b[0;34m\u001b[0m\u001b[0;34m\u001b[0m\u001b[0m\n\u001b[0;32m----> 4\u001b[0;31m \u001b[0mprint\u001b[0m\u001b[0;34m(\u001b[0m\u001b[0mcaplens\u001b[0m\u001b[0;34m[\u001b[0m\u001b[0midx\u001b[0m\u001b[0;34m]\u001b[0m\u001b[0;34m)\u001b[0m\u001b[0;34m\u001b[0m\u001b[0;34m\u001b[0m\u001b[0m\n\u001b[0m\u001b[1;32m      5\u001b[0m \u001b[0mplt\u001b[0m\u001b[0;34m.\u001b[0m\u001b[0mimshow\u001b[0m\u001b[0;34m(\u001b[0m\u001b[0mx\u001b[0m\u001b[0;34m.\u001b[0m\u001b[0mpermute\u001b[0m\u001b[0;34m(\u001b[0m\u001b[0;36m1\u001b[0m\u001b[0;34m,\u001b[0m\u001b[0;36m2\u001b[0m\u001b[0;34m,\u001b[0m\u001b[0;36m0\u001b[0m\u001b[0;34m)\u001b[0m\u001b[0;34m)\u001b[0m\u001b[0;34m\u001b[0m\u001b[0;34m\u001b[0m\u001b[0m\n\u001b[1;32m      6\u001b[0m \u001b[0mprint\u001b[0m\u001b[0;34m(\u001b[0m\u001b[0my\u001b[0m\u001b[0;34m)\u001b[0m\u001b[0;34m\u001b[0m\u001b[0;34m\u001b[0m\u001b[0m\n",
            "\u001b[0;31mIndexError\u001b[0m: list index out of range"
          ]
        }
      ]
    },
    {
      "cell_type": "code",
      "source": [
        "cnn_model"
      ],
      "metadata": {
        "id": "pqSLpR5MW_fl"
      },
      "execution_count": null,
      "outputs": []
    },
    {
      "cell_type": "code",
      "source": [
        "config = Config()\n",
        "\n",
        "criterion = nn.CrossEntropyLoss(ignore_index=train_dataset.vocab.stoi[\"<PAD>\"])\n",
        "criterion1 = nn.CrossEntropyLoss(ignore_index=train_dataset.vocab.stoi[\"<PAD>\"])\n",
        "\n",
        "vocab_size=len(train_dataset.vocab)\n",
        "\n",
        "model = Custom_Transformer(img_size = config.img_size,\n",
        "                            patch_size = config.patch_size,\n",
        "                            in_chans = config.in_chans,\n",
        "                            embed_dim = config.embed_dim,\n",
        "                            vocab_size = vocab_size,\n",
        "                            encoder_depth = config.encoder_depth,\n",
        "                            decoder_depth = config.decoder_depth,\n",
        "                            encoder_heads = config.encoder_heads,\n",
        "                            decoder_heads = config.decoder_heads,\n",
        "                            mlp_ratio = config.mlp_ratio,\n",
        "                            pos_p = config.pos_p,\n",
        "                            attn_p = config.attn_p,\n",
        "                            ffn_p = config.ffn_p)\n",
        "    \n",
        "for p in model.parameters():\n",
        "    if p.dim() > 1:\n",
        "        nn.init.xavier_uniform_(p)\n",
        "\n",
        "optimizer = optim.Adam(model.parameters(), lr = config.learning_rate)\n",
        "\n",
        "total_params = sum(\n",
        "    param.numel() for param in model.parameters()\n",
        ")\n",
        "print(f\"Current Model has {total_params} parameters\")\n",
        "device = torch.device('cuda' if torch.cuda.is_available() else 'cpu')\n",
        "model = model.to(device)\n",
        "print(f\"Running Model on {device} device\")\n",
        "\n",
        "epoch_train_loss = 0\n",
        "optimizer.zero_grad()\n",
        "imgs = imgs.to(device)\n",
        "#captions = captions\n",
        "\n",
        "# Now we shift the tgt by one so with the <SOS> we predict the token at pos 1\n",
        "y_input = captions[:,:-1]\n",
        "y_expected = captions[:,1:]\n",
        "tgt_mask = model.create_tgt_mask(y_input).to(device)\n",
        "y_input = y_input.to(device)\n",
        "y_expected = y_expected.to(device)\n",
        "print(f\"y_expected shape: {y_expected.shape}\")\n",
        "\n",
        "# Forward\n",
        "output = model(imgs, y_input, trg_mask=tgt_mask)\n",
        "print(f\"output shape: {output.shape}\")\n",
        "output_flat = output.view(-1, vocab_size)\n",
        "print(f\"output_flat shape: {output_flat.shape}\")\n",
        "            \n",
        "train_loss = criterion(output.reshape(-1, output.shape[2]), y_expected.reshape(-1))\n",
        "train_loss_1 = criterion1(output_flat, y_expected)\n",
        "\n",
        "# Backward\n",
        "train_loss.backward()\n",
        "optimizer.step()"
      ],
      "metadata": {
        "colab": {
          "base_uri": "https://localhost:8080/",
          "height": 468
        },
        "id": "gqPQkFVEFvrA",
        "outputId": "bf5cb079-1619-407c-cf45-64a09a0d358f"
      },
      "execution_count": null,
      "outputs": [
        {
          "output_type": "stream",
          "name": "stdout",
          "text": [
            "Current Model has 32441328 parameters\n",
            "Running Model on cuda device\n",
            "y_expected shape: torch.Size([10, 14])\n",
            "output shape: torch.Size([10, 14, 2544])\n",
            "output_flat shape: torch.Size([140, 2544])\n"
          ]
        },
        {
          "output_type": "error",
          "ename": "ValueError",
          "evalue": "ignored",
          "traceback": [
            "\u001b[0;31m---------------------------------------------------------------------------\u001b[0m",
            "\u001b[0;31mValueError\u001b[0m                                Traceback (most recent call last)",
            "\u001b[0;32m<ipython-input-19-5f1049f6c1cc>\u001b[0m in \u001b[0;36m<module>\u001b[0;34m()\u001b[0m\n\u001b[1;32m     54\u001b[0m \u001b[0;34m\u001b[0m\u001b[0m\n\u001b[1;32m     55\u001b[0m \u001b[0mtrain_loss\u001b[0m \u001b[0;34m=\u001b[0m \u001b[0mcriterion\u001b[0m\u001b[0;34m(\u001b[0m\u001b[0moutput\u001b[0m\u001b[0;34m.\u001b[0m\u001b[0mreshape\u001b[0m\u001b[0;34m(\u001b[0m\u001b[0;34m-\u001b[0m\u001b[0;36m1\u001b[0m\u001b[0;34m,\u001b[0m \u001b[0moutput\u001b[0m\u001b[0;34m.\u001b[0m\u001b[0mshape\u001b[0m\u001b[0;34m[\u001b[0m\u001b[0;36m2\u001b[0m\u001b[0;34m]\u001b[0m\u001b[0;34m)\u001b[0m\u001b[0;34m,\u001b[0m \u001b[0my_expected\u001b[0m\u001b[0;34m.\u001b[0m\u001b[0mreshape\u001b[0m\u001b[0;34m(\u001b[0m\u001b[0;34m-\u001b[0m\u001b[0;36m1\u001b[0m\u001b[0;34m)\u001b[0m\u001b[0;34m)\u001b[0m\u001b[0;34m\u001b[0m\u001b[0;34m\u001b[0m\u001b[0m\n\u001b[0;32m---> 56\u001b[0;31m \u001b[0mtrain_loss_1\u001b[0m \u001b[0;34m=\u001b[0m \u001b[0mcriterion1\u001b[0m\u001b[0;34m(\u001b[0m\u001b[0moutput_flat\u001b[0m\u001b[0;34m,\u001b[0m \u001b[0my_expected\u001b[0m\u001b[0;34m)\u001b[0m\u001b[0;34m\u001b[0m\u001b[0;34m\u001b[0m\u001b[0m\n\u001b[0m\u001b[1;32m     57\u001b[0m \u001b[0;34m\u001b[0m\u001b[0m\n\u001b[1;32m     58\u001b[0m \u001b[0;31m# Backward\u001b[0m\u001b[0;34m\u001b[0m\u001b[0;34m\u001b[0m\u001b[0;34m\u001b[0m\u001b[0m\n",
            "\u001b[0;32m/usr/local/lib/python3.7/dist-packages/torch/nn/modules/module.py\u001b[0m in \u001b[0;36m_call_impl\u001b[0;34m(self, *input, **kwargs)\u001b[0m\n\u001b[1;32m   1128\u001b[0m         if not (self._backward_hooks or self._forward_hooks or self._forward_pre_hooks or _global_backward_hooks\n\u001b[1;32m   1129\u001b[0m                 or _global_forward_hooks or _global_forward_pre_hooks):\n\u001b[0;32m-> 1130\u001b[0;31m             \u001b[0;32mreturn\u001b[0m \u001b[0mforward_call\u001b[0m\u001b[0;34m(\u001b[0m\u001b[0;34m*\u001b[0m\u001b[0minput\u001b[0m\u001b[0;34m,\u001b[0m \u001b[0;34m**\u001b[0m\u001b[0mkwargs\u001b[0m\u001b[0;34m)\u001b[0m\u001b[0;34m\u001b[0m\u001b[0;34m\u001b[0m\u001b[0m\n\u001b[0m\u001b[1;32m   1131\u001b[0m         \u001b[0;31m# Do not call functions when jit is used\u001b[0m\u001b[0;34m\u001b[0m\u001b[0;34m\u001b[0m\u001b[0;34m\u001b[0m\u001b[0m\n\u001b[1;32m   1132\u001b[0m         \u001b[0mfull_backward_hooks\u001b[0m\u001b[0;34m,\u001b[0m \u001b[0mnon_full_backward_hooks\u001b[0m \u001b[0;34m=\u001b[0m \u001b[0;34m[\u001b[0m\u001b[0;34m]\u001b[0m\u001b[0;34m,\u001b[0m \u001b[0;34m[\u001b[0m\u001b[0;34m]\u001b[0m\u001b[0;34m\u001b[0m\u001b[0;34m\u001b[0m\u001b[0m\n",
            "\u001b[0;32m/usr/local/lib/python3.7/dist-packages/torch/nn/modules/loss.py\u001b[0m in \u001b[0;36mforward\u001b[0;34m(self, input, target)\u001b[0m\n\u001b[1;32m   1164\u001b[0m         return F.cross_entropy(input, target, weight=self.weight,\n\u001b[1;32m   1165\u001b[0m                                \u001b[0mignore_index\u001b[0m\u001b[0;34m=\u001b[0m\u001b[0mself\u001b[0m\u001b[0;34m.\u001b[0m\u001b[0mignore_index\u001b[0m\u001b[0;34m,\u001b[0m \u001b[0mreduction\u001b[0m\u001b[0;34m=\u001b[0m\u001b[0mself\u001b[0m\u001b[0;34m.\u001b[0m\u001b[0mreduction\u001b[0m\u001b[0;34m,\u001b[0m\u001b[0;34m\u001b[0m\u001b[0;34m\u001b[0m\u001b[0m\n\u001b[0;32m-> 1166\u001b[0;31m                                label_smoothing=self.label_smoothing)\n\u001b[0m\u001b[1;32m   1167\u001b[0m \u001b[0;34m\u001b[0m\u001b[0m\n\u001b[1;32m   1168\u001b[0m \u001b[0;34m\u001b[0m\u001b[0m\n",
            "\u001b[0;32m/usr/local/lib/python3.7/dist-packages/torch/nn/functional.py\u001b[0m in \u001b[0;36mcross_entropy\u001b[0;34m(input, target, weight, size_average, ignore_index, reduce, reduction, label_smoothing)\u001b[0m\n\u001b[1;32m   3012\u001b[0m     \u001b[0;32mif\u001b[0m \u001b[0msize_average\u001b[0m \u001b[0;32mis\u001b[0m \u001b[0;32mnot\u001b[0m \u001b[0;32mNone\u001b[0m \u001b[0;32mor\u001b[0m \u001b[0mreduce\u001b[0m \u001b[0;32mis\u001b[0m \u001b[0;32mnot\u001b[0m \u001b[0;32mNone\u001b[0m\u001b[0;34m:\u001b[0m\u001b[0;34m\u001b[0m\u001b[0;34m\u001b[0m\u001b[0m\n\u001b[1;32m   3013\u001b[0m         \u001b[0mreduction\u001b[0m \u001b[0;34m=\u001b[0m \u001b[0m_Reduction\u001b[0m\u001b[0;34m.\u001b[0m\u001b[0mlegacy_get_string\u001b[0m\u001b[0;34m(\u001b[0m\u001b[0msize_average\u001b[0m\u001b[0;34m,\u001b[0m \u001b[0mreduce\u001b[0m\u001b[0;34m)\u001b[0m\u001b[0;34m\u001b[0m\u001b[0;34m\u001b[0m\u001b[0m\n\u001b[0;32m-> 3014\u001b[0;31m     \u001b[0;32mreturn\u001b[0m \u001b[0mtorch\u001b[0m\u001b[0;34m.\u001b[0m\u001b[0m_C\u001b[0m\u001b[0;34m.\u001b[0m\u001b[0m_nn\u001b[0m\u001b[0;34m.\u001b[0m\u001b[0mcross_entropy_loss\u001b[0m\u001b[0;34m(\u001b[0m\u001b[0minput\u001b[0m\u001b[0;34m,\u001b[0m \u001b[0mtarget\u001b[0m\u001b[0;34m,\u001b[0m \u001b[0mweight\u001b[0m\u001b[0;34m,\u001b[0m \u001b[0m_Reduction\u001b[0m\u001b[0;34m.\u001b[0m\u001b[0mget_enum\u001b[0m\u001b[0;34m(\u001b[0m\u001b[0mreduction\u001b[0m\u001b[0;34m)\u001b[0m\u001b[0;34m,\u001b[0m \u001b[0mignore_index\u001b[0m\u001b[0;34m,\u001b[0m \u001b[0mlabel_smoothing\u001b[0m\u001b[0;34m)\u001b[0m\u001b[0;34m\u001b[0m\u001b[0;34m\u001b[0m\u001b[0m\n\u001b[0m\u001b[1;32m   3015\u001b[0m \u001b[0;34m\u001b[0m\u001b[0m\n\u001b[1;32m   3016\u001b[0m \u001b[0;34m\u001b[0m\u001b[0m\n",
            "\u001b[0;31mValueError\u001b[0m: Expected input batch_size (140) to match target batch_size (10)."
          ]
        }
      ]
    },
    {
      "cell_type": "code",
      "source": [
        ""
      ],
      "metadata": {
        "id": "Fpe-3AVKOXas"
      },
      "execution_count": null,
      "outputs": []
    },
    {
      "cell_type": "markdown",
      "source": [
        "#4. Train the model"
      ],
      "metadata": {
        "id": "O0r-X1HTrzea"
      }
    },
    {
      "cell_type": "code",
      "source": [
        "def save_checkpoint(state, filename = \"my_checkpoint.pth.tar\"):\n",
        "    print(\"saving checkpoint!\")\n",
        "    torch.save(state, filename)\n",
        "\n",
        "def load_checkpoint(checkpoint, model, optimizer):\n",
        "    print(\"loading checkpoint!\")\n",
        "    model.load_state_dict(checkpoint[\"state_dict\"])\n",
        "    optimizer.load_state_dict(checkpoint[\"optimizer\"])\n",
        "    step = checkpoint[\"step\"]\n",
        "    return model, optimizer, step\n"
      ],
      "metadata": {
        "id": "hRIhQoq9rnlo"
      },
      "execution_count": null,
      "outputs": []
    },
    {
      "cell_type": "code",
      "source": [
        "import torch\n",
        "from torch.nn.utils.rnn import pack_padded_sequence\n",
        "\n",
        "def train(config):\n",
        "    device = torch.device('cuda' if torch.cuda.is_available() else 'cpu')\n",
        "    \n",
        "    # Make a directory that a learned model will be saved\n",
        "    if not os.path.exists(config.models_path):\n",
        "        os.makedirs(config.models_path)\n",
        "\n",
        "    # Make transforms for training, validating, and testing the model\n",
        "    mean, std = (0.485, 0.456, 0.406), (0.229, 0.224, 0.225)\n",
        "    train_transform = transforms.Compose([ \n",
        "        transforms.Resize((config.img_size, config.img_size)),\n",
        "        transforms.RandomHorizontalFlip(), \n",
        "        transforms.ToTensor(), \n",
        "        transforms.Normalize(mean, std)])\n",
        "\n",
        "    val_transform = transforms.Compose([ \n",
        "        transforms.Resize((config.img_size, config.img_size)),\n",
        "        transforms.ToTensor(), \n",
        "        transforms.Normalize(mean, std)])\n",
        "\n",
        "    test_transform = transforms.Compose([ \n",
        "        transforms.Resize((config.img_size, config.img_size)),\n",
        "        transforms.ToTensor(), \n",
        "        transforms.Normalize(mean, std)])\n",
        "    \n",
        "    num_workers = 4 if torch.cuda.is_available() else 0 #colab gpu allows up to 4 workers. laptop cpu only allows 0 worker\n",
        "    word_frequency = 5\n",
        "\n",
        "    # Get the dataloaders\n",
        "    train_image_dir = './data/flickr8k/train/Images' # train images folder\n",
        "    val_image_dir = './data/flickr8k/val/Images' # validation images folder\n",
        "    test_image_dir = './data/flickr8k/test/Images' # test images folder\n",
        "    train_caption_path = \"./data/flickr8k/train/captions.txt\" # train images captions\n",
        "    val_caption_path = \"./data/flickr8k/val/captions.txt\" # validation images captions\n",
        "    test_caption_path = \"./data/flickr8k/test/captions.txt\" # test images captions\n",
        "\n",
        "    train_loader, train_dataset = getLoader(root_dir=train_image_dir, \n",
        "                                            caption_path=train_caption_path, \n",
        "                                            word_frequency=word_frequency,\n",
        "                                            transform=train_transform, \n",
        "                                            batch_size=config.batch_size, \n",
        "                                            num_workers=num_workers, \n",
        "                                            shuffle=True, \n",
        "                                            pin_memory=True)\n",
        "\n",
        "    val_loader, val_dataset = getLoader(root_dir=val_image_dir, \n",
        "                                            caption_path=val_caption_path, \n",
        "                                            word_frequency=word_frequency,                                    \n",
        "                                            transform=val_transform, \n",
        "                                            batch_size=config.batch_size, \n",
        "                                            num_workers=num_workers, \n",
        "                                            shuffle=True, \n",
        "                                            pin_memory=True)\n",
        "\n",
        "    test_loader, test_dataset = getLoader(root_dir=test_image_dir, \n",
        "                                            caption_path=test_caption_path, \n",
        "                                            word_frequency=word_frequency,                                      \n",
        "                                            transform=test_transform, \n",
        "                                            batch_size=config.batch_size, \n",
        "                                            num_workers=num_workers, \n",
        "                                            shuffle=True, \n",
        "                                            pin_memory=True)\n",
        "\n",
        "\n",
        "    criterion = nn.CrossEntropyLoss(ignore_index=train_dataset.vocab.stoi[\"<PAD>\"])\n",
        "\n",
        "    vocab_size=len(train_dataset.vocab)\n",
        "\n",
        "    model = Custom_Transformer(img_size = config.img_size,\n",
        "                            patch_size = config.patch_size,\n",
        "                            in_chans = config.in_chans,\n",
        "                            embed_dim = config.embed_dim,\n",
        "                            vocab_size = vocab_size,\n",
        "                            encoder_depth = config.encoder_depth,\n",
        "                            decoder_depth = config.decoder_depth,\n",
        "                            encoder_heads = config.encoder_heads,\n",
        "                            decoder_heads = config.decoder_heads,\n",
        "                            mlp_ratio = config.mlp_ratio,\n",
        "                            pos_p = config.pos_p,\n",
        "                            attn_p = config.attn_p,\n",
        "                            ffn_p = config.ffn_p)\n",
        "    \n",
        "    for p in model.parameters():\n",
        "        if p.dim() > 1:\n",
        "            nn.init.xavier_uniform_(p)\n",
        "    # this code is very important! It initialises the parameters with a\n",
        "    # range of values that stops the signal fading or getting too big.\n",
        "\n",
        "    optimizer = optim.Adam(model.parameters(), lr = config.learning_rate)\n",
        "\n",
        "    total_params = sum(\n",
        "        param.numel() for param in model.parameters()\n",
        "    )\n",
        "    print(f\"Current Model has {total_params} parameters\")\n",
        "    device = torch.device('cuda' if torch.cuda.is_available() else 'cpu')\n",
        "    model = model.to(device)\n",
        "    print(f\"Running Model on {device} device\")\n",
        "    \n",
        "    model_save_path = os.path.join(config.models_path, config.saved_model_filename)\n",
        "    loss_save_path = os.path.join(config.models_path, config.saved_loss_filename)\n",
        "    step = 0\n",
        "    loss_dict = dict()\n",
        "    loss_dict['train'] = list()\n",
        "    loss_dict['val'] = list()\n",
        "    \n",
        "\n",
        "    if config.load_model:\n",
        "        model, optimizer, step = load_checkpoint(torch.load(model_save_path), model, optimizer)\n",
        "\n",
        "    for epoch in range(config.EPOCHS):\n",
        "        model.train()\n",
        "        if config.save_model:\n",
        "            checkpoint = {\n",
        "                \"state_dict\": model.state_dict(),\n",
        "                \"optimizer\": optimizer.state_dict(),\n",
        "                \"step\": step,\n",
        "            }\n",
        "            save_checkpoint(checkpoint, filename = model_save_path)\n",
        "\n",
        "        # Train\n",
        "        epoch_train_loss = 0\n",
        "        for idx, (imgs, captions) in enumerate(train_loader):\n",
        "            optimizer.zero_grad()\n",
        "            imgs = imgs.to(device)\n",
        "            #captions = captions\n",
        "\n",
        "            # Now we shift the tgt by one so with the <SOS> we predict the token at pos 1\n",
        "            y_input = captions[:,:-1]\n",
        "            y_expected = captions[:,1:]\n",
        "            tgt_mask = model.create_tgt_mask(y_input).to(device)\n",
        "            y_input = y_input.to(device)\n",
        "            y_expected = y_expected.to(device)\n",
        "\n",
        "            # Forward\n",
        "            output = model(imgs, y_input, trg_mask=tgt_mask)\n",
        "            \n",
        "            train_loss = criterion(output.reshape(-1, output.shape[2]), y_expected.reshape(-1))\n",
        "            epoch_train_loss += train_loss.item()\n",
        "\n",
        "            # Backward\n",
        "            train_loss.backward()\n",
        "            optimizer.step()\n",
        "\n",
        "        # Validate\n",
        "        with torch.no_grad():\n",
        "            model.eval()\n",
        "            epoch_val_loss = 0\n",
        "            for idx, (imgs, captions) in enumerate(val_loader):\n",
        "                imgs = imgs.to(device)\n",
        "                #captions = captions.to(device)\n",
        "\n",
        "                # Now we shift the tgt by one so with the <SOS> we predict the token at pos 1\n",
        "                y_input = captions[:,:-1]\n",
        "                y_expected = captions[:,1:]\n",
        "                tgt_mask = model.create_tgt_mask(y_input).to(device)\n",
        "                y_input = y_input.to(device)\n",
        "                y_expected = y_expected.to(device)             \n",
        "\n",
        "                # Forward\n",
        "                output = model(imgs, y_input, trg_mask=tgt_mask)\n",
        "                \n",
        "                val_loss = criterion(output.reshape(-1, output.shape[2]), y_expected.reshape(-1))\n",
        "                epoch_val_loss += val_loss.item()\n",
        "\n",
        "        step+=1\n",
        "        loss_dict['train'].append(epoch_train_loss)\n",
        "        loss_dict['val'].append(epoch_val_loss)\n",
        "        print(f\"Epoch: {epoch} / Train Loss: {epoch_train_loss} / Validation Loss: {epoch_val_loss}\")\n",
        "\n",
        "    # Save loss history \n",
        "    if config.save_result:\n",
        "        with open(config.saved_loss_filename, 'wb') as f:\n",
        "            pickle.dump(loss_dict, f)\n",
        "\n",
        "    plt.plot(list(range(1, config.EPOCHS+1)), loss_dict['train'], label='Train Loss')\n",
        "    plt.plot(list(range(1, config.EPOCHS+1)), loss_dict['val'], label='Validation Loss')\n",
        "    plt.title('Image Captioning Loss curve')\n",
        "    plt.legend(loc='best')\n",
        "    plt.xlabel('epochs')\n",
        "    plt.ylabel('loss')\n",
        "    plt.show()"
      ],
      "metadata": {
        "id": "9jD1OvhtnZMh"
      },
      "execution_count": null,
      "outputs": []
    },
    {
      "cell_type": "markdown",
      "source": [
        "## Exp 1"
      ],
      "metadata": {
        "id": "VXA9naVy3GXK"
      }
    },
    {
      "cell_type": "code",
      "source": [
        "class Config(object):\n",
        "    def __init__(self):\n",
        "        # Load Data\n",
        "        self.img_size = 256\n",
        "        self.batch_size = 32\n",
        "\n",
        "        # Transformer parameters\n",
        "        self.patch_size = 16\n",
        "        self.in_chans = 3\n",
        "        self.mlp_ratio = 2.\n",
        "        self.embed_dim = 256\n",
        "        #self.embed_dim = (self.patch_size**2) * self.in_chans\n",
        "        self.encoder_depth=8\n",
        "        self.encoder_heads=8\n",
        "        self.decoder_depth=4\n",
        "        self.decoder_heads=8\n",
        "        self.pos_p=0.0\n",
        "        self.attn_p=0.2\n",
        "        self.ffn_p=0.1\n",
        "\n",
        "        # For Training and Eval\n",
        "        self.EPOCHS = 20\n",
        "        self.learning_rate = 0.001\n",
        "        assert self.embed_dim % self.encoder_heads == 0, \"embed_dim must be a multiple of encoder_heads\"\n",
        "        assert self.embed_dim % self.decoder_heads == 0, \"embed_dim must be a multiple of decoder_heads\"\n",
        "        \n",
        "        # Save the model and the result\n",
        "        self.load_model = False\n",
        "        self.save_model= True\n",
        "        self.save_result = True\n",
        "        self.models_path = \"./learned_models/\" # model path that learned models will be saved\n",
        "        self.saved_model_filename = \"image_captioning_model_200731.pth.tar\"\n",
        "        self.saved_loss_filename = \"image_captioning_loss_200731.pkl\"\n",
        "\n"
      ],
      "metadata": {
        "id": "4MDV-0H42ty8"
      },
      "execution_count": null,
      "outputs": []
    },
    {
      "cell_type": "code",
      "source": [
        "config = Config()\n",
        "train(config)"
      ],
      "metadata": {
        "colab": {
          "base_uri": "https://localhost:8080/",
          "height": 1000
        },
        "id": "q4nOAnRU2683",
        "outputId": "0ee3904c-063b-49dd-8924-a6f93987ef56"
      },
      "execution_count": null,
      "outputs": [
        {
          "output_type": "stream",
          "name": "stdout",
          "text": [
            "30000\n",
            "5000\n",
            "5455\n",
            "Current Model has 8881904 parameters\n",
            "Running Model on cuda device\n",
            "saving checkpoint!\n",
            "Epoch: 0 / Train Loss: 4881.377447128296 / Validation Loss: 972.0333361625671\n",
            "saving checkpoint!\n",
            "Epoch: 1 / Train Loss: 4686.939743041992 / Validation Loss: 1313.405306339264\n",
            "saving checkpoint!\n",
            "Epoch: 2 / Train Loss: 4601.913410186768 / Validation Loss: 1258.5481181144714\n",
            "saving checkpoint!\n",
            "Epoch: 3 / Train Loss: 4581.517372131348 / Validation Loss: 1387.5554113388062\n",
            "saving checkpoint!\n",
            "Epoch: 4 / Train Loss: 4568.786396026611 / Validation Loss: 1306.6097331047058\n",
            "saving checkpoint!\n",
            "Epoch: 5 / Train Loss: 4561.614007472992 / Validation Loss: 1344.1270751953125\n",
            "saving checkpoint!\n",
            "Epoch: 6 / Train Loss: 4552.894637584686 / Validation Loss: 1376.46653175354\n",
            "saving checkpoint!\n",
            "Epoch: 7 / Train Loss: 4548.108090877533 / Validation Loss: 1260.280589580536\n",
            "saving checkpoint!\n",
            "Epoch: 8 / Train Loss: 4542.685781002045 / Validation Loss: 1268.4758071899414\n",
            "saving checkpoint!\n",
            "Epoch: 9 / Train Loss: 4541.55259180069 / Validation Loss: 1344.029764175415\n",
            "saving checkpoint!\n",
            "Epoch: 10 / Train Loss: 4535.18289232254 / Validation Loss: 1277.8574151992798\n",
            "saving checkpoint!\n",
            "Epoch: 11 / Train Loss: 4529.628970146179 / Validation Loss: 1268.4695777893066\n",
            "saving checkpoint!\n",
            "Epoch: 12 / Train Loss: 4525.294148445129 / Validation Loss: 1283.6968169212341\n",
            "saving checkpoint!\n",
            "Epoch: 13 / Train Loss: 4519.51854801178 / Validation Loss: 1246.2140951156616\n",
            "saving checkpoint!\n",
            "Epoch: 14 / Train Loss: 4514.089930534363 / Validation Loss: 1299.0700731277466\n",
            "saving checkpoint!\n",
            "Epoch: 15 / Train Loss: 4509.127201080322 / Validation Loss: 1246.9178795814514\n",
            "saving checkpoint!\n",
            "Epoch: 16 / Train Loss: 4505.976990699768 / Validation Loss: 1293.306561946869\n",
            "saving checkpoint!\n",
            "Epoch: 17 / Train Loss: 4504.983350276947 / Validation Loss: 1302.5367360115051\n",
            "saving checkpoint!\n",
            "Epoch: 18 / Train Loss: 4500.650772571564 / Validation Loss: 1205.823830127716\n",
            "saving checkpoint!\n",
            "Epoch: 19 / Train Loss: 4499.523142337799 / Validation Loss: 1264.2306699752808\n"
          ]
        },
        {
          "output_type": "display_data",
          "data": {
            "text/plain": [
              "<Figure size 432x288 with 1 Axes>"
            ],
            "image/png": "[encoded data removed]"
          },
          "metadata": {
            "needs_background": "light"
          }
        }
      ]
    },
    {
      "cell_type": "markdown",
      "source": [
        "## Exp 2"
      ],
      "metadata": {
        "id": "ZLX7JW2G3KNt"
      }
    },
    {
      "cell_type": "code",
      "source": [
        "class Config(object):\n",
        "    def __init__(self):\n",
        "        # Load Data\n",
        "        self.img_size = 256\n",
        "        self.batch_size = 32\n",
        "\n",
        "        # Transformer parameters\n",
        "        self.patch_size = 16\n",
        "        self.in_chans = 3\n",
        "        self.mlp_ratio = 2.\n",
        "        self.embed_dim = 512\n",
        "        #self.embed_dim = (self.patch_size**2) * self.in_chans\n",
        "        self.encoder_depth=8\n",
        "        self.encoder_heads=8\n",
        "        self.decoder_depth=4\n",
        "        self.decoder_heads=8\n",
        "        self.pos_p=0.0\n",
        "        self.attn_p=0.2\n",
        "        self.ffn_p=0.2\n",
        "\n",
        "        # For Training and Eval\n",
        "        self.EPOCHS = 20\n",
        "        self.learning_rate = 0.0001\n",
        "        assert self.embed_dim % self.encoder_heads == 0, \"embed_dim must be a multiple of encoder_heads\"\n",
        "        assert self.embed_dim % self.decoder_heads == 0, \"embed_dim must be a multiple of decoder_heads\"\n",
        "        \n",
        "        # Save the model and the result\n",
        "        self.load_model = False\n",
        "        self.save_model= True\n",
        "        self.save_result = True\n",
        "        self.models_path = \"./learned_models/\" # model path that learned models will be saved\n",
        "        self.saved_model_filename = \"image_captioning_model_200731_2.pth.tar\"\n",
        "        self.saved_loss_filename = \"image_captioning_loss_200731_2.pkl\"\n"
      ],
      "metadata": {
        "id": "9DaNbTQzD-R6"
      },
      "execution_count": null,
      "outputs": []
    },
    {
      "cell_type": "code",
      "source": [
        "config = Config()\n",
        "train(config)"
      ],
      "metadata": {
        "colab": {
          "base_uri": "https://localhost:8080/",
          "height": 1000
        },
        "id": "dGTGJiPzD-Us",
        "outputId": "b2482d59-2e23-47d3-d11d-30418d0fb49b"
      },
      "execution_count": null,
      "outputs": [
        {
          "output_type": "stream",
          "name": "stdout",
          "text": [
            "30000\n",
            "5000\n",
            "5455\n",
            "Current Model has 32441328 parameters\n",
            "Running Model on cuda device\n",
            "saving checkpoint!\n",
            "Epoch: 0 / Train Loss: 4757.369761943817 / Validation Loss: 976.2076320648193\n",
            "saving checkpoint!\n",
            "Epoch: 1 / Train Loss: 4216.286834716797 / Validation Loss: 1048.0867638587952\n",
            "saving checkpoint!\n",
            "Epoch: 2 / Train Loss: 3727.9979457855225 / Validation Loss: 1108.2648072242737\n",
            "saving checkpoint!\n",
            "Epoch: 3 / Train Loss: 3500.515816926956 / Validation Loss: 1128.541271686554\n",
            "saving checkpoint!\n",
            "Epoch: 4 / Train Loss: 3358.3692150115967 / Validation Loss: 1149.5333189964294\n",
            "saving checkpoint!\n",
            "Epoch: 5 / Train Loss: 3235.92457985878 / Validation Loss: 1164.117516040802\n",
            "saving checkpoint!\n",
            "Epoch: 6 / Train Loss: 3140.1394896507263 / Validation Loss: 1190.2466039657593\n",
            "saving checkpoint!\n",
            "Epoch: 7 / Train Loss: 3052.7343957424164 / Validation Loss: 1205.2176432609558\n",
            "saving checkpoint!\n",
            "Epoch: 8 / Train Loss: 2972.8715918064117 / Validation Loss: 1197.5930891036987\n",
            "saving checkpoint!\n",
            "Epoch: 9 / Train Loss: 2911.9930713176727 / Validation Loss: 1243.3191118240356\n",
            "saving checkpoint!\n",
            "Epoch: 10 / Train Loss: 2854.0168628692627 / Validation Loss: 1244.9452347755432\n",
            "saving checkpoint!\n",
            "Epoch: 11 / Train Loss: 2803.1942903995514 / Validation Loss: 1257.374836921692\n",
            "saving checkpoint!\n",
            "Epoch: 12 / Train Loss: 2749.149235725403 / Validation Loss: 1265.0961289405823\n",
            "saving checkpoint!\n",
            "Epoch: 13 / Train Loss: 2714.637940645218 / Validation Loss: 1272.0702729225159\n",
            "saving checkpoint!\n",
            "Epoch: 14 / Train Loss: 2671.2831177711487 / Validation Loss: 1262.23827791214\n",
            "saving checkpoint!\n",
            "Epoch: 15 / Train Loss: 2641.02210354805 / Validation Loss: 1280.929615020752\n",
            "saving checkpoint!\n",
            "Epoch: 16 / Train Loss: 2606.8670794963837 / Validation Loss: 1287.274333000183\n",
            "saving checkpoint!\n",
            "Epoch: 17 / Train Loss: 2567.8866686820984 / Validation Loss: 1292.9889912605286\n",
            "saving checkpoint!\n",
            "Epoch: 18 / Train Loss: 2549.832040786743 / Validation Loss: 1292.3501553535461\n",
            "saving checkpoint!\n",
            "Epoch: 19 / Train Loss: 2509.547883272171 / Validation Loss: 1297.7779688835144\n"
          ]
        },
        {
          "output_type": "display_data",
          "data": {
            "text/plain": [
              "<Figure size 432x288 with 1 Axes>"
            ],
            "image/png": "[encoded data removed]"
          },
          "metadata": {
            "needs_background": "light"
          }
        }
      ]
    },
    {
      "cell_type": "markdown",
      "source": [
        "### Exp 3"
      ],
      "metadata": {
        "id": "-QHyk992Gw2s"
      }
    },
    {
      "cell_type": "code",
      "source": [
        "mean, std = (0.485, 0.456, 0.406), (0.229, 0.224, 0.225)\n",
        "img_size = 384\n",
        "\n",
        "# Make transforms for training, validating, and testing the model\n",
        "train_transform = transforms.Compose([ \n",
        "    transforms.Resize((img_size, img_size)),\n",
        "    transforms.RandomHorizontalFlip(), \n",
        "    transforms.ToTensor(), \n",
        "    transforms.Normalize(mean, std)])\n",
        "\n",
        "val_transform = transforms.Compose([ \n",
        "    transforms.Resize((img_size, img_size)),\n",
        "    transforms.ToTensor(), \n",
        "    transforms.Normalize(mean, std)])\n",
        "\n",
        "test_transform = transforms.Compose([ \n",
        "    transforms.Resize((img_size, img_size)),\n",
        "    transforms.ToTensor(), \n",
        "    transforms.Normalize(mean, std)])\n",
        "\n",
        "batch_size = 32\n",
        "num_workers = 4\n",
        "word_frequency = 5\n",
        "\n",
        "# Get the dataloaders\n",
        "train_loader, train_dataset = getLoader(root_dir=train_image_dir, \n",
        "                                        caption_path=train_caption_path, \n",
        "                                        word_frequency=word_frequency,\n",
        "                                        transform=train_transform, \n",
        "                                        batch_size=batch_size, \n",
        "                                        num_workers=num_workers, \n",
        "                                        shuffle=True, \n",
        "                                        pin_memory=True)\n",
        "\n",
        "val_loader, val_dataset = getLoader(root_dir=val_image_dir, \n",
        "                                        caption_path=val_caption_path, \n",
        "                                        word_frequency=word_frequency,                                    \n",
        "                                        transform=val_transform, \n",
        "                                        batch_size=batch_size, \n",
        "                                        num_workers=num_workers, \n",
        "                                        shuffle=True, \n",
        "                                        pin_memory=True)\n",
        "\n",
        "test_loader, test_dataset = getLoader(root_dir=test_image_dir, \n",
        "                                        caption_path=test_caption_path, \n",
        "                                        word_frequency=word_frequency,                                      \n",
        "                                        transform=test_transform, \n",
        "                                        batch_size=batch_size, \n",
        "                                        num_workers=num_workers, \n",
        "                                        shuffle=True, \n",
        "                                        pin_memory=True)"
      ],
      "metadata": {
        "colab": {
          "base_uri": "https://localhost:8080/"
        },
        "id": "_kRGpdSdGzxa",
        "outputId": "a7606ac1-a9e5-4b29-d637-1b564bcbce45"
      },
      "execution_count": null,
      "outputs": [
        {
          "output_type": "stream",
          "name": "stdout",
          "text": [
            "30000\n",
            "5000\n",
            "5455\n"
          ]
        }
      ]
    },
    {
      "cell_type": "code",
      "source": [
        "EPOCHS = 20\n",
        "learning_rate = 0.001\n",
        "criterion = nn.CrossEntropyLoss(ignore_index=train_dataset.vocab.stoi[\"<PAD>\"])\n",
        "\n",
        "# Example of Transformer\n",
        "patch_size = 16\n",
        "in_chans = 3\n",
        "mlp_ratio = 2.\n",
        "embed_dim = 256\n",
        "#embed_dim = (patch_size**2) * in_chans\n",
        "hidden_features = int(embed_dim * mlp_ratio)\n",
        "encoder_depth=12\n",
        "encoder_heads=8\n",
        "decoder_depth=4\n",
        "decoder_heads=8\n",
        "pos_p=0.0\n",
        "attn_p=0.1\n",
        "ffn_p=0.1\n",
        "vocab_size=len(train_dataset.vocab)\n",
        "\n",
        "model = Custom_Transformer(img_size = img_size,\n",
        "                           patch_size = patch_size,\n",
        "                           in_chans = in_chans,\n",
        "                           embed_dim = embed_dim,\n",
        "                           vocab_size = vocab_size,\n",
        "                           encoder_depth = encoder_depth,\n",
        "                           decoder_depth = decoder_depth,\n",
        "                           encoder_heads = encoder_heads,\n",
        "                           decoder_heads = decoder_heads,\n",
        "                           mlp_ratio = mlp_ratio,\n",
        "                           pos_p = pos_p,\n",
        "                           attn_p = attn_p,\n",
        "                           ffn_p = ffn_p)\n",
        "\n",
        "optimizer = optim.Adam(model.parameters(), lr = learning_rate)\n",
        "\n",
        "total_params = sum(\n",
        "\tparam.numel() for param in model.parameters()\n",
        ")\n",
        "print(f\"Current Model has {total_params} parameters\")\n",
        "device = torch.device('cuda' if torch.cuda.is_available() else 'cpu')\n",
        "model = model.to(device)\n",
        "print(f\"Running Model on {device} device\")"
      ],
      "metadata": {
        "colab": {
          "base_uri": "https://localhost:8080/"
        },
        "id": "BjO2E0YsG9Mi",
        "outputId": "bf1e2ddf-567b-436d-cb64-5e9428b50c2b"
      },
      "execution_count": null,
      "outputs": [
        {
          "output_type": "stream",
          "name": "stdout",
          "text": [
            "Current Model has 13647660 parameters\n",
            "Running Model on cuda device\n"
          ]
        }
      ]
    },
    {
      "cell_type": "code",
      "source": [
        "load_model = False\n",
        "save_model= True\n",
        "save_result = True\n",
        "saved_model_path = os.path.join(models_path, \"image_captioning_model_200731.pth.tar\")\n",
        "step = 0\n",
        "loss_dict = dict()\n",
        "loss_dict['train'] = list()\n",
        "loss_dict['val'] = list()\n",
        "loss_path = os.path.join(models_path, \"image_captioning_loss_200731.pkl\")\n",
        "\n",
        "if load_model:\n",
        "    model, optimizer, step = load_checkpoint(torch.load(saved_model_path), model, optimizer)\n",
        "\n",
        "for epoch in range(EPOCHS):\n",
        "    model.train()\n",
        "    if save_model:\n",
        "        checkpoint = {\n",
        "            \"state_dict\": model.state_dict(),\n",
        "            \"optimizer\": optimizer.state_dict(),\n",
        "            \"step\": step,\n",
        "        }\n",
        "        save_checkpoint(checkpoint, filename = saved_model_path)\n",
        "\n",
        "    # Train\n",
        "    epoch_train_loss = 0\n",
        "    for idx, (imgs, captions) in enumerate(train_loader):\n",
        "        optimizer.zero_grad()\n",
        "        imgs = imgs.to(device)\n",
        "        captions = captions.to(device)\n",
        "\n",
        "        # Now we shift the tgt by one so with the <SOS> we predict the token at pos 1\n",
        "        y_input = captions[:,:-1]\n",
        "        y_expected = captions[:,1:]\n",
        "\n",
        "        # Forward\n",
        "        output = model(imgs, y_input)\n",
        "        \n",
        "        train_loss = criterion(output.reshape(-1, output.shape[2]), y_expected.reshape(-1))\n",
        "        epoch_train_loss += train_loss.item()\n",
        "\n",
        "        # Backward\n",
        "        train_loss.backward()\n",
        "        optimizer.step()\n",
        "\n",
        "    # Validate\n",
        "    with torch.no_grad():\n",
        "        model.eval()\n",
        "        epoch_val_loss = 0\n",
        "        for idx, (imgs, captions) in enumerate(val_loader):\n",
        "            imgs = imgs.to(device)\n",
        "            captions = captions.to(device)\n",
        "\n",
        "            # Now we shift the tgt by one so with the <SOS> we predict the token at pos 1\n",
        "            y_input = captions[:,:-1]\n",
        "            y_expected = captions[:,1:]\n",
        "\n",
        "            # Forward\n",
        "            output = model(imgs, y_input)\n",
        "            \n",
        "            val_loss = criterion(output.reshape(-1, output.shape[2]), y_expected.reshape(-1))\n",
        "            epoch_val_loss += val_loss.item()\n",
        "\n",
        "    step+=1\n",
        "    loss_dict['train'].append(epoch_train_loss)\n",
        "    loss_dict['val'].append(epoch_val_loss)\n",
        "    print(f\"Epoch: {epoch} / Train Loss: {epoch_train_loss} / Validation Loss: {epoch_val_loss}\")\n",
        "\n",
        "# Save loss history \n",
        "if save_result:\n",
        "    with open(loss_path, 'wb') as f:\n",
        "        pickle.dump(loss_dict, f)"
      ],
      "metadata": {
        "colab": {
          "base_uri": "https://localhost:8080/"
        },
        "id": "YzYjJFlEHMBS",
        "outputId": "173046d0-47be-414f-f765-b3ec2479ce75"
      },
      "execution_count": null,
      "outputs": [
        {
          "output_type": "stream",
          "name": "stdout",
          "text": [
            "saving checkpoint!\n",
            "Epoch: 0 / Train Loss: 2550.8919488191605 / Validation Loss: 1009.6061401367188\n",
            "saving checkpoint!\n",
            "Epoch: 1 / Train Loss: 1467.3484588861465 / Validation Loss: 992.7778663635254\n",
            "saving checkpoint!\n",
            "Epoch: 2 / Train Loss: 1126.6613512039185 / Validation Loss: 1017.9664421081543\n",
            "saving checkpoint!\n",
            "Epoch: 3 / Train Loss: 943.8435942530632 / Validation Loss: 1019.9210410118103\n",
            "saving checkpoint!\n",
            "Epoch: 4 / Train Loss: 840.3898208141327 / Validation Loss: 1033.7683420181274\n",
            "saving checkpoint!\n",
            "Epoch: 5 / Train Loss: 778.9295016527176 / Validation Loss: 1087.3031611442566\n",
            "saving checkpoint!\n",
            "Epoch: 6 / Train Loss: 729.5199763178825 / Validation Loss: 1079.2211027145386\n",
            "saving checkpoint!\n",
            "Epoch: 7 / Train Loss: 692.3223264217377 / Validation Loss: 1100.2316823005676\n",
            "saving checkpoint!\n",
            "Epoch: 8 / Train Loss: 664.6382794082165 / Validation Loss: 1127.5831723213196\n",
            "saving checkpoint!\n",
            "Epoch: 9 / Train Loss: 639.8651024103165 / Validation Loss: 1133.2075867652893\n",
            "saving checkpoint!\n",
            "Epoch: 10 / Train Loss: 616.8589035272598 / Validation Loss: 1182.104506969452\n",
            "saving checkpoint!\n",
            "Epoch: 11 / Train Loss: 598.8659817278385 / Validation Loss: 1174.2352356910706\n",
            "saving checkpoint!\n",
            "Epoch: 12 / Train Loss: 582.8476184904575 / Validation Loss: 1175.839243888855\n",
            "saving checkpoint!\n",
            "Epoch: 13 / Train Loss: 571.4256086945534 / Validation Loss: 1237.9920353889465\n",
            "saving checkpoint!\n",
            "Epoch: 14 / Train Loss: 554.066479742527 / Validation Loss: 1220.712209224701\n",
            "saving checkpoint!\n",
            "Epoch: 15 / Train Loss: 544.9851243197918 / Validation Loss: 1241.3303923606873\n",
            "saving checkpoint!\n",
            "Epoch: 16 / Train Loss: 531.7657918930054 / Validation Loss: 1251.6322512626648\n",
            "saving checkpoint!\n",
            "Epoch: 17 / Train Loss: 521.3541854023933 / Validation Loss: 1246.7423424720764\n",
            "saving checkpoint!\n",
            "Epoch: 18 / Train Loss: 512.3035690188408 / Validation Loss: 1251.3762683868408\n",
            "saving checkpoint!\n",
            "Epoch: 19 / Train Loss: 502.03285160660744 / Validation Loss: 1285.0822429656982\n"
          ]
        }
      ]
    },
    {
      "cell_type": "code",
      "source": [
        "plt.plot(list(range(1, EPOCHS+1)), loss_dict['train'], label='Train Loss')\n",
        "plt.plot(list(range(1, EPOCHS+1)), loss_dict['val'], label='Validation Loss')\n",
        "plt.title('Image Captioning Loss curve')\n",
        "plt.legend(loc='best')\n",
        "plt.xlabel('epochs')\n",
        "plt.ylabel('loss')\n",
        "plt.show()"
      ],
      "metadata": {
        "colab": {
          "base_uri": "https://localhost:8080/",
          "height": 295
        },
        "id": "4FJnUAHYHMEw",
        "outputId": "91497ee6-7b4e-4f63-b5a5-27af45f2f2c7"
      },
      "execution_count": null,
      "outputs": [
        {
          "output_type": "display_data",
          "data": {
            "text/plain": [
              "<Figure size 432x288 with 1 Axes>"
            ],
            "image/png": "[encoded data removed]"
          },
          "metadata": {
            "needs_background": "light"
          }
        }
      ]
    },
    {
      "cell_type": "code",
      "source": [
        "torch.save(model.state_dict(), os.path.join(models_path, \"my_cptr_200731.ckpt\"))"
      ],
      "metadata": {
        "id": "XKS3o6ZGHZyP"
      },
      "execution_count": null,
      "outputs": []
    },
    {
      "cell_type": "markdown",
      "source": [
        "## Exp 4"
      ],
      "metadata": {
        "id": "_RQZKaPXcfPQ"
      }
    },
    {
      "cell_type": "code",
      "source": [
        "import torch\n",
        "from torch import nn\n",
        "import numpy as np\n",
        "\n",
        "device = torch.device(\"cuda\" if torch.cuda.is_available() else \"cpu\")\n",
        "channel_number = 512\n",
        "\n",
        "\n",
        "class ScaledDotProductAttention(nn.Module):\n",
        "    def __init__(self, QKVdim):\n",
        "        super(ScaledDotProductAttention, self).__init__()\n",
        "        self.QKVdim = QKVdim\n",
        "\n",
        "    def forward(self, Q, K, V, attn_mask):\n",
        "        \"\"\"\n",
        "        :param Q: [batch_size, n_heads, -1(len_q), QKVdim]\n",
        "        :param K, V: [batch_size, n_heads, -1(len_k=len_v), QKVdim]\n",
        "        :param attn_mask: [batch_size, n_heads, len_q, len_k]\n",
        "        \"\"\"\n",
        "        # scores: [batch_size, n_heads, len_q, len_k]\n",
        "        scores = torch.matmul(Q, K.transpose(-1, -2)) / np.sqrt(self.QKVdim)\n",
        "        # Fills elements of self tensor with value where mask is True.\n",
        "        scores.to(device).masked_fill_(attn_mask, -1e9)\n",
        "        attn = nn.Softmax(dim=-1)(scores)  # [batch_size, n_heads, len_q, len_k]\n",
        "        context = torch.matmul(attn, V).to(device)  # [batch_size, n_heads, len_q, QKVdim]\n",
        "        return context, attn\n",
        "\n",
        "\n",
        "class Multi_Head_Attention(nn.Module):\n",
        "    def __init__(self, Q_dim, K_dim, QKVdim, n_heads=8, dropout=0.1):\n",
        "        super(Multi_Head_Attention, self).__init__()\n",
        "        self.W_Q = nn.Linear(Q_dim, QKVdim * n_heads).to(device)\n",
        "        self.W_K = nn.Linear(K_dim, QKVdim * n_heads).to(device)\n",
        "        self.W_V = nn.Linear(K_dim, QKVdim * n_heads).to(device)\n",
        "        self.n_heads = n_heads\n",
        "        self.QKVdim = QKVdim\n",
        "        self.embed_dim = Q_dim\n",
        "        self.dropout = nn.Dropout(p=dropout)\n",
        "        self.W_O = nn.Linear(self.n_heads * self.QKVdim, self.embed_dim).to(device)\n",
        "\n",
        "    def forward(self, Q, K, V, attn_mask):\n",
        "        \"\"\"\n",
        "        In self-encoder attention:\n",
        "                Q = K = V: [batch_size, num_pixels=196, encoder_dim=2048]\n",
        "                attn_mask: [batch_size, len_q=196, len_k=196]\n",
        "        In self-decoder attention:\n",
        "                Q = K = V: [batch_size, max_len=52, embed_dim=512]\n",
        "                attn_mask: [batch_size, len_q=52, len_k=52]\n",
        "        encoder-decoder attention:\n",
        "                Q: [batch_size, 52, 512] from decoder\n",
        "                K, V: [batch_size, 196, 2048] from encoder\n",
        "                attn_mask: [batch_size, len_q=52, len_k=196]\n",
        "        return _, attn: [batch_size, n_heads, len_q, len_k]\n",
        "        \"\"\"\n",
        "        residual, batch_size = Q, Q.size(0)\n",
        "        # q_s: [batch_size, n_heads=8, len_q, QKVdim] k_s/v_s: [batch_size, n_heads=8, len_k, QKVdim]\n",
        "        q_s = self.W_Q(Q).view(batch_size, -1, self.n_heads, self.QKVdim).transpose(1, 2)\n",
        "        k_s = self.W_K(K).view(batch_size, -1, self.n_heads, self.QKVdim).transpose(1, 2)\n",
        "        v_s = self.W_V(V).view(batch_size, -1, self.n_heads, self.QKVdim).transpose(1, 2)\n",
        "        print(f\"Q: {Q.shape}, K: {K.shape}, V: {V.shape}\")\n",
        "        print(f\"q_s: {q_s.shape}, k_s: {k_s.shape}, v_s: {v_s.shape}\")\n",
        "        # attn_mask: [batch_size, self.n_heads, len_q, len_k]\n",
        "        attn_mask = attn_mask.unsqueeze(1).repeat(1, self.n_heads, 1, 1)\n",
        "        # attn: [batch_size, n_heads, len_q, len_k]\n",
        "        # context: [batch_size, n_heads, len_q, QKVdim]\n",
        "        context, attn = ScaledDotProductAttention(self.QKVdim)(q_s, k_s, v_s, attn_mask)\n",
        "        # context: [batch_size, n_heads, len_q, QKVdim] -> [batch_size, len_q, n_heads * QKVdim]\n",
        "        context = context.transpose(1, 2).contiguous().view(batch_size, -1, self.n_heads * self.QKVdim).to(device)\n",
        "        # output: [batch_size, len_q, embed_dim]\n",
        "        output = self.W_O(context)\n",
        "        output = self.dropout(output)\n",
        "        print(\"After output + residual in MHA: \", nn.LayerNorm(self.embed_dim).to(device)(output + residual).shape)\n",
        "        return nn.LayerNorm(self.embed_dim).to(device)(output + residual), attn\n",
        "\n",
        "\n",
        "class PoswiseFeedForwardNet(nn.Module):\n",
        "    def __init__(self, embed_dim, d_ff, dropout):\n",
        "        super(PoswiseFeedForwardNet, self).__init__()\n",
        "        \"\"\"\n",
        "        Two fc layers can also be described by two cnn with kernel_size=1.\n",
        "        \"\"\"\n",
        "        self.conv1 = nn.Conv1d(in_channels=embed_dim, out_channels=d_ff, kernel_size=1).to(device)\n",
        "        self.conv2 = nn.Conv1d(in_channels=d_ff, out_channels=embed_dim, kernel_size=1).to(device)\n",
        "        self.dropout = nn.Dropout(p=dropout)\n",
        "        self.embed_dim = embed_dim\n",
        "\n",
        "    def forward(self, inputs):\n",
        "        \"\"\"\n",
        "        encoder: inputs: [batch_size, len_q=196, embed_dim=2048]\n",
        "        decoder: inputs: [batch_size, max_len=52, embed_dim=512]\n",
        "        \"\"\"\n",
        "        residual = inputs\n",
        "        output = nn.ReLU()(self.conv1(inputs.transpose(1, 2)))\n",
        "        output = self.conv2(output).transpose(1, 2)\n",
        "        output = self.dropout(output)\n",
        "        return nn.LayerNorm(self.embed_dim).to(device)(output + residual)\n",
        "\n",
        "\n",
        "class DecoderLayer(nn.Module):\n",
        "    def __init__(self, embed_dim, dropout, attention_method, n_heads):\n",
        "        super(DecoderLayer, self).__init__()\n",
        "        self.dec_self_attn = Multi_Head_Attention(Q_dim=embed_dim, K_dim=embed_dim, QKVdim=64, n_heads=n_heads, dropout=dropout)\n",
        "        if attention_method == \"ByPixel\":\n",
        "            self.dec_enc_attn = Multi_Head_Attention(Q_dim=embed_dim, K_dim=2048, QKVdim=64, n_heads=n_heads, dropout=dropout)\n",
        "            self.pos_ffn = PoswiseFeedForwardNet(embed_dim=embed_dim, d_ff=2048, dropout=dropout)\n",
        "        elif attention_method == \"ByChannel\":\n",
        "            self.dec_enc_attn = Multi_Head_Attention(Q_dim=embed_dim, K_dim=196, QKVdim=64, n_heads=n_heads, dropout=dropout)\n",
        "            self.pos_ffn = PoswiseFeedForwardNet(embed_dim=embed_dim, d_ff=2048, dropout=dropout)  # need to change\n",
        "\n",
        "    def forward(self, dec_inputs, enc_outputs, dec_self_attn_mask, dec_enc_attn_mask):\n",
        "        \"\"\"\n",
        "        :param dec_inputs: [batch_size, max_len=52, embed_dim=512]\n",
        "        :param enc_outputs: [batch_size, num_pixels=196, 2048]\n",
        "        :param dec_self_attn_mask: [batch_size, 52, 52]\n",
        "        :param dec_enc_attn_mask: [batch_size, 52, 196]\n",
        "        \"\"\"\n",
        "        dec_outputs, dec_self_attn = self.dec_self_attn(dec_inputs, dec_inputs, dec_inputs, dec_self_attn_mask)\n",
        "        print(\"Decoder: Output of Self Attention: \", dec_outputs.shape)\n",
        "        dec_outputs, dec_enc_attn = self.dec_enc_attn(dec_outputs, enc_outputs, enc_outputs, dec_enc_attn_mask)\n",
        "        print(\"Decoder: Output of Encoder-Decoder Attention: \", dec_outputs.shape)\n",
        "        dec_outputs = self.pos_ffn(dec_outputs)\n",
        "        print(\"Decoder: Output of FFN: \", dec_outputs.shape)\n",
        "        return dec_outputs, dec_self_attn, dec_enc_attn\n",
        "\n",
        "\n",
        "class Decoder(nn.Module):\n",
        "    def __init__(self, n_layers, vocab_size, embed_dim, dropout, attention_method, n_heads):\n",
        "        super(Decoder, self).__init__()\n",
        "        self.vocab_size = vocab_size\n",
        "        self.tgt_emb = nn.Embedding(vocab_size, embed_dim, padding_idx=0)\n",
        "        self.pos_emb = nn.Embedding.from_pretrained(self.get_position_embedding_table(embed_dim), freeze=True)\n",
        "        self.dropout = nn.Dropout(p=dropout)\n",
        "        self.layers = nn.ModuleList([DecoderLayer(embed_dim, dropout, attention_method, n_heads) for _ in range(n_layers)])\n",
        "        self.projection = nn.Linear(embed_dim, vocab_size, bias=False).to(device)\n",
        "        self.attention_method = attention_method\n",
        "\n",
        "    def get_position_embedding_table(self, embed_dim):\n",
        "        def cal_angle(position, hid_idx):\n",
        "            return position / np.power(10000, 2 * (hid_idx // 2) / embed_dim)\n",
        "        def get_posi_angle_vec(position):\n",
        "            return [cal_angle(position, hid_idx) for hid_idx in range(embed_dim)]\n",
        "\n",
        "        embedding_table = np.array([get_posi_angle_vec(pos_i) for pos_i in range(52)])\n",
        "        embedding_table[:, 0::2] = np.sin(embedding_table[:, 0::2])  # dim 2i\n",
        "        embedding_table[:, 1::2] = np.cos(embedding_table[:, 1::2])  # dim 2i+1\n",
        "        return torch.FloatTensor(embedding_table).to(device)\n",
        "\n",
        "    def get_attn_pad_mask(self, seq_q, seq_k):\n",
        "        batch_size, len_q = seq_q.size()\n",
        "        batch_size, len_k = seq_k.size()\n",
        "        # In wordmap, <pad>:0\n",
        "        # pad_attn_mask: [batch_size, 1, len_k], one is masking\n",
        "        pad_attn_mask = seq_k.data.eq(0).unsqueeze(1)\n",
        "        return pad_attn_mask.expand(batch_size, len_q, len_k)  # [batch_size, len_q, len_k]\n",
        "\n",
        "    def get_attn_subsequent_mask(self, seq):\n",
        "        attn_shape = [seq.size(0), seq.size(1), seq.size(1)]\n",
        "        subsequent_mask = np.triu(np.ones(attn_shape), k=1)\n",
        "        subsequent_mask = torch.from_numpy(subsequent_mask).byte().to(device)\n",
        "        return subsequent_mask\n",
        "\n",
        "    def forward(self, encoder_out, encoded_captions, caption_lengths):\n",
        "        \"\"\"\n",
        "        :param encoder_out: [batch_size, num_pixels=196, 2048]\n",
        "        :param encoded_captions: [batch_size, 52]\n",
        "        :param caption_lengths: [batch_size, 1]\n",
        "        \"\"\"\n",
        "        batch_size = encoder_out.size(0)\n",
        "        # Sort input data by decreasing lengths.\n",
        "        caption_lengths, sort_ind = caption_lengths.squeeze(1).sort(dim=0, descending=True)\n",
        "        encoder_out = encoder_out[sort_ind]\n",
        "        encoded_captions = encoded_captions[sort_ind]\n",
        "        # We won't decode at the <end> position, since we've finished generating as soon as we generate <end>\n",
        "        # So, decoding lengths are actual lengths - 1\n",
        "        print(\"caption lengths in decoder :\", caption_lengths)\n",
        "        decode_lengths = (caption_lengths - 1).tolist()\n",
        "        print(\"decode  lengths in decoder :\", decode_lengths)\n",
        "\n",
        "        # dec_outputs: [batch_size, max_len=52, embed_dim=512]\n",
        "        # dec_self_attn_pad_mask: [batch_size, len_q=52, len_k=52], 1 if id=0(<pad>)\n",
        "        # dec_self_attn_subsequent_mask: [batch_size, 52, 52], Upper triangle of an array with 1.\n",
        "        # dec_self_attn_mask for self-decoder attention, the position whose val > 0 will be masked.\n",
        "        # dec_enc_attn_mask for encoder-decoder attention.\n",
        "        # e.g. 9488, 23, 53, 74, 0, 0  |  dec_self_attn_mask:\n",
        "        # 0 1 1 1 2 2\n",
        "        # 0 0 1 1 2 2\n",
        "        # 0 0 0 1 2 2\n",
        "        # 0 0 0 0 2 2\n",
        "        # 0 0 0 0 1 2\n",
        "        # 0 0 0 0 1 1\n",
        "        print(\"Output of Target Embedding: \", self.tgt_emb(encoded_captions).shape)\n",
        "        print(\"Output after Positional Encoding: \", self.pos_emb(torch.LongTensor([list(range(52))]*batch_size).to(device)).shape)\n",
        "        dec_outputs = self.tgt_emb(encoded_captions) + self.pos_emb(torch.LongTensor([list(range(52))]*batch_size).to(device))\n",
        "        print(\"Output after Target Embedding and Positional Encoding: \", dec_outputs.shape)\n",
        "        \n",
        "        dec_outputs = self.dropout(dec_outputs)\n",
        "        dec_self_attn_pad_mask = self.get_attn_pad_mask(encoded_captions, encoded_captions)\n",
        "        dec_self_attn_subsequent_mask = self.get_attn_subsequent_mask(encoded_captions)\n",
        "        dec_self_attn_mask = torch.gt((dec_self_attn_pad_mask + dec_self_attn_subsequent_mask), 0)\n",
        "        if self.attention_method == \"ByPixel\":\n",
        "            dec_enc_attn_mask = (torch.tensor(np.zeros((batch_size, 52, 196))).to(device) == torch.tensor(np.ones((batch_size, 52, 196))).to(device))\n",
        "        elif self.attention_method == \"ByChannel\":\n",
        "            dec_enc_attn_mask = (torch.tensor(np.zeros((batch_size, 52, channel_number))).to(device) == torch.tensor(np.ones((batch_size, 52, channel_number))).to(device))\n",
        "\n",
        "        dec_self_attns, dec_enc_attns = [], []\n",
        "        for layer in self.layers:\n",
        "            # attn: [batch_size, n_heads, len_q, len_k]\n",
        "            dec_outputs, dec_self_attn, dec_enc_attn = layer(dec_outputs, encoder_out, dec_self_attn_mask, dec_enc_attn_mask)\n",
        "            dec_self_attns.append(dec_self_attn)\n",
        "            dec_enc_attns.append(dec_enc_attn)\n",
        "        print(\"Output after Decode Layers: \", dec_outputs.shape)\n",
        "        predictions = self.projection(dec_outputs)\n",
        "        print(\"Output after Projection Layers: \", predictions.shape)\n",
        "        return predictions, encoded_captions, decode_lengths, sort_ind, dec_self_attns, dec_enc_attns\n",
        "\n",
        "\n",
        "class EncoderLayer(nn.Module):\n",
        "    def __init__(self, dropout, attention_method, n_heads):\n",
        "        super(EncoderLayer, self).__init__()\n",
        "        \"\"\"\n",
        "        In \"Attention is all you need\" paper, dk = dv = 64, h = 8, N=6\n",
        "        \"\"\"\n",
        "        if attention_method == \"ByPixel\":\n",
        "            self.enc_self_attn = Multi_Head_Attention(Q_dim=2048, K_dim=2048, QKVdim=64, n_heads=n_heads, dropout=dropout)\n",
        "            self.pos_ffn = PoswiseFeedForwardNet(embed_dim=2048, d_ff=4096, dropout=dropout)\n",
        "        elif attention_method == \"ByChannel\":\n",
        "            self.enc_self_attn = Multi_Head_Attention(Q_dim=196, K_dim=196, QKVdim=64, n_heads=n_heads, dropout=dropout)\n",
        "            self.pos_ffn = PoswiseFeedForwardNet(embed_dim=196, d_ff=512, dropout=dropout)\n",
        "\n",
        "    def forward(self, enc_inputs, enc_self_attn_mask):\n",
        "        \"\"\"\n",
        "        :param enc_inputs: [batch_size, num_pixels=196, 2048]\n",
        "        :param enc_outputs: [batch_size, len_q=196, d_model=2048]\n",
        "        :return: attn: [batch_size, n_heads=8, 196, 196]\n",
        "        \"\"\"\n",
        "        enc_outputs, attn = self.enc_self_attn(enc_inputs, enc_inputs, enc_inputs, enc_self_attn_mask)\n",
        "        enc_outputs = self.pos_ffn(enc_outputs)\n",
        "        return enc_outputs, attn\n",
        "\n",
        "\n",
        "class Encoder(nn.Module):\n",
        "    def __init__(self, n_layers, dropout, attention_method, n_heads):\n",
        "        super(Encoder, self).__init__()\n",
        "        if attention_method == \"ByPixel\":\n",
        "            self.pos_emb = nn.Embedding.from_pretrained(self.get_position_embedding_table(), freeze=True)\n",
        "        # self.dropout = nn.Dropout(p=dropout)\n",
        "        self.layers = nn.ModuleList([EncoderLayer(dropout, attention_method, n_heads) for _ in range(n_layers)])\n",
        "        self.attention_method = attention_method\n",
        "\n",
        "    def get_position_embedding_table(self):\n",
        "        def cal_angle(position, hid_idx):\n",
        "            x = position % 14\n",
        "            y = position // 14\n",
        "            x_enc = x / np.power(10000, hid_idx / 1024)\n",
        "            y_enc = y / np.power(10000, hid_idx / 1024)\n",
        "            return np.sin(x_enc), np.sin(y_enc)\n",
        "        def get_posi_angle_vec(position):\n",
        "            return [cal_angle(position, hid_idx)[0] for hid_idx in range(1024)] + [cal_angle(position, hid_idx)[1] for hid_idx in range(1024)]\n",
        "\n",
        "        embedding_table = np.array([get_posi_angle_vec(pos_i) for pos_i in range(196)])\n",
        "        return torch.FloatTensor(embedding_table).to(device)\n",
        "\n",
        "    def forward(self, encoder_out):\n",
        "        \"\"\"\n",
        "        :param encoder_out: [batch_size, num_pixels=196, dmodel=2048]\n",
        "        \"\"\"\n",
        "        batch_size = encoder_out.size(0)\n",
        "        positions = encoder_out.size(1)\n",
        "        if self.attention_method == \"ByPixel\":\n",
        "            encoder_out = encoder_out + self.pos_emb(torch.LongTensor([list(range(positions))]*batch_size).to(device))\n",
        "        # encoder_out = self.dropout(encoder_out)\n",
        "        # enc_self_attn_mask: [batch_size, 196, 196]\n",
        "        enc_self_attn_mask = (torch.tensor(np.zeros((batch_size, positions, positions))).to(device)\n",
        "                              == torch.tensor(np.ones((batch_size, positions, positions))).to(device))\n",
        "        enc_self_attns = []\n",
        "        for layer in self.layers:\n",
        "            encoder_out, enc_self_attn = layer(encoder_out, enc_self_attn_mask)\n",
        "            enc_self_attns.append(enc_self_attn)\n",
        "        \n",
        "        return encoder_out, enc_self_attns\n",
        "\n",
        "\n",
        "class Transformer(nn.Module):\n",
        "    \"\"\"\n",
        "    See paper 5.4: \"Attention Is All You Need\" - https://arxiv.org/abs/1706.03762\n",
        "    \"Apply dropout to the output of each sub-layer, before it is added to the sub-layer input and normalized.\n",
        "    In addition, apply dropout to the sums of the embeddings and the positional encodings in both the encoder\n",
        "    and decoder stacks.\" (Now, we dont't apply dropout to the encoder embeddings)\n",
        "    \"\"\"\n",
        "    def __init__(self, vocab_size, embed_dim, encoder_layers, decoder_layers, dropout=0.1, attention_method=\"ByPixel\", n_heads=8):\n",
        "        super(Transformer, self).__init__()\n",
        "        self.encoder = Encoder(encoder_layers, dropout, attention_method, n_heads)\n",
        "        self.decoder = Decoder(decoder_layers, vocab_size, embed_dim, dropout, attention_method, n_heads)\n",
        "        self.embedding = self.decoder.tgt_emb\n",
        "        self.attention_method = attention_method\n",
        "\n",
        "    def load_pretrained_embeddings(self, embeddings):\n",
        "        self.embedding.weight = nn.Parameter(embeddings)\n",
        "\n",
        "    def fine_tune_embeddings(self, fine_tune=True):\n",
        "        for p in self.embedding.parameters():\n",
        "            p.requires_grad = fine_tune\n",
        "\n",
        "    def forward(self, enc_inputs, encoded_captions, caption_lengths):\n",
        "        \"\"\"\n",
        "        preprocess: enc_inputs: [batch_size, 14, 14, 2048]/[batch_size, 196, 2048] -> [batch_size, 196, 2048]\n",
        "        encoded_captions: [batch_size, 52]\n",
        "        caption_lengths: [batch_size, 1], not used\n",
        "        The encoder or decoder is composed of a stack of n_layers=6 identical layers.\n",
        "        One layer in encoder: Multi-head Attention(self-encoder attention) with Norm & Residual\n",
        "                            + Feed Forward with Norm & Residual\n",
        "        One layer in decoder: Masked Multi-head Attention(self-decoder attention) with Norm & Residual\n",
        "                            + Multi-head Attention(encoder-decoder attention) with Norm & Residual\n",
        "                            + Feed Forward with Norm & Residual\n",
        "        \"\"\"\n",
        "        batch_size = enc_inputs.size(0)\n",
        "        encoder_dim = enc_inputs.size(-1)\n",
        "        if self.attention_method == \"ByPixel\":\n",
        "            enc_inputs = enc_inputs.view(batch_size, -1, encoder_dim)\n",
        "        elif self.attention_method == \"ByChannel\":\n",
        "            enc_inputs = enc_inputs.view(batch_size, -1, encoder_dim).permute(0, 2, 1)  # (batch_size, 2048, 196)\n",
        "\n",
        "        print(\"** Running Transformer Encoder\")\n",
        "        encoder_out, enc_self_attns = self.encoder(enc_inputs)\n",
        "        print(\"Transformer Encoder encoder_out shape: \", encoder_out.shape)\n",
        "        # encoder_out: [batch_size, 196, 2048]\n",
        "        print(\"** Running Transformer Decoder\")\n",
        "        predictions, encoded_captions, decode_lengths, sort_ind, dec_self_attns, dec_enc_attns = self.decoder(encoder_out, encoded_captions, caption_lengths)\n",
        "        alphas = {\"enc_self_attns\": enc_self_attns, \"dec_self_attns\": dec_self_attns, \"dec_enc_attns\": dec_enc_attns}\n",
        "        return predictions, encoded_captions, decode_lengths, alphas, sort_ind"
      ],
      "metadata": {
        "id": "8ft49co9cdEd"
      },
      "execution_count": null,
      "outputs": []
    },
    {
      "cell_type": "code",
      "source": [
        "class CNN_Encoder(nn.Module):\n",
        "    \"\"\"\n",
        "    CNN_Encoder.\n",
        "    \"\"\"\n",
        "\n",
        "    def __init__(self, encoded_image_size=14, attention_method=\"ByPixel\"):\n",
        "        super(CNN_Encoder, self).__init__()\n",
        "        self.enc_image_size = encoded_image_size\n",
        "        self.attention_method = attention_method\n",
        "\n",
        "        resnet = torchvision.models.resnet101(pretrained=True)  # pretrained ImageNet ResNet-101\n",
        "\n",
        "        # Remove linear and pool layers (since we're not doing classification)\n",
        "        # Specifically, Remove: AdaptiveAvgPool2d(output_size=(1, 1)), Linear(in_features=2048, out_features=1000, bias=True)]\n",
        "        modules = list(resnet.children())[:-2]\n",
        "        self.resnet = nn.Sequential(*modules)\n",
        "\n",
        "        if self.attention_method == \"ByChannel\":\n",
        "            self.cnn1 = nn.Conv2d(in_channels=2048, out_channels=512, kernel_size=(1, 1), stride=(1, 1), bias=False)\n",
        "            self.bn1 = nn.BatchNorm2d(512, eps=1e-05, momentum=0.1, affine=True, track_running_stats=True)\n",
        "            self.relu = nn.ReLU(inplace=True)\n",
        "\n",
        "        # Resize image to fixed size to allow input images of variable size\n",
        "        self.adaptive_pool = nn.AdaptiveAvgPool2d((encoded_image_size, encoded_image_size))\n",
        "\n",
        "        self.fine_tune()\n",
        "\n",
        "    def forward(self, images):\n",
        "        \"\"\"\n",
        "        Forward propagation.\n",
        "        :param images: images, a tensor of dimensions (batch_size, 3, image_size, image_size)\n",
        "        :return: encoded images [batch_size, encoded_image_size=14, encoded_image_size=14, 2048]\n",
        "        \"\"\"\n",
        "        out = self.resnet(images)  # (batch_size, 2048, image_size/32, image_size/32)\n",
        "        if self.attention_method == \"ByChannel\":  # [batch_size, 2048, 8, 8] -> # [batch_size, 512, 8, 8]\n",
        "            out = self.relu(self.bn1(self.cnn1(out)))\n",
        "        out = self.adaptive_pool(out)  # [batch_size, 2048/512, 8, 8] -> [batch_size, 2048/512, 14, 14]\n",
        "        out = out.permute(0, 2, 3, 1)\n",
        "        return out\n",
        "\n",
        "    def fine_tune(self, fine_tune=True):\n",
        "        \"\"\"\n",
        "        Allow or prevent the computation of gradients for convolutional blocks 2 through 4 of the encoder.\n",
        "        :param fine_tune: Allow?\n",
        "        \"\"\"\n",
        "        for p in self.resnet.parameters():\n",
        "            p.requires_grad = False\n",
        "        # If fine-tuning, only fine-tune convolutional blocks 2 through 4\n",
        "        for c in list(self.resnet.children())[5:]:\n",
        "            for p in c.parameters():\n",
        "                p.requires_grad = fine_tune\n",
        "\n",
        "\n",
        "class Attention(nn.Module):\n",
        "    \"\"\"\n",
        "    Attention Network.\n",
        "    \"\"\"\n",
        "\n",
        "    def __init__(self, encoder_dim, decoder_dim, attention_dim):\n",
        "        \"\"\"\n",
        "        :param encoder_dim: feature size of encoded images\n",
        "        :param decoder_dim: size of decoder's RNN\n",
        "        :param attention_dim: size of the attention network\n",
        "        \"\"\"\n",
        "        super(Attention, self).__init__()\n",
        "        self.encoder_att = nn.Linear(encoder_dim, attention_dim)  # linear layer to transform encoded image\n",
        "        self.decoder_att = nn.Linear(decoder_dim, attention_dim)  # linear layer to transform decoder's output\n",
        "        self.full_att = nn.Linear(attention_dim, 1)  # linear layer to calculate values to be softmax-ed\n",
        "        self.relu = nn.ReLU()\n",
        "        self.softmax = nn.Softmax(dim=1)  # softmax layer to calculate weights\n",
        "\n",
        "    def forward(self, encoder_out, decoder_hidden):\n",
        "        \"\"\"\n",
        "        Forward propagation.\n",
        "        :param encoder_out: encoded images, a tensor of dimension (batch_size, num_pixels, encoder_dim)\n",
        "        :param decoder_hidden: previous decoder output, a tensor of dimension (batch_size, decoder_dim)\n",
        "        :return: attention weighted encoding, weights\n",
        "        \"\"\"\n",
        "        att1 = self.encoder_att(encoder_out)  # [batch_size_t, num_pixels=196, 2048] -> [batch_size_t, num_pixels, attention_dim]\n",
        "        att2 = self.decoder_att(decoder_hidden)  # [batch_size_t, decoder_dim=512] -> [batch_size_t, attention_dim]\n",
        "        att = self.full_att(self.relu(att1 + att2.unsqueeze(1))).squeeze(2)  # [batch_size_t, num_pixels=196, attention_dim] -> [batch_size_t, num_pixels]\n",
        "        alpha = self.softmax(att)  # [batch_size_t, num_pixels=196]\n",
        "        attention_weighted_encoding = (encoder_out * alpha.unsqueeze(2)).sum(dim=1)  # [batch_size_t, encoder_dim=2048]\n",
        "\n",
        "        return attention_weighted_encoding, alpha\n",
        "\n",
        "\n",
        "class DecoderWithAttention(nn.Module):\n",
        "    \"\"\"\n",
        "    Decoder.\n",
        "    \"\"\"\n",
        "\n",
        "    def __init__(self, attention_dim, embed_dim, decoder_dim, vocab_size, encoder_dim=2048, dropout=0.5):\n",
        "        \"\"\"\n",
        "        :param attention_dim: size of attention network\n",
        "        :param embed_dim: embedding size\n",
        "        :param decoder_dim: size of decoder's RNN\n",
        "        :param vocab_size: size of vocabulary\n",
        "        :param encoder_dim: feature size of encoded images\n",
        "        :param dropout: dropout\n",
        "        \"\"\"\n",
        "        super(DecoderWithAttention, self).__init__()\n",
        "\n",
        "        self.encoder_dim = encoder_dim\n",
        "        self.attention_dim = attention_dim\n",
        "        self.embed_dim = embed_dim\n",
        "        self.decoder_dim = decoder_dim\n",
        "        self.vocab_size = vocab_size\n",
        "        self.dropout = dropout\n",
        "\n",
        "        self.attention = Attention(encoder_dim, decoder_dim, attention_dim)  # attention network\n",
        "        self.embedding = nn.Embedding(vocab_size, embed_dim, padding_idx=0)  # embedding layer\n",
        "        self.dropout = nn.Dropout(p=self.dropout)\n",
        "        self.lstm = nn.LSTMCell(embed_dim + encoder_dim, decoder_dim, bias=True)  # decoding LSTMCell\n",
        "        self.init_h = nn.Linear(encoder_dim, decoder_dim)  # linear layer to find initial hidden state of LSTMCell\n",
        "        self.init_c = nn.Linear(encoder_dim, decoder_dim)  # linear layer to find initial cell state of LSTMCell\n",
        "        self.f_beta = nn.Linear(decoder_dim, encoder_dim)  # linear layer to create a sigmoid-activated gate\n",
        "        self.sigmoid = nn.Sigmoid()\n",
        "        self.fc = nn.Linear(decoder_dim, vocab_size)  # linear layer to find scores over vocabulary\n",
        "        self.init_weights()  # initialize some layers with the uniform distribution\n",
        "        self.fine_tune_embeddings()\n",
        "\n",
        "    def init_weights(self):\n",
        "        \"\"\"\n",
        "        Initializes some parameters with values from the uniform distribution, for easier convergence.\n",
        "        \"\"\"\n",
        "        self.embedding.weight.data.uniform_(-0.1, 0.1)\n",
        "        self.fc.bias.data.fill_(0)\n",
        "        self.fc.weight.data.uniform_(-0.1, 0.1)\n",
        "\n",
        "    def load_pretrained_embeddings(self, embeddings):\n",
        "        \"\"\"\n",
        "        Loads embedding layer with pre-trained embeddings.\n",
        "        :param embeddings: pre-trained embeddings\n",
        "        \"\"\"\n",
        "        self.embedding.weight = nn.Parameter(embeddings)\n",
        "\n",
        "    def fine_tune_embeddings(self, fine_tune=True):\n",
        "        \"\"\"\n",
        "        Allow fine-tuning of embedding layer? (Only makes sense to not-allow if using pre-trained embeddings).\n",
        "        :param fine_tune: Allow?\n",
        "        \"\"\"\n",
        "        for p in self.embedding.parameters():\n",
        "            p.requires_grad = fine_tune\n",
        "\n",
        "    def init_hidden_state(self, encoder_out):\n",
        "        \"\"\"\n",
        "        Creates the initial hidden and cell states for the decoder's LSTM based on the encoded images.\n",
        "        :param encoder_out: encoded images, a tensor of dimension (batch_size, num_pixels, encoder_dim)\n",
        "        :return: hidden state, cell state\n",
        "        \"\"\"\n",
        "        mean_encoder_out = encoder_out.mean(dim=1)  # [batch_size, 196, 2048] -> [batch_size, 2048]\n",
        "        h = self.init_h(mean_encoder_out)  # (batch_size, decoder_dim)\n",
        "        c = self.init_c(mean_encoder_out)\n",
        "        return h, c\n",
        "\n",
        "    def forward(self, encoder_out, encoded_captions, caption_lengths):\n",
        "        \"\"\"\n",
        "        Forward propagation.\n",
        "        :param encoder_out: encoded images, a tensor of dimension (batch_size, enc_image_size, enc_image_size, encoder_dim)\n",
        "        :param encoded_captions: encoded captions, a tensor of dimension (batch_size, max_caption_length)\n",
        "        :param caption_lengths: caption lengths, a tensor of dimension (batch_size, 1)\n",
        "        :return: scores for vocabulary, sorted encoded captions, decode lengths, weights, sort indices\n",
        "        \"\"\"\n",
        "        # [batch_size, 14, 14, 2048]/[batch_size, 196, 2048] -> [batch_size, 196, 2048]\n",
        "        batch_size = encoder_out.size(0)\n",
        "        encoder_dim = encoder_out.size(-1)\n",
        "        vocab_size = self.vocab_size\n",
        "\n",
        "        # Flatten image -> [batch_size, num_pixels=196, encoder_dim=2048]\n",
        "        encoder_out = encoder_out.view(batch_size, -1, encoder_dim)\n",
        "        num_pixels = encoder_out.size(1)\n",
        "\n",
        "        # Sort input data by decreasing lengths; why? For each of data in the batch, when len(prediction) = len(caption_lengths), Stop.\n",
        "        caption_lengths, sort_ind = caption_lengths.squeeze(1).sort(dim=0, descending=True)\n",
        "        encoder_out = encoder_out[sort_ind]\n",
        "        encoded_captions = encoded_captions[sort_ind]\n",
        "\n",
        "        # Embedding\n",
        "        embeddings = self.embedding(encoded_captions)  # [batch_size, max_caption_length=52, embed_dim]\n",
        "\n",
        "        # Initialize LSTM state\n",
        "        h, c = self.init_hidden_state(encoder_out)  # [batch_size, decoder_dim]\n",
        "\n",
        "        # We won't decode at the <end> position, since we've finished generating as soon as we generate <end>\n",
        "        # So, decoding lengths are actual lengths - 1\n",
        "        decode_lengths = (caption_lengths - 1).tolist()\n",
        "\n",
        "        # Create tensors to hold word predicion scores and alphas\n",
        "        predictions = torch.zeros(batch_size, max(decode_lengths), vocab_size).to(device)\n",
        "        alphas = torch.zeros(batch_size, max(decode_lengths), num_pixels).to(device)\n",
        "\n",
        "        # At each time-step, decode by\n",
        "        # attention-weighing the encoder's output based on the decoder's previous hidden state output\n",
        "        # then generate a new word in the decoder with the previous word and the attention weighted encoding\n",
        "        for t in range(max(decode_lengths)):\n",
        "            batch_size_t = sum([l > t for l in decode_lengths])\n",
        "            # alpha: [batch_size_t, 196]\n",
        "            # attention_weighted_encoding: [batch_size_t, 2048]\n",
        "            attention_weighted_encoding, alpha = self.attention(encoder_out[:batch_size_t], h[:batch_size_t])\n",
        "            gate = self.sigmoid(self.f_beta(h[:batch_size_t]))  # gating scalar, (batch_size_t, encoder_dim)\n",
        "            attention_weighted_encoding = gate * attention_weighted_encoding\n",
        "            # torch.cat([batch_size_t, 500], [batch_size_t, 2048], dim=1) = [batch_size_t, 2548] -> [batch_size_t, 512]\n",
        "            h, c = self.lstm(\n",
        "                torch.cat([embeddings[:batch_size_t, t, :], attention_weighted_encoding], dim=1),\n",
        "                (h[:batch_size_t], c[:batch_size_t]))\n",
        "            preds = self.fc(self.dropout(h))  # [batch_size_t, vocab_size]\n",
        "            predictions[:batch_size_t, t, :] = preds\n",
        "            alphas[:batch_size_t, t, :] = alpha\n",
        "\n",
        "        return predictions, encoded_captions, decode_lengths, alphas, sort_ind"
      ],
      "metadata": {
        "id": "LfXKqRlnDEWb"
      },
      "execution_count": null,
      "outputs": []
    },
    {
      "cell_type": "code",
      "source": [
        "mean, std = (0.485, 0.456, 0.406), (0.229, 0.224, 0.225)\n",
        "img_size = 256 #MSCOCO image size of 256x256\n",
        "\n",
        "train_transform = transforms.Compose([ \n",
        "    transforms.Resize((img_size, img_size)),\n",
        "    transforms.RandomHorizontalFlip(), \n",
        "    transforms.ToTensor(), \n",
        "    transforms.Normalize(mean, std)])\n",
        "\n",
        "train_loader, train_dataset = getLoader(root_dir=train_image_dir, \n",
        "                                         caption_path=train_caption_path, \n",
        "                                         word_frequency=5,\n",
        "                                         transform=train_transform, \n",
        "                                         batch_size=32, \n",
        "                                         num_workers=0, \n",
        "                                         shuffle=True, \n",
        "                                         pin_memory=True)\n"
      ],
      "metadata": {
        "id": "39lkanl3cjBv",
        "colab": {
          "base_uri": "https://localhost:8080/"
        },
        "outputId": "bb0178d4-c6db-47e1-ae40-b67af94d66ba"
      },
      "execution_count": null,
      "outputs": [
        {
          "output_type": "stream",
          "name": "stdout",
          "text": [
            "30000\n"
          ]
        }
      ]
    },
    {
      "cell_type": "code",
      "source": [
        "imgs, captions, caplens = next(iter(train_loader))\n",
        "print(imgs.shape)\n",
        "print(captions.shape)\n",
        "print(caplens.shape)"
      ],
      "metadata": {
        "id": "4GtLCxw3G_2U",
        "colab": {
          "base_uri": "https://localhost:8080/"
        },
        "outputId": "a69925a0-5574-48a1-d467-786f31502273"
      },
      "execution_count": null,
      "outputs": [
        {
          "output_type": "stream",
          "name": "stdout",
          "text": [
            "torch.Size([32, 3, 256, 256])\n",
            "torch.Size([32, 52])\n",
            "torch.Size([32, 1])\n"
          ]
        }
      ]
    },
    {
      "cell_type": "code",
      "source": [
        "encoder_lr = 1e-4\n",
        "decoder_lr = 1e-6 #learning rate for decoder\n",
        "fine_tune_encoder = False\n",
        "emb_dim = 300 #dimension of word embeddings\n",
        "encoder_layers = 2 #the number of layers of encoder in Transformer\n",
        "decoder_layers = 6 #the number of layers of decoder in Transformer\n",
        "dropout = 0.1 #dropout\n",
        "attention_method = \"ByPixel\" #which attention method to use?\n",
        "n_heads = 8 #Multi-head attention\n",
        "embedding_path = os.path.join(\"./data\", \"glove.6B.300d.txt\")\n",
        "fine_tune_embedding = False\n",
        "word_map = train_dataset.vocab.stoi\n",
        "print(\"Number of words in word map: \", len(word_map))"
      ],
      "metadata": {
        "colab": {
          "base_uri": "https://localhost:8080/"
        },
        "id": "G8pg8dUUIB2D",
        "outputId": "6ae4c339-b22e-4002-8528-e985eec8e2c4"
      },
      "execution_count": null,
      "outputs": [
        {
          "output_type": "stream",
          "name": "stdout",
          "text": [
            "Number of words in word map:  2544\n"
          ]
        }
      ]
    },
    {
      "cell_type": "code",
      "source": [
        "encoder = CNN_Encoder()\n",
        "encoder_optimizer = torch.optim.Adam(params=filter(lambda p: p.requires_grad, encoder.parameters()),\n",
        "                                     lr=encoder_lr) if fine_tune_encoder else None\n",
        "decoder = Transformer(vocab_size=len(word_map), embed_dim=emb_dim, encoder_layers=encoder_layers,\n",
        "                                  decoder_layers=decoder_layers, dropout=dropout,\n",
        "                                  attention_method=attention_method, n_heads=n_heads)"
      ],
      "metadata": {
        "id": "KqwPAFC6PfGG",
        "colab": {
          "base_uri": "https://localhost:8080/"
        },
        "outputId": "74d8caf1-303f-46c7-ef1d-6cd3888b4f00"
      },
      "execution_count": null,
      "outputs": [
        {
          "output_type": "stream",
          "name": "stderr",
          "text": [
            "/usr/local/lib/python3.7/dist-packages/torchvision/models/_utils.py:209: UserWarning: The parameter 'pretrained' is deprecated since 0.13 and will be removed in 0.15, please use 'weights' instead.\n",
            "  f\"The parameter '{pretrained_param}' is deprecated since 0.13 and will be removed in 0.15, \"\n",
            "/usr/local/lib/python3.7/dist-packages/torchvision/models/_utils.py:223: UserWarning: Arguments other than a weight enum or `None` for 'weights' are deprecated since 0.13 and will be removed in 0.15. The current behavior is equivalent to passing `weights=ResNet101_Weights.IMAGENET1K_V1`. You can also use `weights=ResNet101_Weights.DEFAULT` to get the most up-to-date weights.\n",
            "  warnings.warn(msg)\n"
          ]
        }
      ]
    },
    {
      "cell_type": "code",
      "source": [
        "decoder_optimizer = torch.optim.Adam(params=filter(lambda p: p.requires_grad, decoder.parameters()), lr=decoder_lr)"
      ],
      "metadata": {
        "id": "fG2QPIgKLjYK"
      },
      "execution_count": null,
      "outputs": []
    },
    {
      "cell_type": "code",
      "source": [
        "import codecs\n",
        "all_word_embeds = {}\n",
        "for i, line in enumerate(codecs.open(embedding_path, 'r', 'utf-8')):\n",
        "    s = line.strip().split()\n",
        "    all_word_embeds[s[0]] = np.array([float(i) for i in s[1:]])"
      ],
      "metadata": {
        "id": "EhwO8zkDLjak"
      },
      "execution_count": null,
      "outputs": []
    },
    {
      "cell_type": "code",
      "source": [
        "len(all_word_embeds.keys())\n",
        "emb_dim = list(all_word_embeds.values())[-1].size\n",
        "print(emb_dim) #Each word is descrited in 300 dimensions\n",
        "word_embeds = np.random.uniform(-np.sqrt(0.06), np.sqrt(0.06), (len(word_map), emb_dim))"
      ],
      "metadata": {
        "colab": {
          "base_uri": "https://localhost:8080/"
        },
        "id": "pjX7W8pqPcCF",
        "outputId": "3c122382-fa02-4809-a748-5ba930046fe7"
      },
      "execution_count": null,
      "outputs": [
        {
          "output_type": "stream",
          "name": "stdout",
          "text": [
            "300\n"
          ]
        }
      ]
    },
    {
      "cell_type": "code",
      "source": [
        "for w in word_map:\n",
        "    if w in all_word_embeds:\n",
        "        word_embeds[word_map[w]] = all_word_embeds[w]\n",
        "    elif w.lower() in all_word_embeds:\n",
        "        word_embeds[word_map[w]] = all_word_embeds[w.lower()]\n",
        "    else:\n",
        "        # <pad> <start> <end> <unk>\n",
        "        embedding_i = torch.ones(1, emb_dim)\n",
        "        torch.nn.init.xavier_uniform_(embedding_i)\n",
        "        word_embeds[word_map[w]] = embedding_i\n",
        "\n",
        "word_embeds = torch.FloatTensor(word_embeds)\n",
        "decoder.load_pretrained_embeddings(word_embeds)\n",
        "decoder.fine_tune_embeddings(fine_tune_embedding)\n",
        "print('Loaded {} pre-trained word embeddings.'.format(len(word_embeds)))"
      ],
      "metadata": {
        "colab": {
          "base_uri": "https://localhost:8080/"
        },
        "id": "mvS4DSgAQ3rd",
        "outputId": "d3c24e0a-101c-4350-fafd-2e0a884f18db"
      },
      "execution_count": null,
      "outputs": [
        {
          "output_type": "stream",
          "name": "stdout",
          "text": [
            "Loaded 2544 pre-trained word embeddings.\n"
          ]
        }
      ]
    },
    {
      "cell_type": "code",
      "source": [
        "criterion = nn.CrossEntropyLoss()"
      ],
      "metadata": {
        "id": "7j2syoEoRQpP"
      },
      "execution_count": null,
      "outputs": []
    },
    {
      "cell_type": "code",
      "source": [
        "print(\"imgs shape before encoder (CNN): \", imgs.shape)\n",
        "enc_imgs = encoder(imgs)\n",
        "print(\"imgs shape after encoder (CNN): \", enc_imgs.shape)"
      ],
      "metadata": {
        "colab": {
          "base_uri": "https://localhost:8080/"
        },
        "id": "TfbIuc14SZrP",
        "outputId": "1b6c6a8f-b14b-4a10-fd0d-aa3ce8061976"
      },
      "execution_count": null,
      "outputs": [
        {
          "output_type": "stream",
          "name": "stdout",
          "text": [
            "imgs shape before encoder (CNN):  torch.Size([32, 3, 256, 256])\n",
            "imgs shape after encoder (CNN):  torch.Size([32, 14, 14, 2048])\n"
          ]
        }
      ]
    },
    {
      "cell_type": "code",
      "source": [
        "scores, caps_sorted, decode_lengths, alphas, sort_ind = decoder(enc_imgs, captions, caplens)"
      ],
      "metadata": {
        "id": "R1lex9NNTE-w",
        "colab": {
          "base_uri": "https://localhost:8080/"
        },
        "outputId": "224edba0-92e1-4aad-baa8-f9f35b19105b"
      },
      "execution_count": null,
      "outputs": [
        {
          "output_type": "stream",
          "name": "stdout",
          "text": [
            "** Running Transformer Encoder\n",
            "Q: torch.Size([32, 196, 2048]), K: torch.Size([32, 196, 2048]), V: torch.Size([32, 196, 2048])\n",
            "q_s: torch.Size([32, 8, 196, 64]), k_s: torch.Size([32, 8, 196, 64]), v_s: torch.Size([32, 8, 196, 64])\n",
            "After output + residual in MHA:  torch.Size([32, 196, 2048])\n",
            "Q: torch.Size([32, 196, 2048]), K: torch.Size([32, 196, 2048]), V: torch.Size([32, 196, 2048])\n",
            "q_s: torch.Size([32, 8, 196, 64]), k_s: torch.Size([32, 8, 196, 64]), v_s: torch.Size([32, 8, 196, 64])\n",
            "After output + residual in MHA:  torch.Size([32, 196, 2048])\n",
            "Transformer Encoder encoder_out shape:  torch.Size([32, 196, 2048])\n",
            "** Running Transformer Decoder\n",
            "caption lengths in decoder : tensor([20, 18, 18, 17, 16, 15, 15, 15, 14, 14, 13, 13, 13, 12, 12, 12, 12, 11,\n",
            "        11, 11, 11, 11, 10, 10, 10,  9,  9,  9,  8,  8,  7,  6])\n",
            "decode  lengths in decoder : [19, 17, 17, 16, 15, 14, 14, 14, 13, 13, 12, 12, 12, 11, 11, 11, 11, 10, 10, 10, 10, 10, 9, 9, 9, 8, 8, 8, 7, 7, 6, 5]\n",
            "Output of Target Embedding:  torch.Size([32, 52, 300])\n",
            "Output after Positional Encoding:  torch.Size([32, 52, 300])\n",
            "Output after Target Embedding and Positional Encoding:  torch.Size([32, 52, 300])\n",
            "Q: torch.Size([32, 52, 300]), K: torch.Size([32, 52, 300]), V: torch.Size([32, 52, 300])\n",
            "q_s: torch.Size([32, 8, 52, 64]), k_s: torch.Size([32, 8, 52, 64]), v_s: torch.Size([32, 8, 52, 64])\n",
            "After output + residual in MHA:  torch.Size([32, 52, 300])\n",
            "Decoder: Output of Self Attention:  torch.Size([32, 52, 300])\n",
            "Q: torch.Size([32, 52, 300]), K: torch.Size([32, 196, 2048]), V: torch.Size([32, 196, 2048])\n",
            "q_s: torch.Size([32, 8, 52, 64]), k_s: torch.Size([32, 8, 196, 64]), v_s: torch.Size([32, 8, 196, 64])\n",
            "After output + residual in MHA:  torch.Size([32, 52, 300])\n",
            "Decoder: Output of Encoder-Decoder Attention:  torch.Size([32, 52, 300])\n",
            "Decoder: Output of FFN:  torch.Size([32, 52, 300])\n",
            "Q: torch.Size([32, 52, 300]), K: torch.Size([32, 52, 300]), V: torch.Size([32, 52, 300])\n",
            "q_s: torch.Size([32, 8, 52, 64]), k_s: torch.Size([32, 8, 52, 64]), v_s: torch.Size([32, 8, 52, 64])\n",
            "After output + residual in MHA:  torch.Size([32, 52, 300])\n",
            "Decoder: Output of Self Attention:  torch.Size([32, 52, 300])\n",
            "Q: torch.Size([32, 52, 300]), K: torch.Size([32, 196, 2048]), V: torch.Size([32, 196, 2048])\n",
            "q_s: torch.Size([32, 8, 52, 64]), k_s: torch.Size([32, 8, 196, 64]), v_s: torch.Size([32, 8, 196, 64])\n",
            "After output + residual in MHA:  torch.Size([32, 52, 300])\n",
            "Decoder: Output of Encoder-Decoder Attention:  torch.Size([32, 52, 300])\n",
            "Decoder: Output of FFN:  torch.Size([32, 52, 300])\n",
            "Q: torch.Size([32, 52, 300]), K: torch.Size([32, 52, 300]), V: torch.Size([32, 52, 300])\n",
            "q_s: torch.Size([32, 8, 52, 64]), k_s: torch.Size([32, 8, 52, 64]), v_s: torch.Size([32, 8, 52, 64])\n",
            "After output + residual in MHA:  torch.Size([32, 52, 300])\n",
            "Decoder: Output of Self Attention:  torch.Size([32, 52, 300])\n",
            "Q: torch.Size([32, 52, 300]), K: torch.Size([32, 196, 2048]), V: torch.Size([32, 196, 2048])\n",
            "q_s: torch.Size([32, 8, 52, 64]), k_s: torch.Size([32, 8, 196, 64]), v_s: torch.Size([32, 8, 196, 64])\n",
            "After output + residual in MHA:  torch.Size([32, 52, 300])\n",
            "Decoder: Output of Encoder-Decoder Attention:  torch.Size([32, 52, 300])\n",
            "Decoder: Output of FFN:  torch.Size([32, 52, 300])\n",
            "Q: torch.Size([32, 52, 300]), K: torch.Size([32, 52, 300]), V: torch.Size([32, 52, 300])\n",
            "q_s: torch.Size([32, 8, 52, 64]), k_s: torch.Size([32, 8, 52, 64]), v_s: torch.Size([32, 8, 52, 64])\n",
            "After output + residual in MHA:  torch.Size([32, 52, 300])\n",
            "Decoder: Output of Self Attention:  torch.Size([32, 52, 300])\n",
            "Q: torch.Size([32, 52, 300]), K: torch.Size([32, 196, 2048]), V: torch.Size([32, 196, 2048])\n",
            "q_s: torch.Size([32, 8, 52, 64]), k_s: torch.Size([32, 8, 196, 64]), v_s: torch.Size([32, 8, 196, 64])\n",
            "After output + residual in MHA:  torch.Size([32, 52, 300])\n",
            "Decoder: Output of Encoder-Decoder Attention:  torch.Size([32, 52, 300])\n",
            "Decoder: Output of FFN:  torch.Size([32, 52, 300])\n",
            "Q: torch.Size([32, 52, 300]), K: torch.Size([32, 52, 300]), V: torch.Size([32, 52, 300])\n",
            "q_s: torch.Size([32, 8, 52, 64]), k_s: torch.Size([32, 8, 52, 64]), v_s: torch.Size([32, 8, 52, 64])\n",
            "After output + residual in MHA:  torch.Size([32, 52, 300])\n",
            "Decoder: Output of Self Attention:  torch.Size([32, 52, 300])\n",
            "Q: torch.Size([32, 52, 300]), K: torch.Size([32, 196, 2048]), V: torch.Size([32, 196, 2048])\n",
            "q_s: torch.Size([32, 8, 52, 64]), k_s: torch.Size([32, 8, 196, 64]), v_s: torch.Size([32, 8, 196, 64])\n",
            "After output + residual in MHA:  torch.Size([32, 52, 300])\n",
            "Decoder: Output of Encoder-Decoder Attention:  torch.Size([32, 52, 300])\n",
            "Decoder: Output of FFN:  torch.Size([32, 52, 300])\n",
            "Q: torch.Size([32, 52, 300]), K: torch.Size([32, 52, 300]), V: torch.Size([32, 52, 300])\n",
            "q_s: torch.Size([32, 8, 52, 64]), k_s: torch.Size([32, 8, 52, 64]), v_s: torch.Size([32, 8, 52, 64])\n",
            "After output + residual in MHA:  torch.Size([32, 52, 300])\n",
            "Decoder: Output of Self Attention:  torch.Size([32, 52, 300])\n",
            "Q: torch.Size([32, 52, 300]), K: torch.Size([32, 196, 2048]), V: torch.Size([32, 196, 2048])\n",
            "q_s: torch.Size([32, 8, 52, 64]), k_s: torch.Size([32, 8, 196, 64]), v_s: torch.Size([32, 8, 196, 64])\n",
            "After output + residual in MHA:  torch.Size([32, 52, 300])\n",
            "Decoder: Output of Encoder-Decoder Attention:  torch.Size([32, 52, 300])\n",
            "Decoder: Output of FFN:  torch.Size([32, 52, 300])\n",
            "Output after Decode Layers:  torch.Size([32, 52, 300])\n",
            "Output after Projection Layers:  torch.Size([32, 52, 2544])\n"
          ]
        }
      ]
    },
    {
      "cell_type": "code",
      "source": [
        "print(\"Scores shape: \", scores.shape)\n",
        "print(\"Scores shape: \", caps_sorted.shape)\n",
        "print(\"decode_lengths  : \", decode_lengths)\n",
        "print(\"original caplens: \", caplens.squeeze(1).tolist())\n",
        "print(\"alphas keys: \", alphas.keys())\n",
        "print(\"Scores shape: \", sort_ind.shape)"
      ],
      "metadata": {
        "colab": {
          "base_uri": "https://localhost:8080/"
        },
        "id": "zwObJcQCNlro",
        "outputId": "d5711eaf-fc95-4f92-9e94-fdfce287f4ad"
      },
      "execution_count": null,
      "outputs": [
        {
          "output_type": "stream",
          "name": "stdout",
          "text": [
            "Scores shape:  torch.Size([32, 52, 2544])\n",
            "Scores shape:  torch.Size([32, 52])\n",
            "decode_lengths  :  [19, 17, 17, 16, 15, 14, 14, 14, 13, 13, 12, 12, 12, 11, 11, 11, 11, 10, 10, 10, 10, 10, 9, 9, 9, 8, 8, 8, 7, 7, 6, 5]\n",
            "original caplens:  [10, 16, 11, 14, 8, 10, 18, 15, 11, 8, 9, 12, 9, 11, 11, 12, 6, 13, 14, 12, 10, 18, 13, 20, 15, 15, 17, 11, 13, 12, 9, 7]\n",
            "alphas keys:  dict_keys(['enc_self_attns', 'dec_self_attns', 'dec_enc_attns'])\n",
            "Scores shape:  torch.Size([32])\n"
          ]
        }
      ]
    },
    {
      "cell_type": "code",
      "source": [
        "# Since we decoded starting with <start>, the targets are all words after <start>, up to <end>\n",
        "targets = caps_sorted[:, 1:]"
      ],
      "metadata": {
        "id": "YTfsjeS-re3h"
      },
      "execution_count": null,
      "outputs": []
    },
    {
      "cell_type": "code",
      "source": [
        "scores = pack_padded_sequence(scores, decode_lengths, batch_first=True).data\n",
        "targets = pack_padded_sequence(targets, decode_lengths, batch_first=True).data"
      ],
      "metadata": {
        "id": "cy28sW9AASAK"
      },
      "execution_count": null,
      "outputs": []
    },
    {
      "cell_type": "code",
      "source": [
        "print(scores.shape)\n",
        "print(targets.shape)"
      ],
      "metadata": {
        "colab": {
          "base_uri": "https://localhost:8080/"
        },
        "id": "j9lq0ZborsnZ",
        "outputId": "fae77394-a922-4917-a60c-09cb32955421"
      },
      "execution_count": null,
      "outputs": [
        {
          "output_type": "stream",
          "name": "stdout",
          "text": [
            "torch.Size([358, 2544])\n",
            "torch.Size([358])\n"
          ]
        }
      ]
    },
    {
      "cell_type": "code",
      "source": [
        "loss = criterion(scores, targets)\n",
        "print(loss)"
      ],
      "metadata": {
        "colab": {
          "base_uri": "https://localhost:8080/"
        },
        "id": "k8VvqjYqrxoQ",
        "outputId": "ce7c7181-a062-4130-fa9f-3340895ba801"
      },
      "execution_count": null,
      "outputs": [
        {
          "output_type": "stream",
          "name": "stdout",
          "text": [
            "tensor(8.0074, grad_fn=<NllLossBackward0>)\n"
          ]
        }
      ]
    },
    {
      "cell_type": "markdown",
      "source": [
        "#5. Inference"
      ],
      "metadata": {
        "id": "5rWQZodP18MG"
      }
    },
    {
      "cell_type": "code",
      "source": [
        ""
      ],
      "metadata": {
        "id": "zjFmq1l8HZQH"
      },
      "execution_count": null,
      "outputs": []
    },
    {
      "cell_type": "code",
      "source": [
        ""
      ],
      "metadata": {
        "id": "6EfT66UyHK8h"
      },
      "execution_count": null,
      "outputs": []
    },
    {
      "cell_type": "code",
      "source": [
        "model = Custom_Transformer(img_size = img_size,\n",
        "                           patch_size = patch_size,\n",
        "                           in_chans = in_chans,\n",
        "                           embed_dim = embed_dim,\n",
        "                           vocab_size = vocab_size,\n",
        "                           encoder_depth = encoder_depth,\n",
        "                           decoder_depth = decoder_depth,\n",
        "                           encoder_heads = encoder_heads,\n",
        "                           decoder_heads = decoder_heads,\n",
        "                           mlp_ratio = mlp_ratio,\n",
        "                           pos_p = pos_p,\n",
        "                           attn_p = attn_p,\n",
        "                           ffn_p = ffn_p)\n",
        "\n",
        "optimizer = optim.Adam(model.parameters(), lr = learning_rate)\n",
        "\n",
        "total_params = sum(\n",
        "\tparam.numel() for param in model.parameters()\n",
        ")\n",
        "print(f\"Current Model has {total_params} parameters\")\n",
        "device = torch.device('cuda' if torch.cuda.is_available() else 'cpu')\n",
        "model = model.to(device)\n",
        "print(f\"Running Model on {device} device\")"
      ],
      "metadata": {
        "colab": {
          "base_uri": "https://localhost:8080/"
        },
        "id": "tH9s2FPDsk1q",
        "outputId": "1a32d2a0-1837-4e2d-c66d-20fb16b646c6"
      },
      "execution_count": null,
      "outputs": [
        {
          "output_type": "stream",
          "name": "stdout",
          "text": [
            "Current Model has 179963813 parameters\n",
            "Running Model on cuda device\n"
          ]
        }
      ]
    },
    {
      "cell_type": "code",
      "source": [
        "load_model = True\n",
        "saved_model_path = os.path.join(models_path, \"my_checkpoint.pth.tar\")\n",
        "step = 0\n",
        "loss_dict = dict()\n",
        "loss_dict['train'] = list()\n",
        "loss_dict['val'] = list()\n",
        "loss_path = os.path.join(models_path, \"image_captioning_loss.pkl\")\n",
        "\n",
        "if load_model:\n",
        "    model, optimizer, step = load_checkpoint(torch.load(saved_model_path), model, optimizer)"
      ],
      "metadata": {
        "id": "Ta1J9fbG0Y7Z",
        "colab": {
          "base_uri": "https://localhost:8080/"
        },
        "outputId": "5b6f603d-843e-4f5c-aeb3-19789fb5f796"
      },
      "execution_count": null,
      "outputs": [
        {
          "output_type": "stream",
          "name": "stdout",
          "text": [
            "loading checkpoint!\n"
          ]
        }
      ]
    },
    {
      "cell_type": "code",
      "source": [
        "model"
      ],
      "metadata": {
        "colab": {
          "base_uri": "https://localhost:8080/"
        },
        "id": "98iTIgcipJ0O",
        "outputId": "cf174b6b-dfa5-4ab7-b0d6-8688ce0edd04"
      },
      "execution_count": null,
      "outputs": [
        {
          "output_type": "execute_result",
          "data": {
            "text/plain": [
              "Custom_Transformer(\n",
              "  (encoder): Custom_TransformerEncoder(\n",
              "    (patch_embed): PatchEmbed(\n",
              "      (patching): Conv2d(3, 256, kernel_size=(16, 16), stride=(16, 16))\n",
              "    )\n",
              "    (pos_encoder): PositionalEncoding(\n",
              "      (dropout): Dropout(p=0.0, inplace=False)\n",
              "    )\n",
              "    (blocks): ModuleList(\n",
              "      (0): EncoderBlock(\n",
              "        (norm1): LayerNorm((256,), eps=1e-06, elementwise_affine=True)\n",
              "        (norm2): LayerNorm((256,), eps=1e-06, elementwise_affine=True)\n",
              "        (attn): MultiHeadAttention(\n",
              "          (q_linear): Linear(in_features=256, out_features=256, bias=True)\n",
              "          (v_linear): Linear(in_features=256, out_features=256, bias=True)\n",
              "          (k_linear): Linear(in_features=256, out_features=256, bias=True)\n",
              "          (dropout): Dropout(p=0.1, inplace=False)\n",
              "          (out): Linear(in_features=256, out_features=256, bias=True)\n",
              "        )\n",
              "        (ffn): FFN(\n",
              "          (fc1): Linear(in_features=256, out_features=512, bias=True)\n",
              "          (fc2): Linear(in_features=512, out_features=256, bias=True)\n",
              "          (drop): Dropout(p=0.1, inplace=False)\n",
              "        )\n",
              "      )\n",
              "      (1): EncoderBlock(\n",
              "        (norm1): LayerNorm((256,), eps=1e-06, elementwise_affine=True)\n",
              "        (norm2): LayerNorm((256,), eps=1e-06, elementwise_affine=True)\n",
              "        (attn): MultiHeadAttention(\n",
              "          (q_linear): Linear(in_features=256, out_features=256, bias=True)\n",
              "          (v_linear): Linear(in_features=256, out_features=256, bias=True)\n",
              "          (k_linear): Linear(in_features=256, out_features=256, bias=True)\n",
              "          (dropout): Dropout(p=0.1, inplace=False)\n",
              "          (out): Linear(in_features=256, out_features=256, bias=True)\n",
              "        )\n",
              "        (ffn): FFN(\n",
              "          (fc1): Linear(in_features=256, out_features=512, bias=True)\n",
              "          (fc2): Linear(in_features=512, out_features=256, bias=True)\n",
              "          (drop): Dropout(p=0.1, inplace=False)\n",
              "        )\n",
              "      )\n",
              "      (2): EncoderBlock(\n",
              "        (norm1): LayerNorm((256,), eps=1e-06, elementwise_affine=True)\n",
              "        (norm2): LayerNorm((256,), eps=1e-06, elementwise_affine=True)\n",
              "        (attn): MultiHeadAttention(\n",
              "          (q_linear): Linear(in_features=256, out_features=256, bias=True)\n",
              "          (v_linear): Linear(in_features=256, out_features=256, bias=True)\n",
              "          (k_linear): Linear(in_features=256, out_features=256, bias=True)\n",
              "          (dropout): Dropout(p=0.1, inplace=False)\n",
              "          (out): Linear(in_features=256, out_features=256, bias=True)\n",
              "        )\n",
              "        (ffn): FFN(\n",
              "          (fc1): Linear(in_features=256, out_features=512, bias=True)\n",
              "          (fc2): Linear(in_features=512, out_features=256, bias=True)\n",
              "          (drop): Dropout(p=0.1, inplace=False)\n",
              "        )\n",
              "      )\n",
              "      (3): EncoderBlock(\n",
              "        (norm1): LayerNorm((256,), eps=1e-06, elementwise_affine=True)\n",
              "        (norm2): LayerNorm((256,), eps=1e-06, elementwise_affine=True)\n",
              "        (attn): MultiHeadAttention(\n",
              "          (q_linear): Linear(in_features=256, out_features=256, bias=True)\n",
              "          (v_linear): Linear(in_features=256, out_features=256, bias=True)\n",
              "          (k_linear): Linear(in_features=256, out_features=256, bias=True)\n",
              "          (dropout): Dropout(p=0.1, inplace=False)\n",
              "          (out): Linear(in_features=256, out_features=256, bias=True)\n",
              "        )\n",
              "        (ffn): FFN(\n",
              "          (fc1): Linear(in_features=256, out_features=512, bias=True)\n",
              "          (fc2): Linear(in_features=512, out_features=256, bias=True)\n",
              "          (drop): Dropout(p=0.1, inplace=False)\n",
              "        )\n",
              "      )\n",
              "      (4): EncoderBlock(\n",
              "        (norm1): LayerNorm((256,), eps=1e-06, elementwise_affine=True)\n",
              "        (norm2): LayerNorm((256,), eps=1e-06, elementwise_affine=True)\n",
              "        (attn): MultiHeadAttention(\n",
              "          (q_linear): Linear(in_features=256, out_features=256, bias=True)\n",
              "          (v_linear): Linear(in_features=256, out_features=256, bias=True)\n",
              "          (k_linear): Linear(in_features=256, out_features=256, bias=True)\n",
              "          (dropout): Dropout(p=0.1, inplace=False)\n",
              "          (out): Linear(in_features=256, out_features=256, bias=True)\n",
              "        )\n",
              "        (ffn): FFN(\n",
              "          (fc1): Linear(in_features=256, out_features=512, bias=True)\n",
              "          (fc2): Linear(in_features=512, out_features=256, bias=True)\n",
              "          (drop): Dropout(p=0.1, inplace=False)\n",
              "        )\n",
              "      )\n",
              "      (5): EncoderBlock(\n",
              "        (norm1): LayerNorm((256,), eps=1e-06, elementwise_affine=True)\n",
              "        (norm2): LayerNorm((256,), eps=1e-06, elementwise_affine=True)\n",
              "        (attn): MultiHeadAttention(\n",
              "          (q_linear): Linear(in_features=256, out_features=256, bias=True)\n",
              "          (v_linear): Linear(in_features=256, out_features=256, bias=True)\n",
              "          (k_linear): Linear(in_features=256, out_features=256, bias=True)\n",
              "          (dropout): Dropout(p=0.1, inplace=False)\n",
              "          (out): Linear(in_features=256, out_features=256, bias=True)\n",
              "        )\n",
              "        (ffn): FFN(\n",
              "          (fc1): Linear(in_features=256, out_features=512, bias=True)\n",
              "          (fc2): Linear(in_features=512, out_features=256, bias=True)\n",
              "          (drop): Dropout(p=0.1, inplace=False)\n",
              "        )\n",
              "      )\n",
              "      (6): EncoderBlock(\n",
              "        (norm1): LayerNorm((256,), eps=1e-06, elementwise_affine=True)\n",
              "        (norm2): LayerNorm((256,), eps=1e-06, elementwise_affine=True)\n",
              "        (attn): MultiHeadAttention(\n",
              "          (q_linear): Linear(in_features=256, out_features=256, bias=True)\n",
              "          (v_linear): Linear(in_features=256, out_features=256, bias=True)\n",
              "          (k_linear): Linear(in_features=256, out_features=256, bias=True)\n",
              "          (dropout): Dropout(p=0.1, inplace=False)\n",
              "          (out): Linear(in_features=256, out_features=256, bias=True)\n",
              "        )\n",
              "        (ffn): FFN(\n",
              "          (fc1): Linear(in_features=256, out_features=512, bias=True)\n",
              "          (fc2): Linear(in_features=512, out_features=256, bias=True)\n",
              "          (drop): Dropout(p=0.1, inplace=False)\n",
              "        )\n",
              "      )\n",
              "      (7): EncoderBlock(\n",
              "        (norm1): LayerNorm((256,), eps=1e-06, elementwise_affine=True)\n",
              "        (norm2): LayerNorm((256,), eps=1e-06, elementwise_affine=True)\n",
              "        (attn): MultiHeadAttention(\n",
              "          (q_linear): Linear(in_features=256, out_features=256, bias=True)\n",
              "          (v_linear): Linear(in_features=256, out_features=256, bias=True)\n",
              "          (k_linear): Linear(in_features=256, out_features=256, bias=True)\n",
              "          (dropout): Dropout(p=0.1, inplace=False)\n",
              "          (out): Linear(in_features=256, out_features=256, bias=True)\n",
              "        )\n",
              "        (ffn): FFN(\n",
              "          (fc1): Linear(in_features=256, out_features=512, bias=True)\n",
              "          (fc2): Linear(in_features=512, out_features=256, bias=True)\n",
              "          (drop): Dropout(p=0.1, inplace=False)\n",
              "        )\n",
              "      )\n",
              "    )\n",
              "  )\n",
              "  (decoder): Custom_TransformerDecoder(\n",
              "    (word_embed): Embedding(336037, 256)\n",
              "    (pos_decoder): PositionalEncoding(\n",
              "      (dropout): Dropout(p=0.0, inplace=False)\n",
              "    )\n",
              "    (blocks): ModuleList(\n",
              "      (0): DecoderBlock(\n",
              "        (norm1): LayerNorm((256,), eps=1e-06, elementwise_affine=True)\n",
              "        (norm2): LayerNorm((256,), eps=1e-06, elementwise_affine=True)\n",
              "        (norm3): LayerNorm((256,), eps=1e-06, elementwise_affine=True)\n",
              "        (mask_attn): MultiHeadAttention(\n",
              "          (q_linear): Linear(in_features=256, out_features=256, bias=True)\n",
              "          (v_linear): Linear(in_features=256, out_features=256, bias=True)\n",
              "          (k_linear): Linear(in_features=256, out_features=256, bias=True)\n",
              "          (dropout): Dropout(p=0.1, inplace=False)\n",
              "          (out): Linear(in_features=256, out_features=256, bias=True)\n",
              "        )\n",
              "        (cross_attn): MultiHeadAttention(\n",
              "          (q_linear): Linear(in_features=256, out_features=256, bias=True)\n",
              "          (v_linear): Linear(in_features=256, out_features=256, bias=True)\n",
              "          (k_linear): Linear(in_features=256, out_features=256, bias=True)\n",
              "          (dropout): Dropout(p=0.1, inplace=False)\n",
              "          (out): Linear(in_features=256, out_features=256, bias=True)\n",
              "        )\n",
              "        (ffn): FFN(\n",
              "          (fc1): Linear(in_features=256, out_features=512, bias=True)\n",
              "          (fc2): Linear(in_features=512, out_features=256, bias=True)\n",
              "          (drop): Dropout(p=0.1, inplace=False)\n",
              "        )\n",
              "      )\n",
              "      (1): DecoderBlock(\n",
              "        (norm1): LayerNorm((256,), eps=1e-06, elementwise_affine=True)\n",
              "        (norm2): LayerNorm((256,), eps=1e-06, elementwise_affine=True)\n",
              "        (norm3): LayerNorm((256,), eps=1e-06, elementwise_affine=True)\n",
              "        (mask_attn): MultiHeadAttention(\n",
              "          (q_linear): Linear(in_features=256, out_features=256, bias=True)\n",
              "          (v_linear): Linear(in_features=256, out_features=256, bias=True)\n",
              "          (k_linear): Linear(in_features=256, out_features=256, bias=True)\n",
              "          (dropout): Dropout(p=0.1, inplace=False)\n",
              "          (out): Linear(in_features=256, out_features=256, bias=True)\n",
              "        )\n",
              "        (cross_attn): MultiHeadAttention(\n",
              "          (q_linear): Linear(in_features=256, out_features=256, bias=True)\n",
              "          (v_linear): Linear(in_features=256, out_features=256, bias=True)\n",
              "          (k_linear): Linear(in_features=256, out_features=256, bias=True)\n",
              "          (dropout): Dropout(p=0.1, inplace=False)\n",
              "          (out): Linear(in_features=256, out_features=256, bias=True)\n",
              "        )\n",
              "        (ffn): FFN(\n",
              "          (fc1): Linear(in_features=256, out_features=512, bias=True)\n",
              "          (fc2): Linear(in_features=512, out_features=256, bias=True)\n",
              "          (drop): Dropout(p=0.1, inplace=False)\n",
              "        )\n",
              "      )\n",
              "      (2): DecoderBlock(\n",
              "        (norm1): LayerNorm((256,), eps=1e-06, elementwise_affine=True)\n",
              "        (norm2): LayerNorm((256,), eps=1e-06, elementwise_affine=True)\n",
              "        (norm3): LayerNorm((256,), eps=1e-06, elementwise_affine=True)\n",
              "        (mask_attn): MultiHeadAttention(\n",
              "          (q_linear): Linear(in_features=256, out_features=256, bias=True)\n",
              "          (v_linear): Linear(in_features=256, out_features=256, bias=True)\n",
              "          (k_linear): Linear(in_features=256, out_features=256, bias=True)\n",
              "          (dropout): Dropout(p=0.1, inplace=False)\n",
              "          (out): Linear(in_features=256, out_features=256, bias=True)\n",
              "        )\n",
              "        (cross_attn): MultiHeadAttention(\n",
              "          (q_linear): Linear(in_features=256, out_features=256, bias=True)\n",
              "          (v_linear): Linear(in_features=256, out_features=256, bias=True)\n",
              "          (k_linear): Linear(in_features=256, out_features=256, bias=True)\n",
              "          (dropout): Dropout(p=0.1, inplace=False)\n",
              "          (out): Linear(in_features=256, out_features=256, bias=True)\n",
              "        )\n",
              "        (ffn): FFN(\n",
              "          (fc1): Linear(in_features=256, out_features=512, bias=True)\n",
              "          (fc2): Linear(in_features=512, out_features=256, bias=True)\n",
              "          (drop): Dropout(p=0.1, inplace=False)\n",
              "        )\n",
              "      )\n",
              "      (3): DecoderBlock(\n",
              "        (norm1): LayerNorm((256,), eps=1e-06, elementwise_affine=True)\n",
              "        (norm2): LayerNorm((256,), eps=1e-06, elementwise_affine=True)\n",
              "        (norm3): LayerNorm((256,), eps=1e-06, elementwise_affine=True)\n",
              "        (mask_attn): MultiHeadAttention(\n",
              "          (q_linear): Linear(in_features=256, out_features=256, bias=True)\n",
              "          (v_linear): Linear(in_features=256, out_features=256, bias=True)\n",
              "          (k_linear): Linear(in_features=256, out_features=256, bias=True)\n",
              "          (dropout): Dropout(p=0.1, inplace=False)\n",
              "          (out): Linear(in_features=256, out_features=256, bias=True)\n",
              "        )\n",
              "        (cross_attn): MultiHeadAttention(\n",
              "          (q_linear): Linear(in_features=256, out_features=256, bias=True)\n",
              "          (v_linear): Linear(in_features=256, out_features=256, bias=True)\n",
              "          (k_linear): Linear(in_features=256, out_features=256, bias=True)\n",
              "          (dropout): Dropout(p=0.1, inplace=False)\n",
              "          (out): Linear(in_features=256, out_features=256, bias=True)\n",
              "        )\n",
              "        (ffn): FFN(\n",
              "          (fc1): Linear(in_features=256, out_features=512, bias=True)\n",
              "          (fc2): Linear(in_features=512, out_features=256, bias=True)\n",
              "          (drop): Dropout(p=0.1, inplace=False)\n",
              "        )\n",
              "      )\n",
              "    )\n",
              "  )\n",
              "  (final_layer): Linear(in_features=256, out_features=336037, bias=True)\n",
              ")"
            ]
          },
          "metadata": {},
          "execution_count": 24
        }
      ]
    },
    {
      "cell_type": "code",
      "source": [
        "imgs, captions = next(iter(test_loader))"
      ],
      "metadata": {
        "id": "16NTmtYgpK7R"
      },
      "execution_count": null,
      "outputs": []
    },
    {
      "cell_type": "code",
      "source": [
        "print(imgs.shape)\n",
        "print(captions.shape)\n",
        "\n",
        "x = imgs[0]\n",
        "y = captions[0]\n",
        "plt.imshow(x.permute(1,2,0))\n",
        "print(y)\n",
        "for i in y:\n",
        "    print(test_dataset.vocab.itos[int(i)],end=\" \")"
      ],
      "metadata": {
        "colab": {
          "base_uri": "https://localhost:8080/",
          "height": 391
        },
        "id": "UAl25Nrcypvi",
        "outputId": "a73b3c66-7ef3-40d3-92f1-49bd27fccd95"
      },
      "execution_count": null,
      "outputs": [
        {
          "output_type": "stream",
          "name": "stderr",
          "text": [
            "WARNING:matplotlib.image:Clipping input data to the valid range for imshow with RGB data ([0..1] for floats or [0..255] for integers).\n"
          ]
        },
        {
          "output_type": "stream",
          "name": "stdout",
          "text": [
            "torch.Size([32, 3, 256, 256])\n",
            "torch.Size([32, 21])\n",
            "tensor([    1, 57183, 49641, 57582, 57338, 57617,     3, 57428, 57617,     3,\n",
            "        50310, 57487, 55807, 57307, 53396, 57621,     2,     0,     0,     0,\n",
            "            0])\n",
            "<SOS> an elderly man wearing a <UNK> riding a <UNK> scooter while shopping for shoes . <EOS> <PAD> <PAD> <PAD> <PAD> "
          ]
        },
        {
          "output_type": "display_data",
          "data": {
            "text/plain": [
              "<Figure size 432x288 with 1 Axes>"
            ],
            "image/png": "[encoded data removed]"
          },
          "metadata": {
            "needs_background": "light"
          }
        }
      ]
    },
    {
      "cell_type": "code",
      "source": [
        "imgs = imgs.to(device)\n",
        "features = model.encoder(imgs)"
      ],
      "metadata": {
        "id": "sVXatUdKy3sF"
      },
      "execution_count": null,
      "outputs": []
    },
    {
      "cell_type": "code",
      "source": [
        "output = model.final_layer(features)"
      ],
      "metadata": {
        "colab": {
          "base_uri": "https://localhost:8080/",
          "height": 329
        },
        "id": "p1Mpge7M0BtW",
        "outputId": "375ca395-7cf0-484b-ab25-6efadfc78525"
      },
      "execution_count": null,
      "outputs": [
        {
          "output_type": "error",
          "ename": "RuntimeError",
          "evalue": "ignored",
          "traceback": [
            "\u001b[0;31m---------------------------------------------------------------------------\u001b[0m",
            "\u001b[0;31mRuntimeError\u001b[0m                              Traceback (most recent call last)",
            "\u001b[0;32m<ipython-input-60-bfc70b963bdd>\u001b[0m in \u001b[0;36m<module>\u001b[0;34m()\u001b[0m\n\u001b[0;32m----> 1\u001b[0;31m \u001b[0moutput\u001b[0m \u001b[0;34m=\u001b[0m \u001b[0mmodel\u001b[0m\u001b[0;34m.\u001b[0m\u001b[0mfinal_layer\u001b[0m\u001b[0;34m(\u001b[0m\u001b[0mfeatures\u001b[0m\u001b[0;34m)\u001b[0m\u001b[0;34m\u001b[0m\u001b[0;34m\u001b[0m\u001b[0m\n\u001b[0m",
            "\u001b[0;32m/usr/local/lib/python3.7/dist-packages/torch/nn/modules/module.py\u001b[0m in \u001b[0;36m_call_impl\u001b[0;34m(self, *input, **kwargs)\u001b[0m\n\u001b[1;32m   1128\u001b[0m         if not (self._backward_hooks or self._forward_hooks or self._forward_pre_hooks or _global_backward_hooks\n\u001b[1;32m   1129\u001b[0m                 or _global_forward_hooks or _global_forward_pre_hooks):\n\u001b[0;32m-> 1130\u001b[0;31m             \u001b[0;32mreturn\u001b[0m \u001b[0mforward_call\u001b[0m\u001b[0;34m(\u001b[0m\u001b[0;34m*\u001b[0m\u001b[0minput\u001b[0m\u001b[0;34m,\u001b[0m \u001b[0;34m**\u001b[0m\u001b[0mkwargs\u001b[0m\u001b[0;34m)\u001b[0m\u001b[0;34m\u001b[0m\u001b[0;34m\u001b[0m\u001b[0m\n\u001b[0m\u001b[1;32m   1131\u001b[0m         \u001b[0;31m# Do not call functions when jit is used\u001b[0m\u001b[0;34m\u001b[0m\u001b[0;34m\u001b[0m\u001b[0;34m\u001b[0m\u001b[0m\n\u001b[1;32m   1132\u001b[0m         \u001b[0mfull_backward_hooks\u001b[0m\u001b[0;34m,\u001b[0m \u001b[0mnon_full_backward_hooks\u001b[0m \u001b[0;34m=\u001b[0m \u001b[0;34m[\u001b[0m\u001b[0;34m]\u001b[0m\u001b[0;34m,\u001b[0m \u001b[0;34m[\u001b[0m\u001b[0;34m]\u001b[0m\u001b[0;34m\u001b[0m\u001b[0;34m\u001b[0m\u001b[0m\n",
            "\u001b[0;32m/usr/local/lib/python3.7/dist-packages/torch/nn/modules/linear.py\u001b[0m in \u001b[0;36mforward\u001b[0;34m(self, input)\u001b[0m\n\u001b[1;32m    112\u001b[0m \u001b[0;34m\u001b[0m\u001b[0m\n\u001b[1;32m    113\u001b[0m     \u001b[0;32mdef\u001b[0m \u001b[0mforward\u001b[0m\u001b[0;34m(\u001b[0m\u001b[0mself\u001b[0m\u001b[0;34m,\u001b[0m \u001b[0minput\u001b[0m\u001b[0;34m:\u001b[0m \u001b[0mTensor\u001b[0m\u001b[0;34m)\u001b[0m \u001b[0;34m->\u001b[0m \u001b[0mTensor\u001b[0m\u001b[0;34m:\u001b[0m\u001b[0;34m\u001b[0m\u001b[0;34m\u001b[0m\u001b[0m\n\u001b[0;32m--> 114\u001b[0;31m         \u001b[0;32mreturn\u001b[0m \u001b[0mF\u001b[0m\u001b[0;34m.\u001b[0m\u001b[0mlinear\u001b[0m\u001b[0;34m(\u001b[0m\u001b[0minput\u001b[0m\u001b[0;34m,\u001b[0m \u001b[0mself\u001b[0m\u001b[0;34m.\u001b[0m\u001b[0mweight\u001b[0m\u001b[0;34m,\u001b[0m \u001b[0mself\u001b[0m\u001b[0;34m.\u001b[0m\u001b[0mbias\u001b[0m\u001b[0;34m)\u001b[0m\u001b[0;34m\u001b[0m\u001b[0;34m\u001b[0m\u001b[0m\n\u001b[0m\u001b[1;32m    115\u001b[0m \u001b[0;34m\u001b[0m\u001b[0m\n\u001b[1;32m    116\u001b[0m     \u001b[0;32mdef\u001b[0m \u001b[0mextra_repr\u001b[0m\u001b[0;34m(\u001b[0m\u001b[0mself\u001b[0m\u001b[0;34m)\u001b[0m \u001b[0;34m->\u001b[0m \u001b[0mstr\u001b[0m\u001b[0;34m:\u001b[0m\u001b[0;34m\u001b[0m\u001b[0;34m\u001b[0m\u001b[0m\n",
            "\u001b[0;31mRuntimeError\u001b[0m: CUDA out of memory. Tried to allocate 10.26 GiB (GPU 0; 15.90 GiB total capacity; 9.12 GiB already allocated; 5.70 GiB free; 9.18 GiB reserved in total by PyTorch) If reserved memory is >> allocated memory try setting max_split_size_mb to avoid fragmentation.  See documentation for Memory Management and PYTORCH_CUDA_ALLOC_CONF"
          ]
        }
      ]
    },
    {
      "cell_type": "code",
      "source": [
        "batch_size = 10\n",
        "len_q = 196\n",
        "len_k = 196\n",
        "max_len = 52\n",
        "embed_dim = 512\n",
        "encoder_dim = 2048\n",
        "QKVdim = 64\n",
        "Q_dim=embed_dim\n",
        "K_dim=encoder_dim\n",
        "n_heads=8\n",
        "\n",
        "Q = torch.ones([batch_size, max_len, embed_dim])\n",
        "K = torch.ones([batch_size, len_k, encoder_dim])\n",
        "V = torch.ones([batch_size, len_k, encoder_dim])"
      ],
      "metadata": {
        "id": "ViNsb1c80qI2"
      },
      "execution_count": null,
      "outputs": []
    },
    {
      "cell_type": "code",
      "source": [
        "W_Q = nn.Linear(Q_dim, QKVdim * n_heads)\n",
        "W_K = nn.Linear(K_dim, QKVdim * n_heads)\n",
        "W_V = nn.Linear(K_dim, QKVdim * n_heads)\n",
        "W_O = nn.Linear(n_heads * QKVdim, embed_dim)"
      ],
      "metadata": {
        "id": "OLMUdWJo6oGY"
      },
      "execution_count": null,
      "outputs": []
    },
    {
      "cell_type": "code",
      "source": [
        "W_O"
      ],
      "metadata": {
        "colab": {
          "base_uri": "https://localhost:8080/"
        },
        "id": "EG4mMltC_T-J",
        "outputId": "f8389749-a49c-4924-f522-ddb5b98659bf"
      },
      "execution_count": null,
      "outputs": [
        {
          "output_type": "execute_result",
          "data": {
            "text/plain": [
              "Linear(in_features=512, out_features=512, bias=True)"
            ]
          },
          "metadata": {},
          "execution_count": 33
        }
      ]
    },
    {
      "cell_type": "code",
      "source": [
        "q_s = W_Q(Q).view(batch_size, -1, n_heads, QKVdim).transpose(1, 2)\n",
        "k_s = W_K(K).view(batch_size, -1, n_heads, QKVdim).transpose(1, 2)\n",
        "v_s = W_V(V).view(batch_size, -1, n_heads, QKVdim).transpose(1, 2)"
      ],
      "metadata": {
        "id": "tRs-aGx-6pYY"
      },
      "execution_count": null,
      "outputs": []
    },
    {
      "cell_type": "code",
      "source": [
        "print(q_s.shape)\n",
        "print(k_s.shape)\n",
        "print(v_s.shape)"
      ],
      "metadata": {
        "colab": {
          "base_uri": "https://localhost:8080/"
        },
        "id": "NGfFtDCh8Y9k",
        "outputId": "d98997f6-72d6-46f7-8af6-1b900ca4cc57"
      },
      "execution_count": null,
      "outputs": [
        {
          "output_type": "stream",
          "name": "stdout",
          "text": [
            "torch.Size([10, 8, 52, 64])\n",
            "torch.Size([10, 8, 196, 64])\n",
            "torch.Size([10, 8, 196, 64])\n"
          ]
        }
      ]
    },
    {
      "cell_type": "code",
      "source": [
        "scores = torch.matmul(q_s, k_s.transpose(-1, -2)) / np.sqrt(QKVdim)\n",
        "print(\"Scores shape: \", scores.shape)\n",
        "attn = nn.Softmax(dim=-1)(scores)\n",
        "print(\"Attention shape: \", attn.shape)\n",
        "context = torch.matmul(attn, v_s)\n",
        "print(\"Context shape: \", context.shape) #[batch_size, n_heads, len_q, QKVdim]"
      ],
      "metadata": {
        "colab": {
          "base_uri": "https://localhost:8080/"
        },
        "id": "8M7e7ZLa8ghJ",
        "outputId": "7a5dc1a7-8a0d-4cb8-909e-91d27408a140"
      },
      "execution_count": null,
      "outputs": [
        {
          "output_type": "stream",
          "name": "stdout",
          "text": [
            "Scores shape:  torch.Size([10, 8, 52, 196])\n",
            "Attention shape:  torch.Size([10, 8, 52, 196])\n",
            "Context shape:  torch.Size([10, 8, 52, 64])\n"
          ]
        }
      ]
    },
    {
      "cell_type": "code",
      "source": [
        "context = context.transpose(1, 2).contiguous().view(batch_size, -1, n_heads * QKVdim) # output: [batch_size, len_q, embed_dim]\n",
        "print(\"Context shape for final linear layer: \", context.shape) #[batch_size, n_heads, len_q, QKVdim]"
      ],
      "metadata": {
        "colab": {
          "base_uri": "https://localhost:8080/"
        },
        "id": "REOoHYeK8oek",
        "outputId": "bedab927-a1d8-4cbc-be8b-bc34ee624a32"
      },
      "execution_count": null,
      "outputs": [
        {
          "output_type": "stream",
          "name": "stdout",
          "text": [
            "Context shape for final linear layer:  torch.Size([10, 52, 512])\n"
          ]
        }
      ]
    },
    {
      "cell_type": "code",
      "source": [
        "output = W_O(context)\n",
        "print(\"Output shape: \", output.shape)"
      ],
      "metadata": {
        "colab": {
          "base_uri": "https://localhost:8080/"
        },
        "id": "OBI8zEEf-dZY",
        "outputId": "ebe95226-dc4b-4dd8-c1e5-6048765de037"
      },
      "execution_count": null,
      "outputs": [
        {
          "output_type": "stream",
          "name": "stdout",
          "text": [
            "Output shape:  torch.Size([10, 52, 512])\n"
          ]
        }
      ]
    },
    {
      "cell_type": "code",
      "source": [
        "mean, std = (0.485, 0.456, 0.406), (0.229, 0.224, 0.225)\n",
        "img_size = 256\n",
        "\n",
        "train_transform = transforms.Compose([ \n",
        "    transforms.Resize((img_size, img_size)),\n",
        "    transforms.RandomHorizontalFlip(), \n",
        "    transforms.ToTensor(), \n",
        "    transforms.Normalize(mean, std)])\n",
        "\n",
        "train_loader, train_dataset = getLoader(root_dir=train_image_dir, \n",
        "                                         caption_path=train_caption_path, \n",
        "                                         word_frequency=5,\n",
        "                                         transform=train_transform, \n",
        "                                         batch_size=10, \n",
        "                                         num_workers=0, \n",
        "                                         shuffle=True, \n",
        "                                         pin_memory=True)\n"
      ],
      "metadata": {
        "colab": {
          "base_uri": "https://localhost:8080/",
          "height": 236
        },
        "id": "Rm23GD_lBxqO",
        "outputId": "caf19048-09f0-40d2-de09-41f6b0c8f379"
      },
      "execution_count": null,
      "outputs": [
        {
          "output_type": "error",
          "ename": "NameError",
          "evalue": "ignored",
          "traceback": [
            "\u001b[0;31m---------------------------------------------------------------------------\u001b[0m",
            "\u001b[0;31mNameError\u001b[0m                                 Traceback (most recent call last)",
            "\u001b[0;32m<ipython-input-36-87078342671b>\u001b[0m in \u001b[0;36m<module>\u001b[0;34m()\u001b[0m\n\u001b[1;32m      8\u001b[0m     transforms.Normalize(mean, std)])\n\u001b[1;32m      9\u001b[0m \u001b[0;34m\u001b[0m\u001b[0m\n\u001b[0;32m---> 10\u001b[0;31m train_loader, train_dataset = getLoader(root_dir=train_image_dir, \n\u001b[0m\u001b[1;32m     11\u001b[0m                                          \u001b[0mcaption_path\u001b[0m\u001b[0;34m=\u001b[0m\u001b[0mtrain_caption_path\u001b[0m\u001b[0;34m,\u001b[0m\u001b[0;34m\u001b[0m\u001b[0;34m\u001b[0m\u001b[0m\n\u001b[1;32m     12\u001b[0m                                          \u001b[0mword_frequency\u001b[0m\u001b[0;34m=\u001b[0m\u001b[0;36m5\u001b[0m\u001b[0;34m,\u001b[0m\u001b[0;34m\u001b[0m\u001b[0;34m\u001b[0m\u001b[0m\n",
            "\u001b[0;31mNameError\u001b[0m: name 'getLoader' is not defined"
          ]
        }
      ]
    },
    {
      "cell_type": "code",
      "source": [
        ""
      ],
      "metadata": {
        "id": "igHAw9_cBEjJ"
      },
      "execution_count": null,
      "outputs": []
    }
  ],
  "metadata": {
    "colab": {
      "collapsed_sections": [
        "Ry6Pk1kDA7LH",
        "HANXhSr_raT4",
        "VXA9naVy3GXK",
        "ZLX7JW2G3KNt"
      ],
      "name": "ImgCaptioning_Transformer_flickr8k",
      "provenance": [],
      "machine_shape": "hm",
      "authorship_tag": "ABX9TyODtymXLFjxaPTbPfvSXTQ4",
      "include_colab_link": true
    },
    "gpuClass": "standard",
    "kernelspec": {
      "display_name": "Python 3",
      "name": "python3"
    },
    "language_info": {
      "name": "python"
    }
  },
  "nbformat": 4,
  "nbformat_minor": 0
}